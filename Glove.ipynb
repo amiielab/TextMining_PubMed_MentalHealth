{
  "nbformat": 4,
  "nbformat_minor": 0,
  "metadata": {
    "colab": {
      "provenance": [],
      "collapsed_sections": [
        "52IhHOhcfha1",
        "hsP-b0ebfkBi",
        "9lbwT1CTkK_F",
        "mA7WEqeq2o8k",
        "FlDm33rx2tVE",
        "Y31HfmD-2xmo",
        "o3zXBWBZ23KJ"
      ],
      "gpuType": "A100"
    },
    "kernelspec": {
      "name": "python3",
      "display_name": "Python 3"
    },
    "language_info": {
      "name": "python"
    },
    "accelerator": "GPU"
  },
  "cells": [
    {
      "cell_type": "markdown",
      "source": [
        "# test\n"
      ],
      "metadata": {
        "id": "52IhHOhcfha1"
      }
    },
    {
      "cell_type": "code",
      "source": [],
      "metadata": {
        "id": "SEWoOyLSOl_9"
      },
      "execution_count": null,
      "outputs": []
    },
    {
      "cell_type": "code",
      "source": [
        "import pandas as pd"
      ],
      "metadata": {
        "id": "TWL7yWhgfncZ"
      },
      "execution_count": null,
      "outputs": []
    },
    {
      "cell_type": "code",
      "source": [
        "df = pd.read_csv(\"/content/drive/MyDrive/MajorProject/final_preprocessed_data_jan.csv\")"
      ],
      "metadata": {
        "id": "DFNWCXTwfqtW"
      },
      "execution_count": null,
      "outputs": []
    },
    {
      "cell_type": "code",
      "source": [
        "abstracts_output_file_path = '/content/drive/MyDrive/MajorProject/final_processed_abstracts_jan.txt'\n",
        "\n",
        "# Save the 'processed_abstract' column to a text file\n",
        "with open(abstracts_output_file_path, 'w', encoding='utf-8') as file:\n",
        "    for abstract in df['processed_abstract']:\n",
        "      try:\n",
        "        file.write(abstract + '\\n')\n",
        "      except:\n",
        "        print(abstract)"
      ],
      "metadata": {
        "colab": {
          "base_uri": "https://localhost:8080/"
        },
        "id": "8EcVQ3aMfqwG",
        "outputId": "f7def230-3926-4fcb-a272-1b655f18b293"
      },
      "execution_count": null,
      "outputs": [
        {
          "output_type": "stream",
          "name": "stdout",
          "text": [
            "nan\n",
            "nan\n",
            "nan\n",
            "nan\n",
            "nan\n",
            "nan\n",
            "nan\n",
            "nan\n",
            "nan\n",
            "nan\n",
            "nan\n",
            "nan\n",
            "nan\n",
            "nan\n",
            "nan\n",
            "nan\n"
          ]
        }
      ]
    },
    {
      "cell_type": "code",
      "source": [
        "df.head()"
      ],
      "metadata": {
        "colab": {
          "base_uri": "https://localhost:8080/",
          "height": 206
        },
        "id": "IN3fFX-8i5x5",
        "outputId": "66152e3e-3abf-4ffb-bccd-451702030873"
      },
      "execution_count": null,
      "outputs": [
        {
          "output_type": "execute_result",
          "data": {
            "text/plain": [
              "   Index                                          Abstracts  \\\n",
              "0      1   The hypothesis of an important role of gut mi...   \n",
              "1      2   Cannabis use has been reported to induce long...   \n",
              "2      3   Cannabidiol (CBD) is a non-psychotomimetic ph...   \n",
              "3      4   OBJECTIVE: Women with a history of bipolar di...   \n",
              "4      5   The poor physical health faced by people with...   \n",
              "\n",
              "                                  processed_abstract  \n",
              "0  hypothesis important role gut microbiota maint...  \n",
              "1  cannabis use reported induce psychotic disorde...  \n",
              "2  cannabidiol cbd phytocannabinoid derived canna...  \n",
              "3  objective women history bipolar disorder postp...  \n",
              "4  poor physical health faced people mental illne...  "
            ],
            "text/html": [
              "\n",
              "  <div id=\"df-95c2d6e8-12ee-4c51-ae5d-3063f79cade8\" class=\"colab-df-container\">\n",
              "    <div>\n",
              "<style scoped>\n",
              "    .dataframe tbody tr th:only-of-type {\n",
              "        vertical-align: middle;\n",
              "    }\n",
              "\n",
              "    .dataframe tbody tr th {\n",
              "        vertical-align: top;\n",
              "    }\n",
              "\n",
              "    .dataframe thead th {\n",
              "        text-align: right;\n",
              "    }\n",
              "</style>\n",
              "<table border=\"1\" class=\"dataframe\">\n",
              "  <thead>\n",
              "    <tr style=\"text-align: right;\">\n",
              "      <th></th>\n",
              "      <th>Index</th>\n",
              "      <th>Abstracts</th>\n",
              "      <th>processed_abstract</th>\n",
              "    </tr>\n",
              "  </thead>\n",
              "  <tbody>\n",
              "    <tr>\n",
              "      <th>0</th>\n",
              "      <td>1</td>\n",
              "      <td>The hypothesis of an important role of gut mi...</td>\n",
              "      <td>hypothesis important role gut microbiota maint...</td>\n",
              "    </tr>\n",
              "    <tr>\n",
              "      <th>1</th>\n",
              "      <td>2</td>\n",
              "      <td>Cannabis use has been reported to induce long...</td>\n",
              "      <td>cannabis use reported induce psychotic disorde...</td>\n",
              "    </tr>\n",
              "    <tr>\n",
              "      <th>2</th>\n",
              "      <td>3</td>\n",
              "      <td>Cannabidiol (CBD) is a non-psychotomimetic ph...</td>\n",
              "      <td>cannabidiol cbd phytocannabinoid derived canna...</td>\n",
              "    </tr>\n",
              "    <tr>\n",
              "      <th>3</th>\n",
              "      <td>4</td>\n",
              "      <td>OBJECTIVE: Women with a history of bipolar di...</td>\n",
              "      <td>objective women history bipolar disorder postp...</td>\n",
              "    </tr>\n",
              "    <tr>\n",
              "      <th>4</th>\n",
              "      <td>5</td>\n",
              "      <td>The poor physical health faced by people with...</td>\n",
              "      <td>poor physical health faced people mental illne...</td>\n",
              "    </tr>\n",
              "  </tbody>\n",
              "</table>\n",
              "</div>\n",
              "    <div class=\"colab-df-buttons\">\n",
              "\n",
              "  <div class=\"colab-df-container\">\n",
              "    <button class=\"colab-df-convert\" onclick=\"convertToInteractive('df-95c2d6e8-12ee-4c51-ae5d-3063f79cade8')\"\n",
              "            title=\"Convert this dataframe to an interactive table.\"\n",
              "            style=\"display:none;\">\n",
              "\n",
              "  <svg xmlns=\"http://www.w3.org/2000/svg\" height=\"24px\" viewBox=\"0 -960 960 960\">\n",
              "    <path d=\"M120-120v-720h720v720H120Zm60-500h600v-160H180v160Zm220 220h160v-160H400v160Zm0 220h160v-160H400v160ZM180-400h160v-160H180v160Zm440 0h160v-160H620v160ZM180-180h160v-160H180v160Zm440 0h160v-160H620v160Z\"/>\n",
              "  </svg>\n",
              "    </button>\n",
              "\n",
              "  <style>\n",
              "    .colab-df-container {\n",
              "      display:flex;\n",
              "      gap: 12px;\n",
              "    }\n",
              "\n",
              "    .colab-df-convert {\n",
              "      background-color: #E8F0FE;\n",
              "      border: none;\n",
              "      border-radius: 50%;\n",
              "      cursor: pointer;\n",
              "      display: none;\n",
              "      fill: #1967D2;\n",
              "      height: 32px;\n",
              "      padding: 0 0 0 0;\n",
              "      width: 32px;\n",
              "    }\n",
              "\n",
              "    .colab-df-convert:hover {\n",
              "      background-color: #E2EBFA;\n",
              "      box-shadow: 0px 1px 2px rgba(60, 64, 67, 0.3), 0px 1px 3px 1px rgba(60, 64, 67, 0.15);\n",
              "      fill: #174EA6;\n",
              "    }\n",
              "\n",
              "    .colab-df-buttons div {\n",
              "      margin-bottom: 4px;\n",
              "    }\n",
              "\n",
              "    [theme=dark] .colab-df-convert {\n",
              "      background-color: #3B4455;\n",
              "      fill: #D2E3FC;\n",
              "    }\n",
              "\n",
              "    [theme=dark] .colab-df-convert:hover {\n",
              "      background-color: #434B5C;\n",
              "      box-shadow: 0px 1px 3px 1px rgba(0, 0, 0, 0.15);\n",
              "      filter: drop-shadow(0px 1px 2px rgba(0, 0, 0, 0.3));\n",
              "      fill: #FFFFFF;\n",
              "    }\n",
              "  </style>\n",
              "\n",
              "    <script>\n",
              "      const buttonEl =\n",
              "        document.querySelector('#df-95c2d6e8-12ee-4c51-ae5d-3063f79cade8 button.colab-df-convert');\n",
              "      buttonEl.style.display =\n",
              "        google.colab.kernel.accessAllowed ? 'block' : 'none';\n",
              "\n",
              "      async function convertToInteractive(key) {\n",
              "        const element = document.querySelector('#df-95c2d6e8-12ee-4c51-ae5d-3063f79cade8');\n",
              "        const dataTable =\n",
              "          await google.colab.kernel.invokeFunction('convertToInteractive',\n",
              "                                                    [key], {});\n",
              "        if (!dataTable) return;\n",
              "\n",
              "        const docLinkHtml = 'Like what you see? Visit the ' +\n",
              "          '<a target=\"_blank\" href=https://colab.research.google.com/notebooks/data_table.ipynb>data table notebook</a>'\n",
              "          + ' to learn more about interactive tables.';\n",
              "        element.innerHTML = '';\n",
              "        dataTable['output_type'] = 'display_data';\n",
              "        await google.colab.output.renderOutput(dataTable, element);\n",
              "        const docLink = document.createElement('div');\n",
              "        docLink.innerHTML = docLinkHtml;\n",
              "        element.appendChild(docLink);\n",
              "      }\n",
              "    </script>\n",
              "  </div>\n",
              "\n",
              "\n",
              "<div id=\"df-6f2d8661-cd9e-46ce-afec-9dd7b97105c8\">\n",
              "  <button class=\"colab-df-quickchart\" onclick=\"quickchart('df-6f2d8661-cd9e-46ce-afec-9dd7b97105c8')\"\n",
              "            title=\"Suggest charts\"\n",
              "            style=\"display:none;\">\n",
              "\n",
              "<svg xmlns=\"http://www.w3.org/2000/svg\" height=\"24px\"viewBox=\"0 0 24 24\"\n",
              "     width=\"24px\">\n",
              "    <g>\n",
              "        <path d=\"M19 3H5c-1.1 0-2 .9-2 2v14c0 1.1.9 2 2 2h14c1.1 0 2-.9 2-2V5c0-1.1-.9-2-2-2zM9 17H7v-7h2v7zm4 0h-2V7h2v10zm4 0h-2v-4h2v4z\"/>\n",
              "    </g>\n",
              "</svg>\n",
              "  </button>\n",
              "\n",
              "<style>\n",
              "  .colab-df-quickchart {\n",
              "      --bg-color: #E8F0FE;\n",
              "      --fill-color: #1967D2;\n",
              "      --hover-bg-color: #E2EBFA;\n",
              "      --hover-fill-color: #174EA6;\n",
              "      --disabled-fill-color: #AAA;\n",
              "      --disabled-bg-color: #DDD;\n",
              "  }\n",
              "\n",
              "  [theme=dark] .colab-df-quickchart {\n",
              "      --bg-color: #3B4455;\n",
              "      --fill-color: #D2E3FC;\n",
              "      --hover-bg-color: #434B5C;\n",
              "      --hover-fill-color: #FFFFFF;\n",
              "      --disabled-bg-color: #3B4455;\n",
              "      --disabled-fill-color: #666;\n",
              "  }\n",
              "\n",
              "  .colab-df-quickchart {\n",
              "    background-color: var(--bg-color);\n",
              "    border: none;\n",
              "    border-radius: 50%;\n",
              "    cursor: pointer;\n",
              "    display: none;\n",
              "    fill: var(--fill-color);\n",
              "    height: 32px;\n",
              "    padding: 0;\n",
              "    width: 32px;\n",
              "  }\n",
              "\n",
              "  .colab-df-quickchart:hover {\n",
              "    background-color: var(--hover-bg-color);\n",
              "    box-shadow: 0 1px 2px rgba(60, 64, 67, 0.3), 0 1px 3px 1px rgba(60, 64, 67, 0.15);\n",
              "    fill: var(--button-hover-fill-color);\n",
              "  }\n",
              "\n",
              "  .colab-df-quickchart-complete:disabled,\n",
              "  .colab-df-quickchart-complete:disabled:hover {\n",
              "    background-color: var(--disabled-bg-color);\n",
              "    fill: var(--disabled-fill-color);\n",
              "    box-shadow: none;\n",
              "  }\n",
              "\n",
              "  .colab-df-spinner {\n",
              "    border: 2px solid var(--fill-color);\n",
              "    border-color: transparent;\n",
              "    border-bottom-color: var(--fill-color);\n",
              "    animation:\n",
              "      spin 1s steps(1) infinite;\n",
              "  }\n",
              "\n",
              "  @keyframes spin {\n",
              "    0% {\n",
              "      border-color: transparent;\n",
              "      border-bottom-color: var(--fill-color);\n",
              "      border-left-color: var(--fill-color);\n",
              "    }\n",
              "    20% {\n",
              "      border-color: transparent;\n",
              "      border-left-color: var(--fill-color);\n",
              "      border-top-color: var(--fill-color);\n",
              "    }\n",
              "    30% {\n",
              "      border-color: transparent;\n",
              "      border-left-color: var(--fill-color);\n",
              "      border-top-color: var(--fill-color);\n",
              "      border-right-color: var(--fill-color);\n",
              "    }\n",
              "    40% {\n",
              "      border-color: transparent;\n",
              "      border-right-color: var(--fill-color);\n",
              "      border-top-color: var(--fill-color);\n",
              "    }\n",
              "    60% {\n",
              "      border-color: transparent;\n",
              "      border-right-color: var(--fill-color);\n",
              "    }\n",
              "    80% {\n",
              "      border-color: transparent;\n",
              "      border-right-color: var(--fill-color);\n",
              "      border-bottom-color: var(--fill-color);\n",
              "    }\n",
              "    90% {\n",
              "      border-color: transparent;\n",
              "      border-bottom-color: var(--fill-color);\n",
              "    }\n",
              "  }\n",
              "</style>\n",
              "\n",
              "  <script>\n",
              "    async function quickchart(key) {\n",
              "      const quickchartButtonEl =\n",
              "        document.querySelector('#' + key + ' button');\n",
              "      quickchartButtonEl.disabled = true;  // To prevent multiple clicks.\n",
              "      quickchartButtonEl.classList.add('colab-df-spinner');\n",
              "      try {\n",
              "        const charts = await google.colab.kernel.invokeFunction(\n",
              "            'suggestCharts', [key], {});\n",
              "      } catch (error) {\n",
              "        console.error('Error during call to suggestCharts:', error);\n",
              "      }\n",
              "      quickchartButtonEl.classList.remove('colab-df-spinner');\n",
              "      quickchartButtonEl.classList.add('colab-df-quickchart-complete');\n",
              "    }\n",
              "    (() => {\n",
              "      let quickchartButtonEl =\n",
              "        document.querySelector('#df-6f2d8661-cd9e-46ce-afec-9dd7b97105c8 button');\n",
              "      quickchartButtonEl.style.display =\n",
              "        google.colab.kernel.accessAllowed ? 'block' : 'none';\n",
              "    })();\n",
              "  </script>\n",
              "</div>\n",
              "\n",
              "    </div>\n",
              "  </div>\n"
            ]
          },
          "metadata": {},
          "execution_count": 5
        }
      ]
    },
    {
      "cell_type": "code",
      "source": [],
      "metadata": {
        "id": "v2pTJzw-fqyW"
      },
      "execution_count": null,
      "outputs": []
    },
    {
      "cell_type": "code",
      "source": [],
      "metadata": {
        "id": "Z-o4xhxJfq06"
      },
      "execution_count": null,
      "outputs": []
    },
    {
      "cell_type": "code",
      "source": [],
      "metadata": {
        "id": "CYZZTabffq4V"
      },
      "execution_count": null,
      "outputs": []
    },
    {
      "cell_type": "markdown",
      "source": [
        "#working"
      ],
      "metadata": {
        "id": "hsP-b0ebfkBi"
      }
    },
    {
      "cell_type": "markdown",
      "source": [
        "Preprocess the data"
      ],
      "metadata": {
        "id": "ywPmqXrehscC"
      }
    },
    {
      "cell_type": "code",
      "execution_count": null,
      "metadata": {
        "id": "G_lN5J26dhLf"
      },
      "outputs": [],
      "source": [
        "import pandas as pd\n",
        "import nltk\n",
        "from nltk.corpus import stopwords\n",
        "from nltk.tokenize import word_tokenize"
      ]
    },
    {
      "cell_type": "code",
      "source": [
        "!pip install plotly"
      ],
      "metadata": {
        "id": "ozbo6mrwz4qk",
        "colab": {
          "base_uri": "https://localhost:8080/"
        },
        "outputId": "12a46f83-729e-4183-d5d7-d8d8ab39787b"
      },
      "execution_count": null,
      "outputs": [
        {
          "output_type": "stream",
          "name": "stdout",
          "text": [
            "Requirement already satisfied: plotly in /usr/local/lib/python3.10/dist-packages (5.15.0)\n",
            "Requirement already satisfied: tenacity>=6.2.0 in /usr/local/lib/python3.10/dist-packages (from plotly) (8.2.3)\n",
            "Requirement already satisfied: packaging in /usr/local/lib/python3.10/dist-packages (from plotly) (23.2)\n"
          ]
        }
      ]
    },
    {
      "cell_type": "code",
      "source": [
        "# Download NLTK resources (stopwords)\n",
        "nltk.download('stopwords')\n",
        "nltk.download('punkt')"
      ],
      "metadata": {
        "id": "RyHhiLCxgDjf",
        "colab": {
          "base_uri": "https://localhost:8080/"
        },
        "outputId": "ea370fcb-85ac-4822-b253-e4b9b51f449e"
      },
      "execution_count": null,
      "outputs": [
        {
          "output_type": "stream",
          "name": "stderr",
          "text": [
            "[nltk_data] Downloading package stopwords to /root/nltk_data...\n",
            "[nltk_data]   Unzipping corpora/stopwords.zip.\n",
            "[nltk_data] Downloading package punkt to /root/nltk_data...\n",
            "[nltk_data]   Unzipping tokenizers/punkt.zip.\n"
          ]
        },
        {
          "output_type": "execute_result",
          "data": {
            "text/plain": [
              "True"
            ]
          },
          "metadata": {},
          "execution_count": 3
        }
      ]
    },
    {
      "cell_type": "code",
      "source": [
        "# Load the CSV file with abstracts\n",
        "csv_file_path = '/content/drive/MyDrive/MajorProject/final.csv'\n",
        "df = pd.read_csv(csv_file_path)"
      ],
      "metadata": {
        "id": "0LEogsKugF4M"
      },
      "execution_count": null,
      "outputs": []
    },
    {
      "cell_type": "code",
      "source": [
        "# Function for text preprocessing\n",
        "def preprocess_text(text):\n",
        "    # Tokenization\n",
        "    words = word_tokenize(text)\n",
        "\n",
        "    # Lowercasing\n",
        "    words = [word.lower() for word in words]\n",
        "\n",
        "    # Remove stop words\n",
        "    stop_words = set(stopwords.words('english'))\n",
        "    words = [word for word in words if word.isalpha() and word not in stop_words]\n",
        "\n",
        "    # Join the words back into a single string\n",
        "    processed_text = ' '.join(words)\n",
        "\n",
        "    return processed_text"
      ],
      "metadata": {
        "id": "A5TsfOKggIyy"
      },
      "execution_count": null,
      "outputs": []
    },
    {
      "cell_type": "code",
      "source": [
        "# Apply preprocessing to the 'abstract' column\n",
        "df['processed_abstract'] = df['Abstracts'].apply(preprocess_text)"
      ],
      "metadata": {
        "id": "45lFEDM9gLsb"
      },
      "execution_count": null,
      "outputs": []
    },
    {
      "cell_type": "code",
      "source": [
        "# Save the preprocessed data to a new CSV file\n",
        "output_file_path = 'final_preprocessed_data_jan.csv'\n",
        "df.to_csv(output_file_path, index=False)"
      ],
      "metadata": {
        "id": "QXE5Iw3sgO8w"
      },
      "execution_count": null,
      "outputs": []
    },
    {
      "cell_type": "code",
      "source": [
        "abstracts_output_file_path = 'processed_abstracts_jan.txt'\n",
        "\n",
        "# Save the 'processed_abstract' column to a text file\n",
        "with open(abstracts_output_file_path, 'w', encoding='utf-8') as file:\n",
        "    for abstract in df['processed_abstract']:\n",
        "        file.write(abstract + '\\n')"
      ],
      "metadata": {
        "id": "C1-umUF1kJD7"
      },
      "execution_count": null,
      "outputs": []
    },
    {
      "cell_type": "code",
      "source": [
        "file_name = '/content/drive/MyDrive/MajorProject/final_processed_abstracts_jan.txt'"
      ],
      "metadata": {
        "id": "AJBfbTSFkJGn"
      },
      "execution_count": null,
      "outputs": []
    },
    {
      "cell_type": "code",
      "source": [
        "def find_non_english_characters(file_path):\n",
        "    with open(file_path, 'r', encoding='utf-8') as file:\n",
        "        text = file.read()\n",
        "\n",
        "    non_english_chars = [char for char in text if ord(char) > 127]\n",
        "    return non_english_chars\n",
        "\n",
        "# Example usage\n",
        "file_path = file_name\n",
        "non_english_characters = find_non_english_characters(file_path)\n",
        "\n"
      ],
      "metadata": {
        "id": "QndXi52GPoDw"
      },
      "execution_count": null,
      "outputs": []
    },
    {
      "cell_type": "code",
      "source": [
        "print(non_english_characters[100])"
      ],
      "metadata": {
        "colab": {
          "base_uri": "https://localhost:8080/"
        },
        "id": "EM77JnAESUPu",
        "outputId": "8f884f0b-6451-41ae-ea48-9a1a7233d5f2"
      },
      "execution_count": null,
      "outputs": [
        {
          "output_type": "stream",
          "name": "stdout",
          "text": [
            "β\n"
          ]
        }
      ]
    },
    {
      "cell_type": "code",
      "source": [
        "large_set = set(non_english_characters)\n",
        "\n",
        "len(large_set)"
      ],
      "metadata": {
        "colab": {
          "base_uri": "https://localhost:8080/"
        },
        "id": "35Cn0x9XTPvb",
        "outputId": "952c1399-6a02-47b3-9ae2-4088116d81bb"
      },
      "execution_count": null,
      "outputs": [
        {
          "output_type": "execute_result",
          "data": {
            "text/plain": [
              "2533"
            ]
          },
          "metadata": {},
          "execution_count": 8
        }
      ]
    },
    {
      "cell_type": "code",
      "source": [
        "item_to_find = '研究'\n",
        "found = item_to_find in large_set"
      ],
      "metadata": {
        "id": "3-P_aNIuTPy1"
      },
      "execution_count": null,
      "outputs": []
    },
    {
      "cell_type": "code",
      "source": [
        "found"
      ],
      "metadata": {
        "colab": {
          "base_uri": "https://localhost:8080/"
        },
        "id": "Gb2p3KKsTVGg",
        "outputId": "a595630d-42d2-45ff-c7ff-c4e3551ddaa9"
      },
      "execution_count": null,
      "outputs": [
        {
          "output_type": "execute_result",
          "data": {
            "text/plain": [
              "False"
            ]
          },
          "metadata": {},
          "execution_count": 17
        }
      ]
    },
    {
      "cell_type": "markdown",
      "source": [
        "# Training the glove model"
      ],
      "metadata": {
        "id": "9lbwT1CTkK_F"
      }
    },
    {
      "cell_type": "code",
      "source": [
        "! git clone https://github.com/stanfordnlp/glove"
      ],
      "metadata": {
        "id": "rlZ4NbNhkJJI",
        "colab": {
          "base_uri": "https://localhost:8080/"
        },
        "outputId": "441e628e-f96c-4fc4-dc25-2ee36692ae96"
      },
      "execution_count": null,
      "outputs": [
        {
          "output_type": "stream",
          "name": "stdout",
          "text": [
            "Cloning into 'glove'...\n",
            "remote: Enumerating objects: 656, done.\u001b[K\n",
            "remote: Counting objects: 100% (64/64), done.\u001b[K\n",
            "remote: Compressing objects: 100% (32/32), done.\u001b[K\n",
            "remote: Total 656 (delta 36), reused 47 (delta 32), pack-reused 592\u001b[K\n",
            "Receiving objects: 100% (656/656), 245.96 KiB | 1.57 MiB/s, done.\n",
            "Resolving deltas: 100% (374/374), done.\n"
          ]
        }
      ]
    },
    {
      "cell_type": "code",
      "source": [
        "import os\n",
        "path2= '/content/drive/MyDrive/MajorProject'\n",
        "# os.chdir(path2)\n",
        "os.chdir('/content/glove')"
      ],
      "metadata": {
        "id": "kt0zOppZkJPC"
      },
      "execution_count": null,
      "outputs": []
    },
    {
      "cell_type": "code",
      "source": [
        "!make"
      ],
      "metadata": {
        "id": "QW0HbUiKkJR7",
        "colab": {
          "base_uri": "https://localhost:8080/"
        },
        "outputId": "a2121e96-c93c-4c39-8dae-25d6bf5d5168"
      },
      "execution_count": null,
      "outputs": [
        {
          "output_type": "stream",
          "name": "stdout",
          "text": [
            "mkdir -p build\n",
            "gcc -c src/vocab_count.c -o build/vocab_count.o -lm -pthread -O3 -march=native -funroll-loops -Wall -Wextra -Wpedantic\n",
            "gcc -c src/cooccur.c -o build/cooccur.o -lm -pthread -O3 -march=native -funroll-loops -Wall -Wextra -Wpedantic\n",
            "\u001b[01m\u001b[Ksrc/cooccur.c:\u001b[m\u001b[K In function ‘\u001b[01m\u001b[Kmerge_files\u001b[m\u001b[K’:\n",
            "\u001b[01m\u001b[Ksrc/cooccur.c:180:9:\u001b[m\u001b[K \u001b[01;35m\u001b[Kwarning: \u001b[m\u001b[Kignoring return value of ‘\u001b[01m\u001b[Kfread\u001b[m\u001b[K’ declared with attribute ‘\u001b[01m\u001b[Kwarn_unused_result\u001b[m\u001b[K’ [\u001b[01;35m\u001b[K\u001b]8;;https://gcc.gnu.org/onlinedocs/gcc/Warning-Options.html#index-Wunused-result\u0007-Wunused-result\u001b]8;;\u0007\u001b[m\u001b[K]\n",
            "  180 |         \u001b[01;35m\u001b[Kfread(&new, sizeof(CREC), 1, fid[i])\u001b[m\u001b[K;\n",
            "      |         \u001b[01;35m\u001b[K^~~~~~~~~~~~~~~~~~~~~~~~~~~~~~~~~~~~\u001b[m\u001b[K\n",
            "\u001b[01m\u001b[Ksrc/cooccur.c:190:5:\u001b[m\u001b[K \u001b[01;35m\u001b[Kwarning: \u001b[m\u001b[Kignoring return value of ‘\u001b[01m\u001b[Kfread\u001b[m\u001b[K’ declared with attribute ‘\u001b[01m\u001b[Kwarn_unused_result\u001b[m\u001b[K’ [\u001b[01;35m\u001b[K\u001b]8;;https://gcc.gnu.org/onlinedocs/gcc/Warning-Options.html#index-Wunused-result\u0007-Wunused-result\u001b]8;;\u0007\u001b[m\u001b[K]\n",
            "  190 |     \u001b[01;35m\u001b[Kfread(&new, sizeof(CREC), 1, fid[i])\u001b[m\u001b[K;\n",
            "      |     \u001b[01;35m\u001b[K^~~~~~~~~~~~~~~~~~~~~~~~~~~~~~~~~~~~\u001b[m\u001b[K\n",
            "\u001b[01m\u001b[Ksrc/cooccur.c:203:9:\u001b[m\u001b[K \u001b[01;35m\u001b[Kwarning: \u001b[m\u001b[Kignoring return value of ‘\u001b[01m\u001b[Kfread\u001b[m\u001b[K’ declared with attribute ‘\u001b[01m\u001b[Kwarn_unused_result\u001b[m\u001b[K’ [\u001b[01;35m\u001b[K\u001b]8;;https://gcc.gnu.org/onlinedocs/gcc/Warning-Options.html#index-Wunused-result\u0007-Wunused-result\u001b]8;;\u0007\u001b[m\u001b[K]\n",
            "  203 |         \u001b[01;35m\u001b[Kfread(&new, sizeof(CREC), 1, fid[i])\u001b[m\u001b[K;\n",
            "      |         \u001b[01;35m\u001b[K^~~~~~~~~~~~~~~~~~~~~~~~~~~~~~~~~~~~\u001b[m\u001b[K\n",
            "gcc -c src/shuffle.c -o build/shuffle.o -lm -pthread -O3 -march=native -funroll-loops -Wall -Wextra -Wpedantic\n",
            "\u001b[01m\u001b[Ksrc/shuffle.c:\u001b[m\u001b[K In function ‘\u001b[01m\u001b[Kshuffle_merge\u001b[m\u001b[K’:\n",
            "\u001b[01m\u001b[Ksrc/shuffle.c:96:17:\u001b[m\u001b[K \u001b[01;35m\u001b[Kwarning: \u001b[m\u001b[Kignoring return value of ‘\u001b[01m\u001b[Kfread\u001b[m\u001b[K’ declared with attribute ‘\u001b[01m\u001b[Kwarn_unused_result\u001b[m\u001b[K’ [\u001b[01;35m\u001b[K\u001b]8;;https://gcc.gnu.org/onlinedocs/gcc/Warning-Options.html#index-Wunused-result\u0007-Wunused-result\u001b]8;;\u0007\u001b[m\u001b[K]\n",
            "   96 |                 \u001b[01;35m\u001b[Kfread(&array[i], sizeof(CREC), 1, fid[j])\u001b[m\u001b[K;\n",
            "      |                 \u001b[01;35m\u001b[K^~~~~~~~~~~~~~~~~~~~~~~~~~~~~~~~~~~~~~~~~\u001b[m\u001b[K\n",
            "\u001b[01m\u001b[Ksrc/shuffle.c:\u001b[m\u001b[K In function ‘\u001b[01m\u001b[Kshuffle_by_chunks\u001b[m\u001b[K’:\n",
            "\u001b[01m\u001b[Ksrc/shuffle.c:161:9:\u001b[m\u001b[K \u001b[01;35m\u001b[Kwarning: \u001b[m\u001b[Kignoring return value of ‘\u001b[01m\u001b[Kfread\u001b[m\u001b[K’ declared with attribute ‘\u001b[01m\u001b[Kwarn_unused_result\u001b[m\u001b[K’ [\u001b[01;35m\u001b[K\u001b]8;;https://gcc.gnu.org/onlinedocs/gcc/Warning-Options.html#index-Wunused-result\u0007-Wunused-result\u001b]8;;\u0007\u001b[m\u001b[K]\n",
            "  161 |         \u001b[01;35m\u001b[Kfread(&array[i], sizeof(CREC), 1, fin)\u001b[m\u001b[K;\n",
            "      |         \u001b[01;35m\u001b[K^~~~~~~~~~~~~~~~~~~~~~~~~~~~~~~~~~~~~~\u001b[m\u001b[K\n",
            "gcc -c src/glove.c -o build/glove.o -lm -pthread -O3 -march=native -funroll-loops -Wall -Wextra -Wpedantic\n",
            "\u001b[01m\u001b[Ksrc/glove.c:\u001b[m\u001b[K In function ‘\u001b[01m\u001b[Kload_init_file\u001b[m\u001b[K’:\n",
            "\u001b[01m\u001b[Ksrc/glove.c:86:9:\u001b[m\u001b[K \u001b[01;35m\u001b[Kwarning: \u001b[m\u001b[Kignoring return value of ‘\u001b[01m\u001b[Kfread\u001b[m\u001b[K’ declared with attribute ‘\u001b[01m\u001b[Kwarn_unused_result\u001b[m\u001b[K’ [\u001b[01;35m\u001b[K\u001b]8;;https://gcc.gnu.org/onlinedocs/gcc/Warning-Options.html#index-Wunused-result\u0007-Wunused-result\u001b]8;;\u0007\u001b[m\u001b[K]\n",
            "   86 |         \u001b[01;35m\u001b[Kfread(&array[a], sizeof(real), 1, fin)\u001b[m\u001b[K;\n",
            "      |         \u001b[01;35m\u001b[K^~~~~~~~~~~~~~~~~~~~~~~~~~~~~~~~~~~~~~\u001b[m\u001b[K\n",
            "\u001b[01m\u001b[Ksrc/glove.c:\u001b[m\u001b[K In function ‘\u001b[01m\u001b[Kglove_thread\u001b[m\u001b[K’:\n",
            "\u001b[01m\u001b[Ksrc/glove.c:182:9:\u001b[m\u001b[K \u001b[01;35m\u001b[Kwarning: \u001b[m\u001b[Kignoring return value of ‘\u001b[01m\u001b[Kfread\u001b[m\u001b[K’ declared with attribute ‘\u001b[01m\u001b[Kwarn_unused_result\u001b[m\u001b[K’ [\u001b[01;35m\u001b[K\u001b]8;;https://gcc.gnu.org/onlinedocs/gcc/Warning-Options.html#index-Wunused-result\u0007-Wunused-result\u001b]8;;\u0007\u001b[m\u001b[K]\n",
            "  182 |         \u001b[01;35m\u001b[Kfread(&cr, sizeof(CREC), 1, fin)\u001b[m\u001b[K;\n",
            "      |         \u001b[01;35m\u001b[K^~~~~~~~~~~~~~~~~~~~~~~~~~~~~~~~\u001b[m\u001b[K\n",
            "gcc -c src/common.c -o build/common.o -lm -pthread -O3 -march=native -funroll-loops -Wall -Wextra -Wpedantic\n",
            "gcc build/vocab_count.o build/common.o -o build/vocab_count -lm -pthread -O3 -march=native -funroll-loops -Wall -Wextra -Wpedantic\n",
            "gcc build/cooccur.o build/common.o -o build/cooccur -lm -pthread -O3 -march=native -funroll-loops -Wall -Wextra -Wpedantic\n",
            "gcc build/shuffle.o build/common.o -o build/shuffle -lm -pthread -O3 -march=native -funroll-loops -Wall -Wextra -Wpedantic\n",
            "gcc build/glove.o build/common.o -o build/glove -lm -pthread -O3 -march=native -funroll-loops -Wall -Wextra -Wpedantic\n"
          ]
        }
      ]
    },
    {
      "cell_type": "code",
      "source": [
        "! ./demo.sh"
      ],
      "metadata": {
        "colab": {
          "base_uri": "https://localhost:8080/"
        },
        "id": "uqEGZExLkJVZ",
        "outputId": "bd65254e-a774-4a7e-b35b-5c4397d7a5c2"
      },
      "execution_count": null,
      "outputs": [
        {
          "output_type": "stream",
          "name": "stdout",
          "text": [
            "\n",
            "$ build/vocab_count -min-count 5 -verbose 2 < processed_abstracts_jan.txt > glove_input.txt\n",
            "BUILDING VOCABULARY\n",
            "Processed 0 tokens.\u001b[11G100000 tokens.\u001b[11G200000 tokens.\u001b[11G300000 tokens.\u001b[11G400000 tokens.\u001b[11G500000 tokens.\u001b[11G600000 tokens.\u001b[11G700000 tokens.\u001b[11G800000 tokens.\u001b[11G900000 tokens.\u001b[11G1000000 tokens.\u001b[11G1100000 tokens.\u001b[11G1200000 tokens.\u001b[11G1300000 tokens.\u001b[11G1400000 tokens.\u001b[11G1500000 tokens.\u001b[11G1600000 tokens.\u001b[11G1700000 tokens.\u001b[11G1800000 tokens.\u001b[11G1900000 tokens.\u001b[11G2000000 tokens.\u001b[11G2100000 tokens.\u001b[11G2200000 tokens.\u001b[11G2300000 tokens.\u001b[11G2400000 tokens.\u001b[11G2500000 tokens.\u001b[11G2600000 tokens.\u001b[11G2700000 tokens.\u001b[11G2800000 tokens.\u001b[11G2900000 tokens.\u001b[11G3000000 tokens.\u001b[11G3100000 tokens.\u001b[11G3200000 tokens.\u001b[11G3300000 tokens.\u001b[11G3400000 tokens.\u001b[11G3500000 tokens.\u001b[11G3600000 tokens.\u001b[11G3700000 tokens.\u001b[11G3800000 tokens.\u001b[11G3900000 tokens.\u001b[11G4000000 tokens.\u001b[11G4100000 tokens.\u001b[11G4200000 tokens.\u001b[11G4300000 tokens.\u001b[11G4400000 tokens.\u001b[11G4500000 tokens.\u001b[11G4600000 tokens.\u001b[11G4700000 tokens.\u001b[11G4800000 tokens.\u001b[11G4900000 tokens.\u001b[11G5000000 tokens.\u001b[11G5100000 tokens.\u001b[11G5200000 tokens.\u001b[11G5300000 tokens.\u001b[11G5400000 tokens.\u001b[11G5500000 tokens.\u001b[11G5600000 tokens.\u001b[11G5700000 tokens.\u001b[11G5800000 tokens.\u001b[11G5900000 tokens.\u001b[11G6000000 tokens.\u001b[11G6100000 tokens.\u001b[11G6200000 tokens.\u001b[11G6300000 tokens.\u001b[11G6400000 tokens.\u001b[11G6500000 tokens.\u001b[11G6600000 tokens.\u001b[11G6700000 tokens.\u001b[11G6800000 tokens.\u001b[11G6900000 tokens.\u001b[11G7000000 tokens.\u001b[11G7100000 tokens.\u001b[11G7200000 tokens.\u001b[11G7300000 tokens.\u001b[11G7400000 tokens.\u001b[11G7500000 tokens.\u001b[11G7600000 tokens.\u001b[11G7700000 tokens.\u001b[11G7800000 tokens.\u001b[11G7900000 tokens.\u001b[11G8000000 tokens.\u001b[11G8100000 tokens.\u001b[11G8200000 tokens.\u001b[11G8300000 tokens.\u001b[11G8400000 tokens.\u001b[11G8500000 tokens.\u001b[11G8600000 tokens.\u001b[11G8700000 tokens.\u001b[11G8800000 tokens.\u001b[11G8900000 tokens.\u001b[11G9000000 tokens.\u001b[11G9100000 tokens.\u001b[11G9200000 tokens.\u001b[11G9300000 tokens.\u001b[11G9400000 tokens.\u001b[11G9500000 tokens.\u001b[11G9600000 tokens.\u001b[11G9700000 tokens.\u001b[11G9800000 tokens.\u001b[11G9900000 tokens.\u001b[11G10000000 tokens.\u001b[11G10100000 tokens.\u001b[11G10200000 tokens.\u001b[11G10300000 tokens.\u001b[11G10400000 tokens.\u001b[11G10500000 tokens.\u001b[11G10600000 tokens.\u001b[11G10700000 tokens.\u001b[11G10800000 tokens.\u001b[11G10900000 tokens.\u001b[11G11000000 tokens.\u001b[11G11100000 tokens.\u001b[11G11200000 tokens.\u001b[11G11300000 tokens.\u001b[11G11400000 tokens.\u001b[11G11500000 tokens.\u001b[11G11600000 tokens.\u001b[11G11700000 tokens.\u001b[11G11800000 tokens.\u001b[11G11900000 tokens.\u001b[11G12000000 tokens.\u001b[11G12100000 tokens.\u001b[11G12200000 tokens.\u001b[11G12300000 tokens.\u001b[11G12400000 tokens.\u001b[11G12500000 tokens.\u001b[11G12600000 tokens.\u001b[11G12700000 tokens.\u001b[11G12800000 tokens.\u001b[11G12900000 tokens.\u001b[11G13000000 tokens.\u001b[11G13100000 tokens.\u001b[11G13200000 tokens.\u001b[11G13300000 tokens.\u001b[11G13400000 tokens.\u001b[11G13500000 tokens.\u001b[11G13600000 tokens.\u001b[11G13700000 tokens.\u001b[11G13800000 tokens.\u001b[11G13900000 tokens.\u001b[11G14000000 tokens.\u001b[11G14100000 tokens.\u001b[11G14200000 tokens.\u001b[11G14300000 tokens.\u001b[11G14400000 tokens.\u001b[11G14500000 tokens.\u001b[11G14600000 tokens.\u001b[11G14700000 tokens.\u001b[11G14800000 tokens.\u001b[11G14900000 tokens.\u001b[11G15000000 tokens.\u001b[11G15100000 tokens.\u001b[11G15200000 tokens.\u001b[11G15300000 tokens.\u001b[11G15400000 tokens.\u001b[11G15500000 tokens.\u001b[11G15600000 tokens.\u001b[11G15700000 tokens.\u001b[11G15800000 tokens.\u001b[11G15900000 tokens.\u001b[11G16000000 tokens.\u001b[11G16100000 tokens.\u001b[11G16200000 tokens.\u001b[11G16300000 tokens.\u001b[11G16400000 tokens.\u001b[11G16500000 tokens.\u001b[11G16600000 tokens.\u001b[11G16700000 tokens.\u001b[11G16800000 tokens.\u001b[11G16900000 tokens.\u001b[11G17000000 tokens.\u001b[11G17100000 tokens.\u001b[11G17200000 tokens.\u001b[11G17300000 tokens.\u001b[11G17400000 tokens.\u001b[11G17500000 tokens.\u001b[11G17600000 tokens.\u001b[11G17700000 tokens.\u001b[11G17800000 tokens.\u001b[11G17900000 tokens.\u001b[11G18000000 tokens.\u001b[11G18100000 tokens.\u001b[11G18200000 tokens.\u001b[11G18300000 tokens.\u001b[11G18400000 tokens.\u001b[11G18500000 tokens.\u001b[11G18600000 tokens.\u001b[11G18700000 tokens.\u001b[11G18800000 tokens.\u001b[11G18900000 tokens.\u001b[11G19000000 tokens.\u001b[11G19100000 tokens.\u001b[11G19200000 tokens.\u001b[11G19300000 tokens.\u001b[11G19400000 tokens.\u001b[11G19500000 tokens.\u001b[11G19600000 tokens.\u001b[11G19700000 tokens.\u001b[11G19800000 tokens.\u001b[11G19900000 tokens.\u001b[11G20000000 tokens.\u001b[11G20100000 tokens.\u001b[11G20200000 tokens.\u001b[11G20300000 tokens.\u001b[11G20400000 tokens.\u001b[11G20500000 tokens.\u001b[11G20600000 tokens.\u001b[11G20700000 tokens.\u001b[11G20800000 tokens.\u001b[11G20900000 tokens.\u001b[11G21000000 tokens.\u001b[11G21100000 tokens.\u001b[11G21200000 tokens.\u001b[11G21300000 tokens.\u001b[11G21400000 tokens.\u001b[11G21500000 tokens.\u001b[11G21600000 tokens.\u001b[11G21700000 tokens.\u001b[11G21800000 tokens.\u001b[11G21900000 tokens.\u001b[11G22000000 tokens.\u001b[11G22100000 tokens.\u001b[11G22200000 tokens.\u001b[11G22300000 tokens.\u001b[11G22400000 tokens.\u001b[11G22500000 tokens.\u001b[11G22600000 tokens.\u001b[11G22700000 tokens.\u001b[11G22800000 tokens.\u001b[11G22900000 tokens.\u001b[11G23000000 tokens.\u001b[11G23100000 tokens.\u001b[11G23200000 tokens.\u001b[11G23300000 tokens.\u001b[11G23400000 tokens.\u001b[11G23500000 tokens.\u001b[11G23600000 tokens.\u001b[11G23700000 tokens.\u001b[11G23800000 tokens.\u001b[11G23900000 tokens.\u001b[11G24000000 tokens.\u001b[11G24100000 tokens.\u001b[11G24200000 tokens.\u001b[11G24300000 tokens.\u001b[11G24400000 tokens.\u001b[11G24500000 tokens.\u001b[11G24600000 tokens.\u001b[11G24700000 tokens.\u001b[11G24800000 tokens.\u001b[11G24900000 tokens.\u001b[11G25000000 tokens.\u001b[11G25100000 tokens.\u001b[11G25200000 tokens.\u001b[11G25300000 tokens.\u001b[11G25400000 tokens.\u001b[11G25500000 tokens.\u001b[11G25600000 tokens.\u001b[11G25700000 tokens.\u001b[11G25800000 tokens.\u001b[11G25900000 tokens.\u001b[11G26000000 tokens.\u001b[11G26100000 tokens.\u001b[11G26200000 tokens.\u001b[11G26300000 tokens.\u001b[11G26400000 tokens.\u001b[11G26500000 tokens.\u001b[11G26600000 tokens.\u001b[11G26700000 tokens.\u001b[11G26800000 tokens.\u001b[11G26900000 tokens.\u001b[11G27000000 tokens.\u001b[11G27100000 tokens.\u001b[11G27200000 tokens.\u001b[11G27300000 tokens.\u001b[11G27400000 tokens.\u001b[11G27500000 tokens.\u001b[11G27600000 tokens.\u001b[11G27700000 tokens.\u001b[11G27800000 tokens.\u001b[11G27900000 tokens.\u001b[11G28000000 tokens.\u001b[11G28100000 tokens.\u001b[11G28200000 tokens.\u001b[11G28300000 tokens.\u001b[11G28400000 tokens.\u001b[11G28500000 tokens.\u001b[11G28600000 tokens.\u001b[11G28700000 tokens.\u001b[11G28800000 tokens.\u001b[11G28900000 tokens.\u001b[11G29000000 tokens.\u001b[11G29100000 tokens.\u001b[11G29200000 tokens.\u001b[11G29300000 tokens.\u001b[11G29400000 tokens.\u001b[11G29500000 tokens.\u001b[11G29600000 tokens.\u001b[11G29700000 tokens.\u001b[11G29800000 tokens.\u001b[11G29900000 tokens.\u001b[11G30000000 tokens.\u001b[11G30100000 tokens.\u001b[11G30200000 tokens.\u001b[11G30300000 tokens.\u001b[11G30400000 tokens.\u001b[11G30500000 tokens.\u001b[11G30600000 tokens.\u001b[11G30700000 tokens.\u001b[11G30800000 tokens.\u001b[11G30900000 tokens.\u001b[11G31000000 tokens.\u001b[11G31100000 tokens.\u001b[11G31200000 tokens.\u001b[11G31300000 tokens.\u001b[11G31400000 tokens.\u001b[11G31500000 tokens.\u001b[11G31600000 tokens.\u001b[11G31700000 tokens.\u001b[11G31800000 tokens.\u001b[11G31900000 tokens.\u001b[11G32000000 tokens.\u001b[11G32100000 tokens.\u001b[11G32200000 tokens.\u001b[11G32300000 tokens.\u001b[11G32400000 tokens.\u001b[11G32500000 tokens.\u001b[11G32600000 tokens.\u001b[11G32700000 tokens.\u001b[11G32800000 tokens.\u001b[11G32900000 tokens.\u001b[11G33000000 tokens.\u001b[11G33100000 tokens.\u001b[11G33200000 tokens.\u001b[11G33300000 tokens.\u001b[11G33400000 tokens.\u001b[11G33500000 tokens.\u001b[11G33600000 tokens.\u001b[11G33700000 tokens.\u001b[11G33800000 tokens.\u001b[11G33900000 tokens.\u001b[11G34000000 tokens.\u001b[11G34100000 tokens.\u001b[11G34200000 tokens.\u001b[11G34300000 tokens.\u001b[11G34400000 tokens.\u001b[11G34500000 tokens.\u001b[11G34600000 tokens.\u001b[11G34700000 tokens.\u001b[11G34800000 tokens.\u001b[11G34900000 tokens.\u001b[11G35000000 tokens.\u001b[11G35100000 tokens.\u001b[11G35200000 tokens.\u001b[11G35300000 tokens.\u001b[11G35400000 tokens.\u001b[11G35500000 tokens.\u001b[11G35600000 tokens.\u001b[11G35700000 tokens.\u001b[11G35800000 tokens.\u001b[11G35900000 tokens.\u001b[11G36000000 tokens.\u001b[11G36100000 tokens.\u001b[11G36200000 tokens.\u001b[11G36300000 tokens.\u001b[11G36400000 tokens.\u001b[11G36500000 tokens.\u001b[11G36600000 tokens.\u001b[11G36700000 tokens.\u001b[11G36800000 tokens.\u001b[11G36900000 tokens.\u001b[11G37000000 tokens.\u001b[11G37100000 tokens.\u001b[11G37200000 tokens.\u001b[11G37300000 tokens.\u001b[11G37400000 tokens.\u001b[11G37500000 tokens.\u001b[11G37600000 tokens.\u001b[11G37700000 tokens.\u001b[11G37800000 tokens.\u001b[11G37900000 tokens.\u001b[11G38000000 tokens.\u001b[11G38100000 tokens.\u001b[11G38200000 tokens.\u001b[11G38300000 tokens.\u001b[11G38400000 tokens.\u001b[11G38500000 tokens.\u001b[11G38600000 tokens.\u001b[11G38700000 tokens.\u001b[11G38800000 tokens.\u001b[11G38900000 tokens.\u001b[11G39000000 tokens.\u001b[11G39100000 tokens.\u001b[11G39200000 tokens.\u001b[11G39300000 tokens.\u001b[11G39400000 tokens.\u001b[11G39500000 tokens.\u001b[11G39600000 tokens.\u001b[11G39700000 tokens.\u001b[11G39800000 tokens.\u001b[11G39900000 tokens.\u001b[11G40000000 tokens.\u001b[11G40100000 tokens.\u001b[11G40200000 tokens.\u001b[11G40300000 tokens.\u001b[11G40400000 tokens.\u001b[11G40500000 tokens.\u001b[11G40600000 tokens.\u001b[11G40700000 tokens.\u001b[11G40800000 tokens.\u001b[11G40900000 tokens.\u001b[11G41000000 tokens.\u001b[11G41100000 tokens.\u001b[11G41200000 tokens.\u001b[11G41300000 tokens.\u001b[11G41400000 tokens.\u001b[11G41500000 tokens.\u001b[11G41600000 tokens.\u001b[11G41700000 tokens.\u001b[11G41800000 tokens.\u001b[11G41900000 tokens.\u001b[11G42000000 tokens.\u001b[11G42100000 tokens.\u001b[11G42200000 tokens.\u001b[11G42300000 tokens.\u001b[11G42400000 tokens.\u001b[11G42500000 tokens.\u001b[11G42600000 tokens.\u001b[11G42700000 tokens.\u001b[11G42800000 tokens.\u001b[11G42900000 tokens.\u001b[11G43000000 tokens.\u001b[11G43100000 tokens.\u001b[11G43200000 tokens.\u001b[11G43300000 tokens.\u001b[11G43400000 tokens.\u001b[11G43500000 tokens.\u001b[11G43600000 tokens.\u001b[11G43700000 tokens.\u001b[11G43800000 tokens.\u001b[11G43900000 tokens.\u001b[11G44000000 tokens.\u001b[11G44100000 tokens.\u001b[11G44200000 tokens.\u001b[11G44300000 tokens.\u001b[11G44400000 tokens.\u001b[11G44500000 tokens.\u001b[11G44600000 tokens.\u001b[11G44700000 tokens.\u001b[11G44800000 tokens.\u001b[11G44900000 tokens.\u001b[11G45000000 tokens.\u001b[11G45100000 tokens.\u001b[11G45200000 tokens.\u001b[11G45300000 tokens.\u001b[11G45400000 tokens.\u001b[11G45500000 tokens.\u001b[11G45600000 tokens.\u001b[11G45700000 tokens.\u001b[11G45800000 tokens.\u001b[11G45900000 tokens.\u001b[11G46000000 tokens.\u001b[11G46100000 tokens.\u001b[11G46200000 tokens.\u001b[11G46300000 tokens.\u001b[11G46400000 tokens.\u001b[11G46500000 tokens.\u001b[11G46600000 tokens.\u001b[11G46700000 tokens.\u001b[11G46800000 tokens.\u001b[11G46900000 tokens.\u001b[11G47000000 tokens.\u001b[11G47100000 tokens.\u001b[11G47200000 tokens.\u001b[11G47300000 tokens.\u001b[11G47400000 tokens.\u001b[11G47500000 tokens.\u001b[11G47600000 tokens.\u001b[11G47700000 tokens.\u001b[11G47800000 tokens.\u001b[11G47900000 tokens.\u001b[11G48000000 tokens.\u001b[11G48100000 tokens.\u001b[11G48200000 tokens.\u001b[11G48300000 tokens.\u001b[11G48400000 tokens.\u001b[11G48500000 tokens.\u001b[11G48600000 tokens.\u001b[11G48700000 tokens.\u001b[11G48800000 tokens.\u001b[11G48900000 tokens.\u001b[11G49000000 tokens.\u001b[11G49100000 tokens.\u001b[11G49200000 tokens.\u001b[11G49300000 tokens.\u001b[11G49400000 tokens.\u001b[11G49500000 tokens.\u001b[11G49600000 tokens.\u001b[11G49700000 tokens.\u001b[11G49800000 tokens.\u001b[11G49900000 tokens.\u001b[11G50000000 tokens.\u001b[11G50100000 tokens.\u001b[11G50200000 tokens.\u001b[11G50300000 tokens.\u001b[11G50400000 tokens.\u001b[11G50500000 tokens.\u001b[11G50600000 tokens.\u001b[11G50700000 tokens.\u001b[11G50800000 tokens.\u001b[11G50900000 tokens.\u001b[11G51000000 tokens.\u001b[11G51100000 tokens.\u001b[11G51200000 tokens.\u001b[11G51300000 tokens.\u001b[11G51400000 tokens.\u001b[11G51500000 tokens.\u001b[11G51600000 tokens.\u001b[11G51700000 tokens.\u001b[11G51800000 tokens.\u001b[11G51900000 tokens.\u001b[11G52000000 tokens.\u001b[11G52100000 tokens.\u001b[11G52200000 tokens.\u001b[11G52300000 tokens.\u001b[11G52400000 tokens.\u001b[11G52500000 tokens.\u001b[11G52600000 tokens.\u001b[11G52700000 tokens.\u001b[11G52800000 tokens.\u001b[11G52900000 tokens.\u001b[11G53000000 tokens.\u001b[11G53100000 tokens.\u001b[11G53200000 tokens.\u001b[11G53300000 tokens.\u001b[11G53400000 tokens.\u001b[11G53500000 tokens.\u001b[11G53600000 tokens.\u001b[11G53700000 tokens.\u001b[11G53800000 tokens.\u001b[11G53900000 tokens.\u001b[11G54000000 tokens.\u001b[11G54100000 tokens.\u001b[11G54200000 tokens.\u001b[11G54300000 tokens.\u001b[11G54400000 tokens.\u001b[11G54500000 tokens.\u001b[11G54600000 tokens.\u001b[11G54700000 tokens.\u001b[11G54800000 tokens.\u001b[11G54900000 tokens.\u001b[11G55000000 tokens.\u001b[11G55100000 tokens.\u001b[11G55200000 tokens.\u001b[11G55300000 tokens.\u001b[11G55400000 tokens.\u001b[11G55500000 tokens.\u001b[11G55600000 tokens.\u001b[11G55700000 tokens.\u001b[11G55800000 tokens.\u001b[11G55900000 tokens.\u001b[11G56000000 tokens.\u001b[11G56100000 tokens.\u001b[11G56200000 tokens.\u001b[11G56300000 tokens.\u001b[11G56400000 tokens.\u001b[11G56500000 tokens.\u001b[11G56600000 tokens.\u001b[11G56700000 tokens.\u001b[11G56800000 tokens.\u001b[11G56900000 tokens.\u001b[11G57000000 tokens.\u001b[11G57100000 tokens.\u001b[11G57200000 tokens.\u001b[11G57300000 tokens.\u001b[11G57400000 tokens.\u001b[11G57500000 tokens.\u001b[11G57600000 tokens.\u001b[11G57700000 tokens.\u001b[11G57800000 tokens.\u001b[11G57900000 tokens.\u001b[11G58000000 tokens.\u001b[11G58100000 tokens.\u001b[11G58200000 tokens.\u001b[11G58300000 tokens.\u001b[11G58400000 tokens.\u001b[11G58500000 tokens.\u001b[11G58600000 tokens.\u001b[11G58700000 tokens.\u001b[11G58800000 tokens.\u001b[11G58900000 tokens.\u001b[11G59000000 tokens.\u001b[11G59100000 tokens.\u001b[11G59200000 tokens.\u001b[11G59300000 tokens.\u001b[11G59400000 tokens.\u001b[11G59500000 tokens.\u001b[11G59600000 tokens.\u001b[11G59700000 tokens.\u001b[11G59800000 tokens.\u001b[11G59900000 tokens.\u001b[11G60000000 tokens.\u001b[11G60100000 tokens.\u001b[11G60200000 tokens.\u001b[11G60300000 tokens.\u001b[11G60400000 tokens.\u001b[11G60500000 tokens.\u001b[11G60600000 tokens.\u001b[11G60700000 tokens.\u001b[11G60800000 tokens.\u001b[11G60900000 tokens.\u001b[11G61000000 tokens.\u001b[11G61100000 tokens.\u001b[11G61200000 tokens.\u001b[11G61300000 tokens.\u001b[11G61400000 tokens.\u001b[11G61500000 tokens.\u001b[11G61600000 tokens.\u001b[11G61700000 tokens.\u001b[11G61800000 tokens.\u001b[11G61900000 tokens.\u001b[11G62000000 tokens.\u001b[11G62100000 tokens.\u001b[11G62200000 tokens.\u001b[11G62300000 tokens.\u001b[11G62400000 tokens.\u001b[11G62500000 tokens.\u001b[11G62600000 tokens.\u001b[11G62700000 tokens.\u001b[11G62800000 tokens.\u001b[11G62900000 tokens.\u001b[11G63000000 tokens.\u001b[11G63100000 tokens.\u001b[11G63200000 tokens.\u001b[11G63300000 tokens.\u001b[11G63400000 tokens.\u001b[11G63500000 tokens.\u001b[11G63600000 tokens.\u001b[11G63700000 tokens.\u001b[11G63800000 tokens.\u001b[11G63900000 tokens.\u001b[11G64000000 tokens.\u001b[11G64100000 tokens.\u001b[11G64200000 tokens.\u001b[11G64300000 tokens.\u001b[11G64400000 tokens.\u001b[11G64500000 tokens.\u001b[11G64600000 tokens.\u001b[11G64700000 tokens.\u001b[11G64800000 tokens.\u001b[11G64900000 tokens.\u001b[11G65000000 tokens.\u001b[11G65100000 tokens.\u001b[11G65200000 tokens.\u001b[11G65300000 tokens.\u001b[11G65400000 tokens.\u001b[11G65500000 tokens.\u001b[11G65600000 tokens.\u001b[11G65700000 tokens.\u001b[11G65800000 tokens.\u001b[11G65900000 tokens.\u001b[11G66000000 tokens.\u001b[11G66100000 tokens.\u001b[11G66200000 tokens.\u001b[11G66300000 tokens.\u001b[11G66400000 tokens.\u001b[11G66500000 tokens.\u001b[11G66600000 tokens.\u001b[11G66700000 tokens.\u001b[11G66800000 tokens.\u001b[11G66900000 tokens.\u001b[11G67000000 tokens.\u001b[11G67100000 tokens.\u001b[11G67200000 tokens.\u001b[11G67300000 tokens.\u001b[11G67400000 tokens.\u001b[11G67500000 tokens.\u001b[11G67600000 tokens.\u001b[11G67700000 tokens.\u001b[11G67800000 tokens.\u001b[11G67900000 tokens.\u001b[11G68000000 tokens.\u001b[11G68100000 tokens.\u001b[11G68200000 tokens.\u001b[11G68300000 tokens.\u001b[11G68400000 tokens.\u001b[11G68500000 tokens.\u001b[11G68600000 tokens.\u001b[11G68700000 tokens.\u001b[11G68800000 tokens.\u001b[11G68900000 tokens.\u001b[11G69000000 tokens.\u001b[11G69100000 tokens.\u001b[11G69200000 tokens.\u001b[11G69300000 tokens.\u001b[11G69400000 tokens.\u001b[11G69500000 tokens.\u001b[11G69600000 tokens.\u001b[11G69700000 tokens.\u001b[11G69800000 tokens.\u001b[11G69900000 tokens.\u001b[11G70000000 tokens.\u001b[11G70100000 tokens.\u001b[11G70200000 tokens.\u001b[11G70300000 tokens.\u001b[11G70400000 tokens.\u001b[11G70500000 tokens.\u001b[11G70600000 tokens.\u001b[11G70700000 tokens.\u001b[11G70800000 tokens.\u001b[11G70900000 tokens.\u001b[11G71000000 tokens.\u001b[11G71100000 tokens.\u001b[11G71200000 tokens.\u001b[11G71300000 tokens.\u001b[11G71400000 tokens.\u001b[11G71500000 tokens.\u001b[11G71600000 tokens.\u001b[11G71700000 tokens.\u001b[11G71800000 tokens.\u001b[11G71900000 tokens.\u001b[11G72000000 tokens.\u001b[11G72100000 tokens.\u001b[11G72200000 tokens.\u001b[11G72300000 tokens.\u001b[11G72400000 tokens.\u001b[11G72500000 tokens.\u001b[11G72600000 tokens.\u001b[11G72700000 tokens.\u001b[11G72800000 tokens.\u001b[11G72900000 tokens.\u001b[11G73000000 tokens.\u001b[11G73100000 tokens.\u001b[11G73200000 tokens.\u001b[11G73300000 tokens.\u001b[11G73400000 tokens.\u001b[11G73500000 tokens.\u001b[11G73600000 tokens.\u001b[11G73700000 tokens.\u001b[11G73800000 tokens.\u001b[11G73900000 tokens.\u001b[11G74000000 tokens.\u001b[11G74100000 tokens.\u001b[11G74200000 tokens.\u001b[11G74300000 tokens.\u001b[11G74400000 tokens.\u001b[11G74500000 tokens.\u001b[11G74600000 tokens.\u001b[11G74700000 tokens.\u001b[11G74800000 tokens.\u001b[11G74900000 tokens.\u001b[11G75000000 tokens.\u001b[11G75100000 tokens.\u001b[11G75200000 tokens.\u001b[11G75300000 tokens.\u001b[11G75400000 tokens.\u001b[11G75500000 tokens.\u001b[11G75600000 tokens.\u001b[11G75700000 tokens.\u001b[11G75800000 tokens.\u001b[11G75900000 tokens.\u001b[11G76000000 tokens.\u001b[11G76100000 tokens.\u001b[11G76200000 tokens.\u001b[11G76300000 tokens.\u001b[11G76400000 tokens.\u001b[11G76500000 tokens.\u001b[11G76600000 tokens.\u001b[11G76700000 tokens.\u001b[11G76800000 tokens.\u001b[11G76900000 tokens.\u001b[11G77000000 tokens.\u001b[11G77100000 tokens.\u001b[11G77200000 tokens.\u001b[11G77300000 tokens.\u001b[11G77400000 tokens.\u001b[11G77500000 tokens.\u001b[11G77600000 tokens.\u001b[11G77700000 tokens.\u001b[11G77800000 tokens.\u001b[11G77900000 tokens.\u001b[11G78000000 tokens.\u001b[11G78100000 tokens.\u001b[11G78200000 tokens.\u001b[11G78300000 tokens.\u001b[11G78400000 tokens.\u001b[11G78500000 tokens.\u001b[11G78600000 tokens.\u001b[11G78700000 tokens.\u001b[11G78800000 tokens.\u001b[11G78900000 tokens.\u001b[11G79000000 tokens.\u001b[11G79100000 tokens.\u001b[11G79200000 tokens.\u001b[11G79300000 tokens.\u001b[11G79400000 tokens.\u001b[11G79500000 tokens.\u001b[11G79600000 tokens.\u001b[11G79700000 tokens.\u001b[11G79800000 tokens.\u001b[11G79900000 tokens.\u001b[11G80000000 tokens.\u001b[11G80100000 tokens.\u001b[11G80200000 tokens.\u001b[11G80300000 tokens.\u001b[11G80400000 tokens.\u001b[11G80500000 tokens.\u001b[11G80600000 tokens.\u001b[11G80700000 tokens.\u001b[11G80800000 tokens.\u001b[11G80900000 tokens.\u001b[11G81000000 tokens.\u001b[11G81100000 tokens.\u001b[11G81200000 tokens.\u001b[11G81300000 tokens.\u001b[11G81400000 tokens.\u001b[11G81500000 tokens.\u001b[11G81600000 tokens.\u001b[11G81700000 tokens.\u001b[11G81800000 tokens.\u001b[11G81900000 tokens.\u001b[11G82000000 tokens.\u001b[11G82100000 tokens.\u001b[11G82200000 tokens.\u001b[11G82300000 tokens.\u001b[11G82400000 tokens.\u001b[11G82500000 tokens.\u001b[11G82600000 tokens.\u001b[11G82700000 tokens.\u001b[11G82800000 tokens.\u001b[11G82900000 tokens.\u001b[11G83000000 tokens.\u001b[11G83100000 tokens.\u001b[11G83200000 tokens.\u001b[11G83300000 tokens.\u001b[11G83400000 tokens.\u001b[11G83500000 tokens.\u001b[11G83600000 tokens.\u001b[11G83700000 tokens.\u001b[11G83800000 tokens.\u001b[11G83900000 tokens.\u001b[11G84000000 tokens.\u001b[11G84100000 tokens.\u001b[11G84200000 tokens.\u001b[11G84300000 tokens.\u001b[11G84400000 tokens.\u001b[11G84500000 tokens.\u001b[11G84600000 tokens.\u001b[11G84700000 tokens.\u001b[11G84800000 tokens.\u001b[11G84900000 tokens.\u001b[11G85000000 tokens.\u001b[11G85100000 tokens.\u001b[11G85200000 tokens.\u001b[11G85300000 tokens.\u001b[11G85400000 tokens.\u001b[11G85500000 tokens.\u001b[11G85600000 tokens.\u001b[11G85700000 tokens.\u001b[11G85800000 tokens.\u001b[11G85900000 tokens.\u001b[11G86000000 tokens.\u001b[11G86100000 tokens.\u001b[11G86200000 tokens.\u001b[11G86300000 tokens.\u001b[11G86400000 tokens.\u001b[11G86500000 tokens.\u001b[11G86600000 tokens.\u001b[11G86700000 tokens.\u001b[11G86800000 tokens.\u001b[11G86900000 tokens.\u001b[11G87000000 tokens.\u001b[11G87100000 tokens.\u001b[11G87200000 tokens.\u001b[11G87300000 tokens.\u001b[11G87400000 tokens.\u001b[11G87500000 tokens.\u001b[11G87600000 tokens.\u001b[11G87700000 tokens.\u001b[11G87800000 tokens.\u001b[11G87900000 tokens.\u001b[11G88000000 tokens.\u001b[11G88100000 tokens.\u001b[11G88200000 tokens.\u001b[11G88300000 tokens.\u001b[11G88400000 tokens.\u001b[11G88500000 tokens.\u001b[11G88600000 tokens.\u001b[11G88700000 tokens.\u001b[11G88800000 tokens.\u001b[11G88900000 tokens.\u001b[11G89000000 tokens.\u001b[11G89100000 tokens.\u001b[11G89200000 tokens.\u001b[11G89300000 tokens.\u001b[11G89400000 tokens.\u001b[11G89500000 tokens.\u001b[11G89600000 tokens.\u001b[11G89700000 tokens.\u001b[11G89800000 tokens.\u001b[11G89900000 tokens.\u001b[11G90000000 tokens.\u001b[11G90100000 tokens.\u001b[11G90200000 tokens.\u001b[11G90300000 tokens.\u001b[11G90400000 tokens.\u001b[11G90500000 tokens.\u001b[11G90600000 tokens.\u001b[11G90700000 tokens.\u001b[11G90800000 tokens.\u001b[11G90900000 tokens.\u001b[11G91000000 tokens.\u001b[11G91100000 tokens.\u001b[11G91200000 tokens.\u001b[11G91300000 tokens.\u001b[11G91400000 tokens.\u001b[11G91500000 tokens.\u001b[11G91600000 tokens.\u001b[11G91700000 tokens.\u001b[11G91800000 tokens.\u001b[11G91900000 tokens.\u001b[11G92000000 tokens.\u001b[11G92100000 tokens.\u001b[11G92200000 tokens.\u001b[11G92300000 tokens.\u001b[11G92400000 tokens.\u001b[11G92500000 tokens.\u001b[11G92600000 tokens.\u001b[11G92700000 tokens.\u001b[11G92800000 tokens.\u001b[11G92900000 tokens.\u001b[11G93000000 tokens.\u001b[11G93100000 tokens.\u001b[11G93200000 tokens.\u001b[11G93300000 tokens.\u001b[11G93400000 tokens.\u001b[11G93500000 tokens.\u001b[11G93600000 tokens.\u001b[11G93700000 tokens.\u001b[11G93800000 tokens.\u001b[11G93900000 tokens.\u001b[11G94000000 tokens.\u001b[11G94100000 tokens.\u001b[11G94200000 tokens.\u001b[11G94300000 tokens.\u001b[11G94400000 tokens.\u001b[11G94500000 tokens.\u001b[11G94600000 tokens.\u001b[11G94700000 tokens.\u001b[11G94800000 tokens.\u001b[11G94900000 tokens.\u001b[11G95000000 tokens.\u001b[11G95100000 tokens.\u001b[11G95200000 tokens.\u001b[11G95300000 tokens.\u001b[11G95400000 tokens.\u001b[11G95500000 tokens.\u001b[11G95600000 tokens.\u001b[11G95700000 tokens.\u001b[11G95800000 tokens.\u001b[11G95900000 tokens.\u001b[11G96000000 tokens.\u001b[11G96100000 tokens.\u001b[11G96200000 tokens.\u001b[11G96300000 tokens.\u001b[11G96400000 tokens.\u001b[11G96500000 tokens.\u001b[11G96600000 tokens.\u001b[11G96700000 tokens.\u001b[11G96800000 tokens.\u001b[11G96900000 tokens.\u001b[11G97000000 tokens.\u001b[11G97100000 tokens.\u001b[11G97200000 tokens.\u001b[11G97300000 tokens.\u001b[11G97400000 tokens.\u001b[11G97500000 tokens.\u001b[11G97600000 tokens.\u001b[11G97700000 tokens.\u001b[11G97800000 tokens.\u001b[11G97900000 tokens.\u001b[11G98000000 tokens.\u001b[11G98100000 tokens.\u001b[11G98200000 tokens.\u001b[11G98300000 tokens.\u001b[11G98400000 tokens.\u001b[11G98500000 tokens.\u001b[11G98600000 tokens.\u001b[11G98700000 tokens.\u001b[11G98800000 tokens.\u001b[11G98900000 tokens.\u001b[11G99000000 tokens.\u001b[11G99100000 tokens.\u001b[11G99200000 tokens.\u001b[11G99300000 tokens.\u001b[11G99400000 tokens.\u001b[11G99500000 tokens.\u001b[11G99600000 tokens.\u001b[11G99700000 tokens.\u001b[11G99800000 tokens.\u001b[11G99900000 tokens.\u001b[11G100000000 tokens.\u001b[11G100100000 tokens.\u001b[11G100200000 tokens.\u001b[11G100300000 tokens.\u001b[11G100400000 tokens.\u001b[11G100500000 tokens.\u001b[11G100600000 tokens.\u001b[11G100700000 tokens.\u001b[11G100800000 tokens.\u001b[11G100900000 tokens.\u001b[11G101000000 tokens.\u001b[11G101100000 tokens.\u001b[11G101200000 tokens.\u001b[11G101300000 tokens.\u001b[11G101400000 tokens.\u001b[11G101500000 tokens.\u001b[11G101600000 tokens.\u001b[11G101700000 tokens.\u001b[11G101800000 tokens.\u001b[11G101900000 tokens.\u001b[11G102000000 tokens.\u001b[11G102100000 tokens.\u001b[11G102200000 tokens.\u001b[11G102300000 tokens.\u001b[11G102400000 tokens.\u001b[11G102500000 tokens.\u001b[11G102600000 tokens.\u001b[11G102700000 tokens.\u001b[11G102800000 tokens.\u001b[11G102900000 tokens.\u001b[11G103000000 tokens.\u001b[11G103100000 tokens.\u001b[11G103200000 tokens.\u001b[11G103300000 tokens.\u001b[11G103400000 tokens.\u001b[11G103500000 tokens.\u001b[11G103600000 tokens.\u001b[11G103700000 tokens.\u001b[11G103800000 tokens.\u001b[11G103900000 tokens.\u001b[11G104000000 tokens.\u001b[11G104100000 tokens.\u001b[11G104200000 tokens.\u001b[11G104300000 tokens.\u001b[11G104400000 tokens.\u001b[11G104500000 tokens.\u001b[11G104600000 tokens.\u001b[11G104700000 tokens.\u001b[11G104800000 tokens.\u001b[11G104900000 tokens.\u001b[11G105000000 tokens.\u001b[11G105100000 tokens.\u001b[11G105200000 tokens.\u001b[11G105300000 tokens.\u001b[11G105400000 tokens.\u001b[11G105500000 tokens.\u001b[11G105600000 tokens.\u001b[11G105700000 tokens.\u001b[11G105800000 tokens.\u001b[11G105900000 tokens.\u001b[11G106000000 tokens.\u001b[11G106100000 tokens.\u001b[11G106200000 tokens.\u001b[11G106300000 tokens.\u001b[11G106400000 tokens.\u001b[11G106500000 tokens.\u001b[11G106600000 tokens.\u001b[11G106700000 tokens.\u001b[11G106800000 tokens.\u001b[11G106900000 tokens.\u001b[11G107000000 tokens.\u001b[11G107100000 tokens.\u001b[11G107200000 tokens.\u001b[11G107300000 tokens.\u001b[11G107400000 tokens.\u001b[11G107500000 tokens.\u001b[11G107600000 tokens.\u001b[11G107700000 tokens.\u001b[11G107800000 tokens.\u001b[11G107900000 tokens.\u001b[11G108000000 tokens.\u001b[11G108100000 tokens.\u001b[11G108200000 tokens.\u001b[11G108300000 tokens.\u001b[11G108400000 tokens.\u001b[11G108500000 tokens.\u001b[11G108600000 tokens.\u001b[11G108700000 tokens.\u001b[11G108800000 tokens.\u001b[11G108900000 tokens.\u001b[11G109000000 tokens.\u001b[11G109100000 tokens.\u001b[11G109200000 tokens.\u001b[11G109300000 tokens.\u001b[11G109400000 tokens.\u001b[11G109500000 tokens.\u001b[11G109600000 tokens.\u001b[11G109700000 tokens.\u001b[11G109800000 tokens.\u001b[11G109900000 tokens.\u001b[11G110000000 tokens.\u001b[11G110100000 tokens.\u001b[11G110200000 tokens.\u001b[11G110300000 tokens.\u001b[11G110400000 tokens.\u001b[11G110500000 tokens.\u001b[11G110600000 tokens.\u001b[11G110700000 tokens.\u001b[11G110800000 tokens.\u001b[11G110900000 tokens.\u001b[11G111000000 tokens.\u001b[11G111100000 tokens.\u001b[11G111200000 tokens.\u001b[11G111300000 tokens.\u001b[11G111400000 tokens.\u001b[11G111500000 tokens.\u001b[11G111600000 tokens.\u001b[11G111700000 tokens.\u001b[11G111800000 tokens.\u001b[11G111900000 tokens.\u001b[11G112000000 tokens.\u001b[11G112100000 tokens.\u001b[11G112200000 tokens.\u001b[11G112300000 tokens.\u001b[11G112400000 tokens.\u001b[11G112500000 tokens.\u001b[11G112600000 tokens.\u001b[11G112700000 tokens.\u001b[11G112800000 tokens.\u001b[11G112900000 tokens.\u001b[11G113000000 tokens.\u001b[11G113100000 tokens.\u001b[11G113200000 tokens.\u001b[11G113300000 tokens.\u001b[11G113400000 tokens.\u001b[11G113500000 tokens.\u001b[11G113600000 tokens.\u001b[11G113700000 tokens.\u001b[11G113800000 tokens.\u001b[11G113900000 tokens.\u001b[11G114000000 tokens.\u001b[11G114100000 tokens.\u001b[11G114200000 tokens.\u001b[11G114300000 tokens.\u001b[11G114400000 tokens.\u001b[11G114500000 tokens.\u001b[11G114600000 tokens.\u001b[11G114700000 tokens.\u001b[11G114800000 tokens.\u001b[11G114900000 tokens.\u001b[11G115000000 tokens.\u001b[11G115100000 tokens.\u001b[11G115200000 tokens.\u001b[11G115300000 tokens.\u001b[11G115400000 tokens.\u001b[11G115500000 tokens.\u001b[11G115600000 tokens.\u001b[11G115700000 tokens.\u001b[11G115800000 tokens.\u001b[11G115900000 tokens.\u001b[11G116000000 tokens.\u001b[11G116100000 tokens.\u001b[11G116200000 tokens.\u001b[11G116300000 tokens.\u001b[11G116400000 tokens.\u001b[11G116500000 tokens.\u001b[11G116600000 tokens.\u001b[11G116700000 tokens.\u001b[11G116800000 tokens.\u001b[11G116900000 tokens.\u001b[11G117000000 tokens.\u001b[11G117100000 tokens.\u001b[11G117200000 tokens.\u001b[11G117300000 tokens.\u001b[11G117400000 tokens.\u001b[11G117500000 tokens.\u001b[11G117600000 tokens.\u001b[11G117700000 tokens.\u001b[11G117800000 tokens.\u001b[11G117900000 tokens.\u001b[11G118000000 tokens.\u001b[11G118100000 tokens.\u001b[11G118200000 tokens.\u001b[11G118300000 tokens.\u001b[11G118400000 tokens.\u001b[11G118500000 tokens.\u001b[11G118600000 tokens.\u001b[11G118700000 tokens.\u001b[11G118800000 tokens.\u001b[11G118900000 tokens.\u001b[11G119000000 tokens.\u001b[11G119100000 tokens.\u001b[11G119200000 tokens.\u001b[11G119300000 tokens.\u001b[11G119400000 tokens.\u001b[11G119500000 tokens.\u001b[11G119600000 tokens.\u001b[11G119700000 tokens.\u001b[11G119800000 tokens.\u001b[11G119900000 tokens.\u001b[11G120000000 tokens.\u001b[11G120100000 tokens.\u001b[11G120200000 tokens.\u001b[11G120300000 tokens.\u001b[11G120400000 tokens.\u001b[11G120500000 tokens.\u001b[11G120600000 tokens.\u001b[11G120700000 tokens.\u001b[11G120800000 tokens.\u001b[11G120900000 tokens.\u001b[11G121000000 tokens.\u001b[11G121100000 tokens.\u001b[11G121200000 tokens.\u001b[11G121300000 tokens.\u001b[11G121400000 tokens.\u001b[11G121500000 tokens.\u001b[11G121600000 tokens.\u001b[11G121700000 tokens.\u001b[11G121800000 tokens.\u001b[11G121900000 tokens.\u001b[11G122000000 tokens.\u001b[11G122100000 tokens.\u001b[11G122200000 tokens.\u001b[11G122300000 tokens.\u001b[11G122400000 tokens.\u001b[11G122500000 tokens.\u001b[11G122600000 tokens.\u001b[11G122700000 tokens.\u001b[11G122800000 tokens.\u001b[11G122900000 tokens.\u001b[11G123000000 tokens.\u001b[11G123100000 tokens.\u001b[11G123200000 tokens.\u001b[11G123300000 tokens.\u001b[11G123400000 tokens.\u001b[11G123500000 tokens.\u001b[11G123600000 tokens.\u001b[11G123700000 tokens.\u001b[11G123800000 tokens.\u001b[11G123900000 tokens.\u001b[11G124000000 tokens.\u001b[11G124100000 tokens.\u001b[11G124200000 tokens.\u001b[11G124300000 tokens.\u001b[11G124400000 tokens.\u001b[11G124500000 tokens.\u001b[11G124600000 tokens.\u001b[11G124700000 tokens.\u001b[11G124800000 tokens.\u001b[11G124900000 tokens.\u001b[11G125000000 tokens.\u001b[11G125100000 tokens.\u001b[11G125200000 tokens.\u001b[11G125300000 tokens.\u001b[11G125400000 tokens.\u001b[11G125500000 tokens.\u001b[11G125600000 tokens.\u001b[11G125700000 tokens.\u001b[11G125800000 tokens.\u001b[11G125900000 tokens.\u001b[11G126000000 tokens.\u001b[11G126100000 tokens.\u001b[11G126200000 tokens.\u001b[11G126300000 tokens.\u001b[11G126400000 tokens.\u001b[11G126500000 tokens.\u001b[11G126600000 tokens.\u001b[11G126700000 tokens.\u001b[11G126800000 tokens.\u001b[11G126900000 tokens.\u001b[11G127000000 tokens.\u001b[11G127100000 tokens.\u001b[11G127200000 tokens.\u001b[11G127300000 tokens.\u001b[11G127400000 tokens.\u001b[11G127500000 tokens.\u001b[11G127600000 tokens.\u001b[11G127700000 tokens.\u001b[11G127800000 tokens.\u001b[11G127900000 tokens.\u001b[11G128000000 tokens.\u001b[11G128100000 tokens.\u001b[11G128200000 tokens.\u001b[11G128300000 tokens.\u001b[11G128400000 tokens.\u001b[11G128500000 tokens.\u001b[11G128600000 tokens.\u001b[11G128700000 tokens.\u001b[11G128800000 tokens.\u001b[11G128900000 tokens.\u001b[11G129000000 tokens.\u001b[11G129100000 tokens.\u001b[11G129200000 tokens.\u001b[11G129300000 tokens.\u001b[11G129400000 tokens.\u001b[11G129500000 tokens.\u001b[11G129600000 tokens.\u001b[11G129700000 tokens.\u001b[11G129800000 tokens.\u001b[11G129900000 tokens.\u001b[11G130000000 tokens.\u001b[11G130100000 tokens.\u001b[11G130200000 tokens.\u001b[11G130300000 tokens.\u001b[11G130400000 tokens.\u001b[11G130500000 tokens.\u001b[11G130600000 tokens.\u001b[11G130700000 tokens.\u001b[11G130800000 tokens.\u001b[11G130900000 tokens.\u001b[11G131000000 tokens.\u001b[11G131100000 tokens.\u001b[11G131200000 tokens.\u001b[11G131300000 tokens.\u001b[11G131400000 tokens.\u001b[11G131500000 tokens.\u001b[11G131600000 tokens.\u001b[11G131700000 tokens.\u001b[11G131800000 tokens.\u001b[11G131900000 tokens.\u001b[11G132000000 tokens.\u001b[11G132100000 tokens.\u001b[11G132200000 tokens.\u001b[11G132300000 tokens.\u001b[11G132400000 tokens.\u001b[11G132500000 tokens.\u001b[11G132600000 tokens.\u001b[11G132700000 tokens.\u001b[11G132800000 tokens.\u001b[11G132900000 tokens.\u001b[11G133000000 tokens.\u001b[11G133100000 tokens.\u001b[11G133200000 tokens.\u001b[11G133300000 tokens.\u001b[11G133400000 tokens.\u001b[11G133500000 tokens.\u001b[11G133600000 tokens.\u001b[11G133700000 tokens.\u001b[11G133800000 tokens.\u001b[11G133900000 tokens.\u001b[11G134000000 tokens.\u001b[11G134100000 tokens.\u001b[11G134200000 tokens.\u001b[11G134300000 tokens.\u001b[11G134400000 tokens.\u001b[11G134500000 tokens.\u001b[11G134600000 tokens.\u001b[11G134700000 tokens.\u001b[11G134800000 tokens.\u001b[11G134900000 tokens.\u001b[11G135000000 tokens.\u001b[11G135100000 tokens.\u001b[11G135200000 tokens.\u001b[11G135300000 tokens.\u001b[11G135400000 tokens.\u001b[11G135500000 tokens.\u001b[11G135600000 tokens.\u001b[11G135700000 tokens.\u001b[11G135800000 tokens.\u001b[11G135900000 tokens.\u001b[11G136000000 tokens.\u001b[11G136100000 tokens.\u001b[11G136200000 tokens.\u001b[11G136300000 tokens.\u001b[11G136400000 tokens.\u001b[11G136500000 tokens.\u001b[11G136600000 tokens.\u001b[11G136700000 tokens.\u001b[11G136800000 tokens.\u001b[11G136900000 tokens.\u001b[11G137000000 tokens.\u001b[11G137100000 tokens.\u001b[11G137200000 tokens.\u001b[11G137300000 tokens.\u001b[11G137400000 tokens.\u001b[11G137500000 tokens.\u001b[11G137600000 tokens.\u001b[11G137700000 tokens.\u001b[11G137800000 tokens.\u001b[11G137900000 tokens.\u001b[11G138000000 tokens.\u001b[11G138100000 tokens.\u001b[11G138200000 tokens.\u001b[11G138300000 tokens.\u001b[11G138400000 tokens.\u001b[11G138500000 tokens.\u001b[11G138600000 tokens.\u001b[11G138700000 tokens.\u001b[11G138800000 tokens.\u001b[11G138900000 tokens.\u001b[11G139000000 tokens.\u001b[11G139100000 tokens.\u001b[11G139200000 tokens.\u001b[11G139300000 tokens.\u001b[11G139400000 tokens.\u001b[11G139500000 tokens.\u001b[11G139600000 tokens.\u001b[11G139700000 tokens.\u001b[11G139800000 tokens.\u001b[11G139900000 tokens.\u001b[11G140000000 tokens.\u001b[11G140100000 tokens.\u001b[11G140200000 tokens.\u001b[11G140300000 tokens.\u001b[11G140400000 tokens.\u001b[11G140500000 tokens.\u001b[11G140600000 tokens.\u001b[11G140700000 tokens.\u001b[11G140800000 tokens.\u001b[11G140900000 tokens.\u001b[11G141000000 tokens.\u001b[11G141100000 tokens.\u001b[11G141200000 tokens.\u001b[11G141300000 tokens.\u001b[11G141400000 tokens.\u001b[11G141500000 tokens.\u001b[11G141600000 tokens.\u001b[11G141700000 tokens.\u001b[11G141800000 tokens.\u001b[11G141900000 tokens.\u001b[11G142000000 tokens.\u001b[11G142100000 tokens.\u001b[11G142200000 tokens.\u001b[11G142300000 tokens.\u001b[11G142400000 tokens.\u001b[11G142500000 tokens.\u001b[11G142600000 tokens.\u001b[11G142700000 tokens.\u001b[11G142800000 tokens.\u001b[11G142900000 tokens.\u001b[11G143000000 tokens.\u001b[11G143100000 tokens.\u001b[11G143200000 tokens.\u001b[11G143300000 tokens.\u001b[11G143400000 tokens.\u001b[11G143500000 tokens.\u001b[11G143600000 tokens.\u001b[11G143700000 tokens.\u001b[11G143800000 tokens.\u001b[11G143900000 tokens.\u001b[11G144000000 tokens.\u001b[11G144100000 tokens.\u001b[11G144200000 tokens.\u001b[11G144300000 tokens.\u001b[11G144400000 tokens.\u001b[11G144500000 tokens.\u001b[11G144600000 tokens.\u001b[11G144700000 tokens.\u001b[11G144800000 tokens.\u001b[11G144900000 tokens.\u001b[11G145000000 tokens.\u001b[11G145100000 tokens.\u001b[11G145200000 tokens.\u001b[11G145300000 tokens.\u001b[11G145400000 tokens.\u001b[11G145500000 tokens.\u001b[11G145600000 tokens.\u001b[11G145700000 tokens.\u001b[11G145800000 tokens.\u001b[11G145900000 tokens.\u001b[11G146000000 tokens.\u001b[11G146100000 tokens.\u001b[11G146200000 tokens.\u001b[11G146300000 tokens.\u001b[11G146400000 tokens.\u001b[11G146500000 tokens.\u001b[11G146600000 tokens.\u001b[11G146700000 tokens.\u001b[11G146800000 tokens.\u001b[11G146900000 tokens.\u001b[11G147000000 tokens.\u001b[11G147100000 tokens.\u001b[11G147200000 tokens.\u001b[11G147300000 tokens.\u001b[11G147400000 tokens.\u001b[11G147500000 tokens.\u001b[11G147600000 tokens.\u001b[11G147700000 tokens.\u001b[11G147800000 tokens.\u001b[11G147900000 tokens.\u001b[11G148000000 tokens.\u001b[11G148100000 tokens.\u001b[11G148200000 tokens.\u001b[11G148300000 tokens.\u001b[11G148400000 tokens.\u001b[11G148500000 tokens.\u001b[11G148600000 tokens.\u001b[11G148700000 tokens.\u001b[11G148800000 tokens.\u001b[11G148900000 tokens.\u001b[11G149000000 tokens.\u001b[11G149100000 tokens.\u001b[11G149200000 tokens.\u001b[11G149300000 tokens.\u001b[11G149400000 tokens.\u001b[11G149500000 tokens.\u001b[11G149600000 tokens.\u001b[11G149700000 tokens.\u001b[11G149800000 tokens.\u001b[11G149900000 tokens.\u001b[11G150000000 tokens.\u001b[11G150100000 tokens.\u001b[11G150200000 tokens.\u001b[11G150300000 tokens.\u001b[11G150400000 tokens.\u001b[11G150500000 tokens.\u001b[11G150600000 tokens.\u001b[11G150700000 tokens.\u001b[11G150800000 tokens.\u001b[11G150900000 tokens.\u001b[11G151000000 tokens.\u001b[11G151100000 tokens.\u001b[11G151200000 tokens.\u001b[11G151300000 tokens.\u001b[11G151400000 tokens.\u001b[11G151500000 tokens.\u001b[11G151600000 tokens.\u001b[11G151700000 tokens.\u001b[11G151800000 tokens.\u001b[11G151900000 tokens.\u001b[11G152000000 tokens.\u001b[11G152100000 tokens.\u001b[11G152200000 tokens.\u001b[11G152300000 tokens.\u001b[11G152400000 tokens.\u001b[11G152500000 tokens.\u001b[11G152600000 tokens.\u001b[11G152700000 tokens.\u001b[11G152800000 tokens.\u001b[11G152900000 tokens.\u001b[11G153000000 tokens.\u001b[11G153100000 tokens.\u001b[11G153200000 tokens.\u001b[11G153300000 tokens.\u001b[11G153400000 tokens.\u001b[11G153500000 tokens.\u001b[11G153600000 tokens.\u001b[11G153700000 tokens.\u001b[11G153800000 tokens.\u001b[11G153900000 tokens.\u001b[11G154000000 tokens.\u001b[11G154100000 tokens.\u001b[11G154200000 tokens.\u001b[11G154300000 tokens.\u001b[11G154400000 tokens.\u001b[11G154500000 tokens.\u001b[11G154600000 tokens.\u001b[11G154700000 tokens.\u001b[11G154800000 tokens.\u001b[11G154900000 tokens.\u001b[11G155000000 tokens.\u001b[11G155100000 tokens.\u001b[11G155200000 tokens.\u001b[11G155300000 tokens.\u001b[11G155400000 tokens.\u001b[11G155500000 tokens.\u001b[11G155600000 tokens.\u001b[11G155700000 tokens.\u001b[11G155800000 tokens.\u001b[11G155900000 tokens.\u001b[11G156000000 tokens.\u001b[11G156100000 tokens.\u001b[11G156200000 tokens.\u001b[11G156300000 tokens.\u001b[11G156400000 tokens.\u001b[11G156500000 tokens.\u001b[11G156600000 tokens.\u001b[11G156700000 tokens.\u001b[11G156800000 tokens.\u001b[11G156900000 tokens.\u001b[11G157000000 tokens.\u001b[11G157100000 tokens.\u001b[11G157200000 tokens.\u001b[11G157300000 tokens.\u001b[11G157400000 tokens.\u001b[11G157500000 tokens.\u001b[11G157600000 tokens.\u001b[11G157700000 tokens.\u001b[11G157800000 tokens.\u001b[11G157900000 tokens.\u001b[11G158000000 tokens.\u001b[11G158100000 tokens.\u001b[11G158200000 tokens.\u001b[11G158300000 tokens.\u001b[11G158400000 tokens.\u001b[11G158500000 tokens.\u001b[11G158600000 tokens.\u001b[11G158700000 tokens.\u001b[11G158800000 tokens.\u001b[11G158900000 tokens.\u001b[11G159000000 tokens.\u001b[11G159100000 tokens.\u001b[11G159200000 tokens.\u001b[11G159300000 tokens.\u001b[11G159400000 tokens.\u001b[11G159500000 tokens.\u001b[11G159600000 tokens.\u001b[11G159700000 tokens.\u001b[11G159800000 tokens.\u001b[11G159900000 tokens.\u001b[11G160000000 tokens.\u001b[11G160100000 tokens.\u001b[11G160200000 tokens.\u001b[11G160300000 tokens.\u001b[11G160400000 tokens.\u001b[11G160500000 tokens.\u001b[11G160600000 tokens.\u001b[11G160700000 tokens.\u001b[11G160800000 tokens.\u001b[11G160900000 tokens.\u001b[11G161000000 tokens.\u001b[11G161100000 tokens.\u001b[11G161200000 tokens.\u001b[11G161300000 tokens.\u001b[11G161400000 tokens.\u001b[11G161500000 tokens.\u001b[11G161600000 tokens.\u001b[11G161700000 tokens.\u001b[11G161800000 tokens.\u001b[11G161900000 tokens.\u001b[11G162000000 tokens.\u001b[11G162100000 tokens.\u001b[11G162200000 tokens.\u001b[11G162300000 tokens.\u001b[11G162400000 tokens.\u001b[11G162500000 tokens.\u001b[11G162600000 tokens.\u001b[11G162700000 tokens.\u001b[11G162800000 tokens.\u001b[11G162900000 tokens.\u001b[11G163000000 tokens.\u001b[11G163100000 tokens.\u001b[11G163200000 tokens.\u001b[11G163300000 tokens.\u001b[11G163400000 tokens.\u001b[11G163500000 tokens.\u001b[11G163600000 tokens.\u001b[11G163700000 tokens.\u001b[11G163800000 tokens.\u001b[11G163900000 tokens.\u001b[11G164000000 tokens.\u001b[11G164100000 tokens.\u001b[11G164200000 tokens.\u001b[11G164300000 tokens.\u001b[11G164400000 tokens.\u001b[11G164500000 tokens.\u001b[11G164600000 tokens.\u001b[11G164700000 tokens.\u001b[11G164800000 tokens.\u001b[11G164900000 tokens.\u001b[11G165000000 tokens.\u001b[11G165100000 tokens.\u001b[11G165200000 tokens.\u001b[11G165300000 tokens.\u001b[11G165400000 tokens.\u001b[11G165500000 tokens.\u001b[11G165600000 tokens.\u001b[11G165700000 tokens.\u001b[11G165800000 tokens.\u001b[11G165900000 tokens.\u001b[11G166000000 tokens.\u001b[11G166100000 tokens.\u001b[11G166200000 tokens.\u001b[11G166300000 tokens.\u001b[11G166400000 tokens.\u001b[11G166500000 tokens.\u001b[11G166600000 tokens.\u001b[11G166700000 tokens.\u001b[11G166800000 tokens.\u001b[11G166900000 tokens.\u001b[11G167000000 tokens.\u001b[11G167100000 tokens.\u001b[11G167200000 tokens.\u001b[11G167300000 tokens.\u001b[11G167400000 tokens.\u001b[11G167500000 tokens.\u001b[11G167600000 tokens.\u001b[11G167700000 tokens.\u001b[11G167800000 tokens.\u001b[11G167900000 tokens.\u001b[11G168000000 tokens.\u001b[11G168100000 tokens.\u001b[11G168200000 tokens.\u001b[11G168300000 tokens.\u001b[11G168400000 tokens.\u001b[11G168500000 tokens.\u001b[11G168600000 tokens.\u001b[11G168700000 tokens.\u001b[11G168800000 tokens.\u001b[11G168900000 tokens.\u001b[11G169000000 tokens.\u001b[11G169100000 tokens.\u001b[11G169200000 tokens.\u001b[11G169300000 tokens.\u001b[11G169400000 tokens.\u001b[11G169500000 tokens.\u001b[11G169600000 tokens.\u001b[11G169700000 tokens.\u001b[11G169800000 tokens.\u001b[11G169900000 tokens.\u001b[11G170000000 tokens.\u001b[11G170100000 tokens.\u001b[11G170200000 tokens.\u001b[11G170300000 tokens.\u001b[11G170400000 tokens.\u001b[11G170500000 tokens.\u001b[11G170600000 tokens.\u001b[11G170700000 tokens.\u001b[11G170800000 tokens.\u001b[11G170900000 tokens.\u001b[11G171000000 tokens.\u001b[11G171100000 tokens.\u001b[11G171200000 tokens.\u001b[11G171300000 tokens.\u001b[11G171400000 tokens.\u001b[11G171500000 tokens.\u001b[11G171600000 tokens.\u001b[11G171700000 tokens.\u001b[11G171800000 tokens.\u001b[11G171900000 tokens.\u001b[11G172000000 tokens.\u001b[11G172100000 tokens.\u001b[11G172200000 tokens.\u001b[11G172300000 tokens.\u001b[11G172400000 tokens.\u001b[11G172500000 tokens.\u001b[11G172600000 tokens.\u001b[11G172700000 tokens.\u001b[11G172800000 tokens.\u001b[11G172900000 tokens.\u001b[11G173000000 tokens.\u001b[11G173100000 tokens.\u001b[11G173200000 tokens.\u001b[11G173300000 tokens.\u001b[11G173400000 tokens.\u001b[11G173500000 tokens.\u001b[11G173600000 tokens.\u001b[11G173700000 tokens.\u001b[11G173800000 tokens.\u001b[11G173900000 tokens.\u001b[11G174000000 tokens.\u001b[11G174100000 tokens.\u001b[11G174200000 tokens.\u001b[11G174300000 tokens.\u001b[11G174400000 tokens.\u001b[11G174500000 tokens.\u001b[11G174600000 tokens.\u001b[11G174700000 tokens.\u001b[11G174800000 tokens.\u001b[11G174900000 tokens.\u001b[11G175000000 tokens.\u001b[11G175100000 tokens.\u001b[11G175200000 tokens.\u001b[11G175300000 tokens.\u001b[11G175400000 tokens.\u001b[11G175500000 tokens.\u001b[11G175600000 tokens.\u001b[11G175700000 tokens.\u001b[11G175800000 tokens.\u001b[11G175900000 tokens.\u001b[11G176000000 tokens.\u001b[11G176100000 tokens.\u001b[11G176200000 tokens.\u001b[11G176300000 tokens.\u001b[11G176400000 tokens.\u001b[11G176500000 tokens.\u001b[11G176600000 tokens.\u001b[11G176700000 tokens.\u001b[11G176800000 tokens.\u001b[11G176900000 tokens.\u001b[11G177000000 tokens.\u001b[11G177100000 tokens.\u001b[11G177200000 tokens.\u001b[11G177300000 tokens.\u001b[11G177400000 tokens.\u001b[11G177500000 tokens.\u001b[11G177600000 tokens.\u001b[11G177700000 tokens.\u001b[11G177800000 tokens.\u001b[11G177900000 tokens.\u001b[11G178000000 tokens.\u001b[11G178100000 tokens.\u001b[11G178200000 tokens.\u001b[11G178300000 tokens.\u001b[11G178400000 tokens.\u001b[11G178500000 tokens.\u001b[11G178600000 tokens.\u001b[11G178700000 tokens.\u001b[11G178800000 tokens.\u001b[11G178900000 tokens.\u001b[11G179000000 tokens.\u001b[11G179100000 tokens.\u001b[11G179200000 tokens.\u001b[11G179300000 tokens.\u001b[11G179400000 tokens.\u001b[11G179500000 tokens.\u001b[11G179600000 tokens.\u001b[11G179700000 tokens.\u001b[11G179800000 tokens.\u001b[11G179900000 tokens.\u001b[11G180000000 tokens.\u001b[11G180100000 tokens.\u001b[11G180200000 tokens.\u001b[11G180300000 tokens.\u001b[11G180400000 tokens.\u001b[11G180500000 tokens.\u001b[11G180600000 tokens.\u001b[11G180700000 tokens.\u001b[11G180800000 tokens.\u001b[11G180900000 tokens.\u001b[11G181000000 tokens.\u001b[11G181100000 tokens.\u001b[11G181200000 tokens.\u001b[11G181300000 tokens.\u001b[11G181400000 tokens.\u001b[11G181500000 tokens.\u001b[11G181600000 tokens.\u001b[11G181700000 tokens.\u001b[11G181800000 tokens.\u001b[11G181900000 tokens.\u001b[11G182000000 tokens.\u001b[11G182100000 tokens.\u001b[11G182200000 tokens.\u001b[11G182300000 tokens.\u001b[11G182400000 tokens.\u001b[11G182500000 tokens.\u001b[11G182600000 tokens.\u001b[11G182700000 tokens.\u001b[11G182800000 tokens.\u001b[11G182900000 tokens.\u001b[11G183000000 tokens.\u001b[11G183100000 tokens.\u001b[11G183200000 tokens.\u001b[11G183300000 tokens.\u001b[11G183400000 tokens.\u001b[11G183500000 tokens.\u001b[11G183600000 tokens.\u001b[11G183700000 tokens.\u001b[11G183800000 tokens.\u001b[11G183900000 tokens.\u001b[11G184000000 tokens.\u001b[11G184100000 tokens.\u001b[11G184200000 tokens.\u001b[11G184300000 tokens.\u001b[11G184400000 tokens.\u001b[11G184500000 tokens.\u001b[11G184600000 tokens.\u001b[11G184700000 tokens.\u001b[11G184800000 tokens.\u001b[11G184900000 tokens.\u001b[11G185000000 tokens.\u001b[11G185100000 tokens.\u001b[11G185200000 tokens.\u001b[11G185300000 tokens.\u001b[11G185400000 tokens.\u001b[11G185500000 tokens.\u001b[11G185600000 tokens.\u001b[11G185700000 tokens.\u001b[11G185800000 tokens.\u001b[11G185900000 tokens.\u001b[11G186000000 tokens.\u001b[11G186100000 tokens.\u001b[11G186200000 tokens.\u001b[11G186300000 tokens.\u001b[11G186400000 tokens.\u001b[11G186500000 tokens.\u001b[11G186600000 tokens.\u001b[11G186700000 tokens.\u001b[11G186800000 tokens.\u001b[11G186900000 tokens.\u001b[11G187000000 tokens.\u001b[11G187100000 tokens.\u001b[11G187200000 tokens.\u001b[11G187300000 tokens.\u001b[11G187400000 tokens.\u001b[11G187500000 tokens.\u001b[11G187600000 tokens.\u001b[11G187700000 tokens.\u001b[11G187800000 tokens.\u001b[11G187900000 tokens.\u001b[11G188000000 tokens.\u001b[11G188100000 tokens.\u001b[11G188200000 tokens.\u001b[11G188300000 tokens.\u001b[11G188400000 tokens.\u001b[11G188500000 tokens.\u001b[11G188600000 tokens.\u001b[11G188700000 tokens.\u001b[11G188800000 tokens.\u001b[11G188900000 tokens.\u001b[11G189000000 tokens.\u001b[11G189100000 tokens.\u001b[11G189200000 tokens.\u001b[11G189300000 tokens.\u001b[11G189400000 tokens.\u001b[11G189500000 tokens.\u001b[11G189600000 tokens.\u001b[11G189700000 tokens.\u001b[11G189800000 tokens.\u001b[11G189900000 tokens.\u001b[11G190000000 tokens.\u001b[11G190100000 tokens.\u001b[11G190200000 tokens.\u001b[11G190300000 tokens.\u001b[11G190400000 tokens.\u001b[11G190500000 tokens.\u001b[11G190600000 tokens.\u001b[11G190700000 tokens.\u001b[11G190800000 tokens.\u001b[11G190900000 tokens.\u001b[11G191000000 tokens.\u001b[11G191100000 tokens.\u001b[11G191200000 tokens.\u001b[11G191300000 tokens.\u001b[11G191400000 tokens.\u001b[11G191500000 tokens.\u001b[11G191600000 tokens.\u001b[11G191700000 tokens.\u001b[11G191800000 tokens.\u001b[11G191900000 tokens.\u001b[11G192000000 tokens.\u001b[11G192100000 tokens.\u001b[11G192200000 tokens.\u001b[11G192300000 tokens.\u001b[11G192400000 tokens.\u001b[11G192500000 tokens.\u001b[11G192600000 tokens.\u001b[11G192700000 tokens.\u001b[11G192800000 tokens.\u001b[11G192900000 tokens.\u001b[11G193000000 tokens.\u001b[11G193100000 tokens.\u001b[11G193200000 tokens.\u001b[11G193300000 tokens.\u001b[11G193400000 tokens.\u001b[11G193500000 tokens.\u001b[11G193600000 tokens.\u001b[11G193700000 tokens.\u001b[11G193800000 tokens.\u001b[11G193900000 tokens.\u001b[11G194000000 tokens.\u001b[11G194100000 tokens.\u001b[11G194200000 tokens.\u001b[11G194300000 tokens.\u001b[11G194400000 tokens.\u001b[11G194500000 tokens.\u001b[11G194600000 tokens.\u001b[11G194700000 tokens.\u001b[11G194800000 tokens.\u001b[11G194900000 tokens.\u001b[11G195000000 tokens.\u001b[11G195100000 tokens.\u001b[11G195200000 tokens.\u001b[11G195300000 tokens.\u001b[11G195400000 tokens.\u001b[11G195500000 tokens.\u001b[11G195600000 tokens.\u001b[11G195700000 tokens.\u001b[11G195800000 tokens.\u001b[11G195900000 tokens.\u001b[11G196000000 tokens.\u001b[11G196100000 tokens.\u001b[11G196200000 tokens.\u001b[11G196300000 tokens.\u001b[11G196400000 tokens.\u001b[11G196500000 tokens.\u001b[11G196600000 tokens.\u001b[11G196700000 tokens.\u001b[11G196800000 tokens.\u001b[11G196900000 tokens.\u001b[11G197000000 tokens.\u001b[11G197100000 tokens.\u001b[11G197200000 tokens.\u001b[11G197300000 tokens.\u001b[11G197400000 tokens.\u001b[11G197500000 tokens.\u001b[11G197600000 tokens.\u001b[11G197700000 tokens.\u001b[11G197800000 tokens.\u001b[11G197900000 tokens.\u001b[11G198000000 tokens.\u001b[11G198100000 tokens.\u001b[11G198200000 tokens.\u001b[11G198300000 tokens.\u001b[11G198400000 tokens.\u001b[11G198500000 tokens.\u001b[11G198600000 tokens.\u001b[11G198700000 tokens.\u001b[11G198800000 tokens.\u001b[0GProcessed 198819503 tokens.\n",
            "Counted 350356 unique words.\n",
            "Truncating vocabulary at min count 5.\n",
            "Using vocabulary of size 152974.\n",
            "\n",
            "$ build/cooccur -memory 4.0 -vocab-file glove_input.txt -verbose 2 -window-size 15 < processed_abstracts_jan.txt > cooccurrence.bin\n",
            "COUNTING COOCCURRENCES\n",
            "window size: 15\n",
            "context: symmetric\n",
            "max product: 13752509\n",
            "overflow length: 38028356\n",
            "Reading vocab from file \"glove_input.txt\"...loaded 152974 words.\n",
            "Building lookup table...table contains 115909009 elements.\n",
            "Processing token: 0\u001b[19G100000\u001b[19G200000\u001b[19G300000\u001b[19G400000\u001b[19G500000\u001b[19G600000\u001b[19G700000\u001b[19G800000\u001b[19G900000\u001b[19G1000000\u001b[19G1100000\u001b[19G1200000\u001b[19G1300000\u001b[19G1400000\u001b[19G1500000\u001b[19G1600000\u001b[19G1700000\u001b[19G1800000\u001b[19G1900000\u001b[19G2000000\u001b[19G2100000\u001b[19G2200000\u001b[19G2300000\u001b[19G2400000\u001b[19G2500000\u001b[19G2600000\u001b[19G2700000\u001b[19G2800000\u001b[19G2900000\u001b[19G3000000\u001b[19G3100000\u001b[19G3200000\u001b[19G3300000\u001b[19G3400000\u001b[19G3500000\u001b[19G3600000\u001b[19G3700000\u001b[19G3800000\u001b[19G3900000\u001b[19G4000000\u001b[19G4100000\u001b[19G4200000\u001b[19G4300000\u001b[19G4400000\u001b[19G4500000\u001b[19G4600000\u001b[19G4700000\u001b[19G4800000\u001b[19G4900000\u001b[19G5000000\u001b[19G5100000\u001b[19G5200000\u001b[19G5300000\u001b[19G5400000\u001b[19G5500000\u001b[19G5600000\u001b[19G5700000\u001b[19G5800000\u001b[19G5900000\u001b[19G6000000\u001b[19G6100000\u001b[19G6200000\u001b[19G6300000\u001b[19G6400000\u001b[19G6500000\u001b[19G6600000\u001b[19G6700000\u001b[19G6800000\u001b[19G6900000\u001b[19G7000000\u001b[19G7100000\u001b[19G7200000\u001b[19G7300000\u001b[19G7400000\u001b[19G7500000\u001b[19G7600000\u001b[19G7700000\u001b[19G7800000\u001b[19G7900000\u001b[19G8000000\u001b[19G8100000\u001b[19G8200000\u001b[19G8300000\u001b[19G8400000\u001b[19G8500000\u001b[19G8600000\u001b[19G8700000\u001b[19G8800000\u001b[19G8900000\u001b[19G9000000\u001b[19G9100000\u001b[19G9200000\u001b[19G9300000\u001b[19G9400000\u001b[19G9500000\u001b[19G9600000\u001b[19G9700000\u001b[19G9800000\u001b[19G9900000\u001b[19G10000000\u001b[19G10100000\u001b[19G10200000\u001b[19G10300000\u001b[19G10400000\u001b[19G10500000\u001b[19G10600000\u001b[19G10700000\u001b[19G10800000\u001b[19G10900000\u001b[19G11000000\u001b[19G11100000\u001b[19G11200000\u001b[19G11300000\u001b[19G11400000\u001b[19G11500000\u001b[19G11600000\u001b[19G11700000\u001b[19G11800000\u001b[19G11900000\u001b[19G12000000\u001b[19G12100000\u001b[19G12200000\u001b[19G12300000\u001b[19G12400000\u001b[19G12500000\u001b[19G12600000\u001b[19G12700000\u001b[19G12800000\u001b[19G12900000\u001b[19G13000000\u001b[19G13100000\u001b[19G13200000\u001b[19G13300000\u001b[19G13400000\u001b[19G13500000\u001b[19G13600000\u001b[19G13700000\u001b[19G13800000\u001b[19G13900000\u001b[19G14000000\u001b[19G14100000\u001b[19G14200000\u001b[19G14300000\u001b[19G14400000\u001b[19G14500000\u001b[19G14600000\u001b[19G14700000\u001b[19G14800000\u001b[19G14900000\u001b[19G15000000\u001b[19G15100000\u001b[19G15200000\u001b[19G15300000\u001b[19G15400000\u001b[19G15500000\u001b[19G15600000\u001b[19G15700000\u001b[19G15800000\u001b[19G15900000\u001b[19G16000000\u001b[19G16100000\u001b[19G16200000\u001b[19G16300000\u001b[19G16400000\u001b[19G16500000\u001b[19G16600000\u001b[19G16700000\u001b[19G16800000\u001b[19G16900000\u001b[19G17000000\u001b[19G17100000\u001b[19G17200000\u001b[19G17300000\u001b[19G17400000\u001b[19G17500000\u001b[19G17600000\u001b[19G17700000\u001b[19G17800000\u001b[19G17900000\u001b[19G18000000\u001b[19G18100000\u001b[19G18200000\u001b[19G18300000\u001b[19G18400000\u001b[19G18500000\u001b[19G18600000\u001b[19G18700000\u001b[19G18800000\u001b[19G18900000\u001b[19G19000000\u001b[19G19100000\u001b[19G19200000\u001b[19G19300000\u001b[19G19400000\u001b[19G19500000\u001b[19G19600000\u001b[19G19700000\u001b[19G19800000\u001b[19G19900000\u001b[19G20000000\u001b[19G20100000\u001b[19G20200000\u001b[19G20300000\u001b[19G20400000\u001b[19G20500000\u001b[19G20600000\u001b[19G20700000\u001b[19G20800000\u001b[19G20900000\u001b[19G21000000\u001b[19G21100000\u001b[19G21200000\u001b[19G21300000\u001b[19G21400000\u001b[19G21500000\u001b[19G21600000\u001b[19G21700000\u001b[19G21800000\u001b[19G21900000\u001b[19G22000000\u001b[19G22100000\u001b[19G22200000\u001b[19G22300000\u001b[19G22400000\u001b[19G22500000\u001b[19G22600000\u001b[19G22700000\u001b[19G22800000\u001b[19G22900000\u001b[19G23000000\u001b[19G23100000\u001b[19G23200000\u001b[19G23300000\u001b[19G23400000\u001b[19G23500000\u001b[19G23600000\u001b[19G23700000\u001b[19G23800000\u001b[19G23900000\u001b[19G24000000\u001b[19G24100000\u001b[19G24200000\u001b[19G24300000\u001b[19G24400000\u001b[19G24500000\u001b[19G24600000\u001b[19G24700000\u001b[19G24800000\u001b[19G24900000\u001b[19G25000000\u001b[19G25100000\u001b[19G25200000\u001b[19G25300000\u001b[19G25400000\u001b[19G25500000\u001b[19G25600000\u001b[19G25700000\u001b[19G25800000\u001b[19G25900000\u001b[19G26000000\u001b[19G26100000\u001b[19G26200000\u001b[19G26300000\u001b[19G26400000\u001b[19G26500000\u001b[19G26600000\u001b[19G26700000\u001b[19G26800000\u001b[19G26900000\u001b[19G27000000\u001b[19G27100000\u001b[19G27200000\u001b[19G27300000\u001b[19G27400000\u001b[19G27500000\u001b[19G27600000\u001b[19G27700000\u001b[19G27800000\u001b[19G27900000\u001b[19G28000000\u001b[19G28100000\u001b[19G28200000\u001b[19G28300000\u001b[19G28400000\u001b[19G28500000\u001b[19G28600000\u001b[19G28700000\u001b[19G28800000\u001b[19G28900000\u001b[19G29000000\u001b[19G29100000\u001b[19G29200000\u001b[19G29300000\u001b[19G29400000\u001b[19G29500000\u001b[19G29600000\u001b[19G29700000\u001b[19G29800000\u001b[19G29900000\u001b[19G30000000\u001b[19G30100000\u001b[19G30200000\u001b[19G30300000\u001b[19G30400000\u001b[19G30500000\u001b[19G30600000\u001b[19G30700000\u001b[19G30800000\u001b[19G30900000\u001b[19G31000000\u001b[19G31100000\u001b[19G31200000\u001b[19G31300000\u001b[19G31400000\u001b[19G31500000\u001b[19G31600000\u001b[19G31700000\u001b[19G31800000\u001b[19G31900000\u001b[19G32000000\u001b[19G32100000\u001b[19G32200000\u001b[19G32300000\u001b[19G32400000\u001b[19G32500000\u001b[19G32600000\u001b[19G32700000\u001b[19G32800000\u001b[19G32900000\u001b[19G33000000\u001b[19G33100000\u001b[19G33200000\u001b[19G33300000\u001b[19G33400000\u001b[19G33500000\u001b[19G33600000\u001b[19G33700000\u001b[19G33800000\u001b[19G33900000\u001b[19G34000000\u001b[19G34100000\u001b[19G34200000\u001b[19G34300000\u001b[19G34400000\u001b[19G34500000\u001b[19G34600000\u001b[19G34700000\u001b[19G34800000\u001b[19G34900000\u001b[19G35000000\u001b[19G35100000\u001b[19G35200000\u001b[19G35300000\u001b[19G35400000\u001b[19G35500000\u001b[19G35600000\u001b[19G35700000\u001b[19G35800000\u001b[19G35900000\u001b[19G36000000\u001b[19G36100000\u001b[19G36200000\u001b[19G36300000\u001b[19G36400000\u001b[19G36500000\u001b[19G36600000\u001b[19G36700000\u001b[19G36800000\u001b[19G36900000\u001b[19G37000000\u001b[19G37100000\u001b[19G37200000\u001b[19G37300000\u001b[19G37400000\u001b[19G37500000\u001b[19G37600000\u001b[19G37700000\u001b[19G37800000\u001b[19G37900000\u001b[19G38000000\u001b[19G38100000\u001b[19G38200000\u001b[19G38300000\u001b[19G38400000\u001b[19G38500000\u001b[19G38600000\u001b[19G38700000\u001b[19G38800000\u001b[19G38900000\u001b[19G39000000\u001b[19G39100000\u001b[19G39200000\u001b[19G39300000\u001b[19G39400000\u001b[19G39500000\u001b[19G39600000\u001b[19G39700000\u001b[19G39800000\u001b[19G39900000\u001b[19G40000000\u001b[19G40100000\u001b[19G40200000\u001b[19G40300000\u001b[19G40400000\u001b[19G40500000\u001b[19G40600000\u001b[19G40700000\u001b[19G40800000\u001b[19G40900000\u001b[19G41000000\u001b[19G41100000\u001b[19G41200000\u001b[19G41300000\u001b[19G41400000\u001b[19G41500000\u001b[19G41600000\u001b[19G41700000\u001b[19G41800000\u001b[19G41900000\u001b[19G42000000\u001b[19G42100000\u001b[19G42200000\u001b[19G42300000\u001b[19G42400000\u001b[19G42500000\u001b[19G42600000\u001b[19G42700000\u001b[19G42800000\u001b[19G42900000\u001b[19G43000000\u001b[19G43100000\u001b[19G43200000\u001b[19G43300000\u001b[19G43400000\u001b[19G43500000\u001b[19G43600000\u001b[19G43700000\u001b[19G43800000\u001b[19G43900000\u001b[19G44000000\u001b[19G44100000\u001b[19G44200000\u001b[19G44300000\u001b[19G44400000\u001b[19G44500000\u001b[19G44600000\u001b[19G44700000\u001b[19G44800000\u001b[19G44900000\u001b[19G45000000\u001b[19G45100000\u001b[19G45200000\u001b[19G45300000\u001b[19G45400000\u001b[19G45500000\u001b[19G45600000\u001b[19G45700000\u001b[19G45800000\u001b[19G45900000\u001b[19G46000000\u001b[19G46100000\u001b[19G46200000\u001b[19G46300000\u001b[19G46400000\u001b[19G46500000\u001b[19G46600000\u001b[19G46700000\u001b[19G46800000\u001b[19G46900000\u001b[19G47000000\u001b[19G47100000\u001b[19G47200000\u001b[19G47300000\u001b[19G47400000\u001b[19G47500000\u001b[19G47600000\u001b[19G47700000\u001b[19G47800000\u001b[19G47900000\u001b[19G48000000\u001b[19G48100000\u001b[19G48200000\u001b[19G48300000\u001b[19G48400000\u001b[19G48500000\u001b[19G48600000\u001b[19G48700000\u001b[19G48800000\u001b[19G48900000\u001b[19G49000000\u001b[19G49100000\u001b[19G49200000\u001b[19G49300000\u001b[19G49400000\u001b[19G49500000\u001b[19G49600000\u001b[19G49700000\u001b[19G49800000\u001b[19G49900000\u001b[19G50000000\u001b[19G50100000\u001b[19G50200000\u001b[19G50300000\u001b[19G50400000\u001b[19G50500000\u001b[19G50600000\u001b[19G50700000\u001b[19G50800000\u001b[19G50900000\u001b[19G51000000\u001b[19G51100000\u001b[19G51200000\u001b[19G51300000\u001b[19G51400000\u001b[19G51500000\u001b[19G51600000\u001b[19G51700000\u001b[19G51800000\u001b[19G51900000\u001b[19G52000000\u001b[19G52100000\u001b[19G52200000\u001b[19G52300000\u001b[19G52400000\u001b[19G52500000\u001b[19G52600000\u001b[19G52700000\u001b[19G52800000\u001b[19G52900000\u001b[19G53000000\u001b[19G53100000\u001b[19G53200000\u001b[19G53300000\u001b[19G53400000\u001b[19G53500000\u001b[19G53600000\u001b[19G53700000\u001b[19G53800000\u001b[19G53900000\u001b[19G54000000\u001b[19G54100000\u001b[19G54200000\u001b[19G54300000\u001b[19G54400000\u001b[19G54500000\u001b[19G54600000\u001b[19G54700000\u001b[19G54800000\u001b[19G54900000\u001b[19G55000000\u001b[19G55100000\u001b[19G55200000\u001b[19G55300000\u001b[19G55400000\u001b[19G55500000\u001b[19G55600000\u001b[19G55700000\u001b[19G55800000\u001b[19G55900000\u001b[19G56000000\u001b[19G56100000\u001b[19G56200000\u001b[19G56300000\u001b[19G56400000\u001b[19G56500000\u001b[19G56600000\u001b[19G56700000\u001b[19G56800000\u001b[19G56900000\u001b[19G57000000\u001b[19G57100000\u001b[19G57200000\u001b[19G57300000\u001b[19G57400000\u001b[19G57500000\u001b[19G57600000\u001b[19G57700000\u001b[19G57800000\u001b[19G57900000\u001b[19G58000000\u001b[19G58100000\u001b[19G58200000\u001b[19G58300000\u001b[19G58400000\u001b[19G58500000\u001b[19G58600000\u001b[19G58700000\u001b[19G58800000\u001b[19G58900000\u001b[19G59000000\u001b[19G59100000\u001b[19G59200000\u001b[19G59300000\u001b[19G59400000\u001b[19G59500000\u001b[19G59600000\u001b[19G59700000\u001b[19G59800000\u001b[19G59900000\u001b[19G60000000\u001b[19G60100000\u001b[19G60200000\u001b[19G60300000\u001b[19G60400000\u001b[19G60500000\u001b[19G60600000\u001b[19G60700000\u001b[19G60800000\u001b[19G60900000\u001b[19G61000000\u001b[19G61100000\u001b[19G61200000\u001b[19G61300000\u001b[19G61400000\u001b[19G61500000\u001b[19G61600000\u001b[19G61700000\u001b[19G61800000\u001b[19G61900000\u001b[19G62000000\u001b[19G62100000\u001b[19G62200000\u001b[19G62300000\u001b[19G62400000\u001b[19G62500000\u001b[19G62600000\u001b[19G62700000\u001b[19G62800000\u001b[19G62900000\u001b[19G63000000\u001b[19G63100000\u001b[19G63200000\u001b[19G63300000\u001b[19G63400000\u001b[19G63500000\u001b[19G63600000\u001b[19G63700000\u001b[19G63800000\u001b[19G63900000\u001b[19G64000000\u001b[19G64100000\u001b[19G64200000\u001b[19G64300000\u001b[19G64400000\u001b[19G64500000\u001b[19G64600000\u001b[19G64700000\u001b[19G64800000\u001b[19G64900000\u001b[19G65000000\u001b[19G65100000\u001b[19G65200000\u001b[19G65300000\u001b[19G65400000\u001b[19G65500000\u001b[19G65600000\u001b[19G65700000\u001b[19G65800000\u001b[19G65900000\u001b[19G66000000\u001b[19G66100000\u001b[19G66200000\u001b[19G66300000\u001b[19G66400000\u001b[19G66500000\u001b[19G66600000\u001b[19G66700000\u001b[19G66800000\u001b[19G66900000\u001b[19G67000000\u001b[19G67100000\u001b[19G67200000\u001b[19G67300000\u001b[19G67400000\u001b[19G67500000\u001b[19G67600000\u001b[19G67700000\u001b[19G67800000\u001b[19G67900000\u001b[19G68000000\u001b[19G68100000\u001b[19G68200000\u001b[19G68300000\u001b[19G68400000\u001b[19G68500000\u001b[19G68600000\u001b[19G68700000\u001b[19G68800000\u001b[19G68900000\u001b[19G69000000\u001b[19G69100000\u001b[19G69200000\u001b[19G69300000\u001b[19G69400000\u001b[19G69500000\u001b[19G69600000\u001b[19G69700000\u001b[19G69800000\u001b[19G69900000\u001b[19G70000000\u001b[19G70100000\u001b[19G70200000\u001b[19G70300000\u001b[19G70400000\u001b[19G70500000\u001b[19G70600000\u001b[19G70700000\u001b[19G70800000\u001b[19G70900000\u001b[19G71000000\u001b[19G71100000\u001b[19G71200000\u001b[19G71300000\u001b[19G71400000\u001b[19G71500000\u001b[19G71600000\u001b[19G71700000\u001b[19G71800000\u001b[19G71900000\u001b[19G72000000\u001b[19G72100000\u001b[19G72200000\u001b[19G72300000\u001b[19G72400000\u001b[19G72500000\u001b[19G72600000\u001b[19G72700000\u001b[19G72800000\u001b[19G72900000\u001b[19G73000000\u001b[19G73100000\u001b[19G73200000\u001b[19G73300000\u001b[19G73400000\u001b[19G73500000\u001b[19G73600000\u001b[19G73700000\u001b[19G73800000\u001b[19G73900000\u001b[19G74000000\u001b[19G74100000\u001b[19G74200000\u001b[19G74300000\u001b[19G74400000\u001b[19G74500000\u001b[19G74600000\u001b[19G74700000\u001b[19G74800000\u001b[19G74900000\u001b[19G75000000\u001b[19G75100000\u001b[19G75200000\u001b[19G75300000\u001b[19G75400000\u001b[19G75500000\u001b[19G75600000\u001b[19G75700000\u001b[19G75800000\u001b[19G75900000\u001b[19G76000000\u001b[19G76100000\u001b[19G76200000\u001b[19G76300000\u001b[19G76400000\u001b[19G76500000\u001b[19G76600000\u001b[19G76700000\u001b[19G76800000\u001b[19G76900000\u001b[19G77000000\u001b[19G77100000\u001b[19G77200000\u001b[19G77300000\u001b[19G77400000\u001b[19G77500000\u001b[19G77600000\u001b[19G77700000\u001b[19G77800000\u001b[19G77900000\u001b[19G78000000\u001b[19G78100000\u001b[19G78200000\u001b[19G78300000\u001b[19G78400000\u001b[19G78500000\u001b[19G78600000\u001b[19G78700000\u001b[19G78800000\u001b[19G78900000\u001b[19G79000000\u001b[19G79100000\u001b[19G79200000\u001b[19G79300000\u001b[19G79400000\u001b[19G79500000\u001b[19G79600000\u001b[19G79700000\u001b[19G79800000\u001b[19G79900000\u001b[19G80000000\u001b[19G80100000\u001b[19G80200000\u001b[19G80300000\u001b[19G80400000\u001b[19G80500000\u001b[19G80600000\u001b[19G80700000\u001b[19G80800000\u001b[19G80900000\u001b[19G81000000\u001b[19G81100000\u001b[19G81200000\u001b[19G81300000\u001b[19G81400000\u001b[19G81500000\u001b[19G81600000\u001b[19G81700000\u001b[19G81800000\u001b[19G81900000\u001b[19G82000000\u001b[19G82100000\u001b[19G82200000\u001b[19G82300000\u001b[19G82400000\u001b[19G82500000\u001b[19G82600000\u001b[19G82700000\u001b[19G82800000\u001b[19G82900000\u001b[19G83000000\u001b[19G83100000\u001b[19G83200000\u001b[19G83300000\u001b[19G83400000\u001b[19G83500000\u001b[19G83600000\u001b[19G83700000\u001b[19G83800000\u001b[19G83900000\u001b[19G84000000\u001b[19G84100000\u001b[19G84200000\u001b[19G84300000\u001b[19G84400000\u001b[19G84500000\u001b[19G84600000\u001b[19G84700000\u001b[19G84800000\u001b[19G84900000\u001b[19G85000000\u001b[19G85100000\u001b[19G85200000\u001b[19G85300000\u001b[19G85400000\u001b[19G85500000\u001b[19G85600000\u001b[19G85700000\u001b[19G85800000\u001b[19G85900000\u001b[19G86000000\u001b[19G86100000\u001b[19G86200000\u001b[19G86300000\u001b[19G86400000\u001b[19G86500000\u001b[19G86600000\u001b[19G86700000\u001b[19G86800000\u001b[19G86900000\u001b[19G87000000\u001b[19G87100000\u001b[19G87200000\u001b[19G87300000\u001b[19G87400000\u001b[19G87500000\u001b[19G87600000\u001b[19G87700000\u001b[19G87800000\u001b[19G87900000\u001b[19G88000000\u001b[19G88100000\u001b[19G88200000\u001b[19G88300000\u001b[19G88400000\u001b[19G88500000\u001b[19G88600000\u001b[19G88700000\u001b[19G88800000\u001b[19G88900000\u001b[19G89000000\u001b[19G89100000\u001b[19G89200000\u001b[19G89300000\u001b[19G89400000\u001b[19G89500000\u001b[19G89600000\u001b[19G89700000\u001b[19G89800000\u001b[19G89900000\u001b[19G90000000\u001b[19G90100000\u001b[19G90200000\u001b[19G90300000\u001b[19G90400000\u001b[19G90500000\u001b[19G90600000\u001b[19G90700000\u001b[19G90800000\u001b[19G90900000\u001b[19G91000000\u001b[19G91100000\u001b[19G91200000\u001b[19G91300000\u001b[19G91400000\u001b[19G91500000\u001b[19G91600000\u001b[19G91700000\u001b[19G91800000\u001b[19G91900000\u001b[19G92000000\u001b[19G92100000\u001b[19G92200000\u001b[19G92300000\u001b[19G92400000\u001b[19G92500000\u001b[19G92600000\u001b[19G92700000\u001b[19G92800000\u001b[19G92900000\u001b[19G93000000\u001b[19G93100000\u001b[19G93200000\u001b[19G93300000\u001b[19G93400000\u001b[19G93500000\u001b[19G93600000\u001b[19G93700000\u001b[19G93800000\u001b[19G93900000\u001b[19G94000000\u001b[19G94100000\u001b[19G94200000\u001b[19G94300000\u001b[19G94400000\u001b[19G94500000\u001b[19G94600000\u001b[19G94700000\u001b[19G94800000\u001b[19G94900000\u001b[19G95000000\u001b[19G95100000\u001b[19G95200000\u001b[19G95300000\u001b[19G95400000\u001b[19G95500000\u001b[19G95600000\u001b[19G95700000\u001b[19G95800000\u001b[19G95900000\u001b[19G96000000\u001b[19G96100000\u001b[19G96200000\u001b[19G96300000\u001b[19G96400000\u001b[19G96500000\u001b[19G96600000\u001b[19G96700000\u001b[19G96800000\u001b[19G96900000\u001b[19G97000000\u001b[19G97100000\u001b[19G97200000\u001b[19G97300000\u001b[19G97400000\u001b[19G97500000\u001b[19G97600000\u001b[19G97700000\u001b[19G97800000\u001b[19G97900000\u001b[19G98000000\u001b[19G98100000\u001b[19G98200000\u001b[19G98300000\u001b[19G98400000\u001b[19G98500000\u001b[19G98600000\u001b[19G98700000\u001b[19G98800000\u001b[19G98900000\u001b[19G99000000\u001b[19G99100000\u001b[19G99200000\u001b[19G99300000\u001b[19G99400000\u001b[19G99500000\u001b[19G99600000\u001b[19G99700000\u001b[19G99800000\u001b[19G99900000\u001b[19G100000000\u001b[19G100100000\u001b[19G100200000\u001b[19G100300000\u001b[19G100400000\u001b[19G100500000\u001b[19G100600000\u001b[19G100700000\u001b[19G100800000\u001b[19G100900000\u001b[19G101000000\u001b[19G101100000\u001b[19G101200000\u001b[19G101300000\u001b[19G101400000\u001b[19G101500000\u001b[19G101600000\u001b[19G101700000\u001b[19G101800000\u001b[19G101900000\u001b[19G102000000\u001b[19G102100000\u001b[19G102200000\u001b[19G102300000\u001b[19G102400000\u001b[19G102500000\u001b[19G102600000\u001b[19G102700000\u001b[19G102800000\u001b[19G102900000\u001b[19G103000000\u001b[19G103100000\u001b[19G103200000\u001b[19G103300000\u001b[19G103400000\u001b[19G103500000\u001b[19G103600000\u001b[19G103700000\u001b[19G103800000\u001b[19G103900000\u001b[19G104000000\u001b[19G104100000\u001b[19G104200000\u001b[19G104300000\u001b[19G104400000\u001b[19G104500000\u001b[19G104600000\u001b[19G104700000\u001b[19G104800000\u001b[19G104900000\u001b[19G105000000\u001b[19G105100000\u001b[19G105200000\u001b[19G105300000\u001b[19G105400000\u001b[19G105500000\u001b[19G105600000\u001b[19G105700000\u001b[19G105800000\u001b[19G105900000\u001b[19G106000000\u001b[19G106100000\u001b[19G106200000\u001b[19G106300000\u001b[19G106400000\u001b[19G106500000\u001b[19G106600000\u001b[19G106700000\u001b[19G106800000\u001b[19G106900000\u001b[19G107000000\u001b[19G107100000\u001b[19G107200000\u001b[19G107300000\u001b[19G107400000\u001b[19G107500000\u001b[19G107600000\u001b[19G107700000\u001b[19G107800000\u001b[19G107900000\u001b[19G108000000\u001b[19G108100000\u001b[19G108200000\u001b[19G108300000\u001b[19G108400000\u001b[19G108500000\u001b[19G108600000\u001b[19G108700000\u001b[19G108800000\u001b[19G108900000\u001b[19G109000000\u001b[19G109100000\u001b[19G109200000\u001b[19G109300000\u001b[19G109400000\u001b[19G109500000\u001b[19G109600000\u001b[19G109700000\u001b[19G109800000\u001b[19G109900000\u001b[19G110000000\u001b[19G110100000\u001b[19G110200000\u001b[19G110300000\u001b[19G110400000\u001b[19G110500000\u001b[19G110600000\u001b[19G110700000\u001b[19G110800000\u001b[19G110900000\u001b[19G111000000\u001b[19G111100000\u001b[19G111200000\u001b[19G111300000\u001b[19G111400000\u001b[19G111500000\u001b[19G111600000\u001b[19G111700000\u001b[19G111800000\u001b[19G111900000\u001b[19G112000000\u001b[19G112100000\u001b[19G112200000\u001b[19G112300000\u001b[19G112400000\u001b[19G112500000\u001b[19G112600000\u001b[19G112700000\u001b[19G112800000\u001b[19G112900000\u001b[19G113000000\u001b[19G113100000\u001b[19G113200000\u001b[19G113300000\u001b[19G113400000\u001b[19G113500000\u001b[19G113600000\u001b[19G113700000\u001b[19G113800000\u001b[19G113900000\u001b[19G114000000\u001b[19G114100000\u001b[19G114200000\u001b[19G114300000\u001b[19G114400000\u001b[19G114500000\u001b[19G114600000\u001b[19G114700000\u001b[19G114800000\u001b[19G114900000\u001b[19G115000000\u001b[19G115100000\u001b[19G115200000\u001b[19G115300000\u001b[19G115400000\u001b[19G115500000\u001b[19G115600000\u001b[19G115700000\u001b[19G115800000\u001b[19G115900000\u001b[19G116000000\u001b[19G116100000\u001b[19G116200000\u001b[19G116300000\u001b[19G116400000\u001b[19G116500000\u001b[19G116600000\u001b[19G116700000\u001b[19G116800000\u001b[19G116900000\u001b[19G117000000\u001b[19G117100000\u001b[19G117200000\u001b[19G117300000\u001b[19G117400000\u001b[19G117500000\u001b[19G117600000\u001b[19G117700000\u001b[19G117800000\u001b[19G117900000\u001b[19G118000000\u001b[19G118100000\u001b[19G118200000\u001b[19G118300000\u001b[19G118400000\u001b[19G118500000\u001b[19G118600000\u001b[19G118700000\u001b[19G118800000\u001b[19G118900000\u001b[19G119000000\u001b[19G119100000\u001b[19G119200000\u001b[19G119300000\u001b[19G119400000\u001b[19G119500000\u001b[19G119600000\u001b[19G119700000\u001b[19G119800000\u001b[19G119900000\u001b[19G120000000\u001b[19G120100000\u001b[19G120200000\u001b[19G120300000\u001b[19G120400000\u001b[19G120500000\u001b[19G120600000\u001b[19G120700000\u001b[19G120800000\u001b[19G120900000\u001b[19G121000000\u001b[19G121100000\u001b[19G121200000\u001b[19G121300000\u001b[19G121400000\u001b[19G121500000\u001b[19G121600000\u001b[19G121700000\u001b[19G121800000\u001b[19G121900000\u001b[19G122000000\u001b[19G122100000\u001b[19G122200000\u001b[19G122300000\u001b[19G122400000\u001b[19G122500000\u001b[19G122600000\u001b[19G122700000\u001b[19G122800000\u001b[19G122900000\u001b[19G123000000\u001b[19G123100000\u001b[19G123200000\u001b[19G123300000\u001b[19G123400000\u001b[19G123500000\u001b[19G123600000\u001b[19G123700000\u001b[19G123800000\u001b[19G123900000\u001b[19G124000000\u001b[19G124100000\u001b[19G124200000\u001b[19G124300000\u001b[19G124400000\u001b[19G124500000\u001b[19G124600000\u001b[19G124700000\u001b[19G124800000\u001b[19G124900000\u001b[19G125000000\u001b[19G125100000\u001b[19G125200000\u001b[19G125300000\u001b[19G125400000\u001b[19G125500000\u001b[19G125600000\u001b[19G125700000\u001b[19G125800000\u001b[19G125900000\u001b[19G126000000\u001b[19G126100000\u001b[19G126200000\u001b[19G126300000\u001b[19G126400000\u001b[19G126500000\u001b[19G126600000\u001b[19G126700000\u001b[19G126800000\u001b[19G126900000\u001b[19G127000000\u001b[19G127100000\u001b[19G127200000\u001b[19G127300000\u001b[19G127400000\u001b[19G127500000\u001b[19G127600000\u001b[19G127700000\u001b[19G127800000\u001b[19G127900000\u001b[19G128000000\u001b[19G128100000\u001b[19G128200000\u001b[19G128300000\u001b[19G128400000\u001b[19G128500000\u001b[19G128600000\u001b[19G128700000\u001b[19G128800000\u001b[19G128900000\u001b[19G129000000\u001b[19G129100000\u001b[19G129200000\u001b[19G129300000\u001b[19G129400000\u001b[19G129500000\u001b[19G129600000\u001b[19G129700000\u001b[19G129800000\u001b[19G129900000\u001b[19G130000000\u001b[19G130100000\u001b[19G130200000\u001b[19G130300000\u001b[19G130400000\u001b[19G130500000\u001b[19G130600000\u001b[19G130700000\u001b[19G130800000\u001b[19G130900000\u001b[19G131000000\u001b[19G131100000\u001b[19G131200000\u001b[19G131300000\u001b[19G131400000\u001b[19G131500000\u001b[19G131600000\u001b[19G131700000\u001b[19G131800000\u001b[19G131900000\u001b[19G132000000\u001b[19G132100000\u001b[19G132200000\u001b[19G132300000\u001b[19G132400000\u001b[19G132500000\u001b[19G132600000\u001b[19G132700000\u001b[19G132800000\u001b[19G132900000\u001b[19G133000000\u001b[19G133100000\u001b[19G133200000\u001b[19G133300000\u001b[19G133400000\u001b[19G133500000\u001b[19G133600000\u001b[19G133700000\u001b[19G133800000\u001b[19G133900000\u001b[19G134000000\u001b[19G134100000\u001b[19G134200000\u001b[19G134300000\u001b[19G134400000\u001b[19G134500000\u001b[19G134600000\u001b[19G134700000\u001b[19G134800000\u001b[19G134900000\u001b[19G135000000\u001b[19G135100000\u001b[19G135200000\u001b[19G135300000\u001b[19G135400000\u001b[19G135500000\u001b[19G135600000\u001b[19G135700000\u001b[19G135800000\u001b[19G135900000\u001b[19G136000000\u001b[19G136100000\u001b[19G136200000\u001b[19G136300000\u001b[19G136400000\u001b[19G136500000\u001b[19G136600000\u001b[19G136700000\u001b[19G136800000\u001b[19G136900000\u001b[19G137000000\u001b[19G137100000\u001b[19G137200000\u001b[19G137300000\u001b[19G137400000\u001b[19G137500000\u001b[19G137600000\u001b[19G137700000\u001b[19G137800000\u001b[19G137900000\u001b[19G138000000\u001b[19G138100000\u001b[19G138200000\u001b[19G138300000\u001b[19G138400000\u001b[19G138500000\u001b[19G138600000\u001b[19G138700000\u001b[19G138800000\u001b[19G138900000\u001b[19G139000000\u001b[19G139100000\u001b[19G139200000\u001b[19G139300000\u001b[19G139400000\u001b[19G139500000\u001b[19G139600000\u001b[19G139700000\u001b[19G139800000\u001b[19G139900000\u001b[19G140000000\u001b[19G140100000\u001b[19G140200000\u001b[19G140300000\u001b[19G140400000\u001b[19G140500000\u001b[19G140600000\u001b[19G140700000\u001b[19G140800000\u001b[19G140900000\u001b[19G141000000\u001b[19G141100000\u001b[19G141200000\u001b[19G141300000\u001b[19G141400000\u001b[19G141500000\u001b[19G141600000\u001b[19G141700000\u001b[19G141800000\u001b[19G141900000\u001b[19G142000000\u001b[19G142100000\u001b[19G142200000\u001b[19G142300000\u001b[19G142400000\u001b[19G142500000\u001b[19G142600000\u001b[19G142700000\u001b[19G142800000\u001b[19G142900000\u001b[19G143000000\u001b[19G143100000\u001b[19G143200000\u001b[19G143300000\u001b[19G143400000\u001b[19G143500000\u001b[19G143600000\u001b[19G143700000\u001b[19G143800000\u001b[19G143900000\u001b[19G144000000\u001b[19G144100000\u001b[19G144200000\u001b[19G144300000\u001b[19G144400000\u001b[19G144500000\u001b[19G144600000\u001b[19G144700000\u001b[19G144800000\u001b[19G144900000\u001b[19G145000000\u001b[19G145100000\u001b[19G145200000\u001b[19G145300000\u001b[19G145400000\u001b[19G145500000\u001b[19G145600000\u001b[19G145700000\u001b[19G145800000\u001b[19G145900000\u001b[19G146000000\u001b[19G146100000\u001b[19G146200000\u001b[19G146300000\u001b[19G146400000\u001b[19G146500000\u001b[19G146600000\u001b[19G146700000\u001b[19G146800000\u001b[19G146900000\u001b[19G147000000\u001b[19G147100000\u001b[19G147200000\u001b[19G147300000\u001b[19G147400000\u001b[19G147500000\u001b[19G147600000\u001b[19G147700000\u001b[19G147800000\u001b[19G147900000\u001b[19G148000000\u001b[19G148100000\u001b[19G148200000\u001b[19G148300000\u001b[19G148400000\u001b[19G148500000\u001b[19G148600000\u001b[19G148700000\u001b[19G148800000\u001b[19G148900000\u001b[19G149000000\u001b[19G149100000\u001b[19G149200000\u001b[19G149300000\u001b[19G149400000\u001b[19G149500000\u001b[19G149600000\u001b[19G149700000\u001b[19G149800000\u001b[19G149900000\u001b[19G150000000\u001b[19G150100000\u001b[19G150200000\u001b[19G150300000\u001b[19G150400000\u001b[19G150500000\u001b[19G150600000\u001b[19G150700000\u001b[19G150800000\u001b[19G150900000\u001b[19G151000000\u001b[19G151100000\u001b[19G151200000\u001b[19G151300000\u001b[19G151400000\u001b[19G151500000\u001b[19G151600000\u001b[19G151700000\u001b[19G151800000\u001b[19G151900000\u001b[19G152000000\u001b[19G152100000\u001b[19G152200000\u001b[19G152300000\u001b[19G152400000\u001b[19G152500000\u001b[19G152600000\u001b[19G152700000\u001b[19G152800000\u001b[19G152900000\u001b[19G153000000\u001b[19G153100000\u001b[19G153200000\u001b[19G153300000\u001b[19G153400000\u001b[19G153500000\u001b[19G153600000\u001b[19G153700000\u001b[19G153800000\u001b[19G153900000\u001b[19G154000000\u001b[19G154100000\u001b[19G154200000\u001b[19G154300000\u001b[19G154400000\u001b[19G154500000\u001b[19G154600000\u001b[19G154700000\u001b[19G154800000\u001b[19G154900000\u001b[19G155000000\u001b[19G155100000\u001b[19G155200000\u001b[19G155300000\u001b[19G155400000\u001b[19G155500000\u001b[19G155600000\u001b[19G155700000\u001b[19G155800000\u001b[19G155900000\u001b[19G156000000\u001b[19G156100000\u001b[19G156200000\u001b[19G156300000\u001b[19G156400000\u001b[19G156500000\u001b[19G156600000\u001b[19G156700000\u001b[19G156800000\u001b[19G156900000\u001b[19G157000000\u001b[19G157100000\u001b[19G157200000\u001b[19G157300000\u001b[19G157400000\u001b[19G157500000\u001b[19G157600000\u001b[19G157700000\u001b[19G157800000\u001b[19G157900000\u001b[19G158000000\u001b[19G158100000\u001b[19G158200000\u001b[19G158300000\u001b[19G158400000\u001b[19G158500000\u001b[19G158600000\u001b[19G158700000\u001b[19G158800000\u001b[19G158900000\u001b[19G159000000\u001b[19G159100000\u001b[19G159200000\u001b[19G159300000\u001b[19G159400000\u001b[19G159500000\u001b[19G159600000\u001b[19G159700000\u001b[19G159800000\u001b[19G159900000\u001b[19G160000000\u001b[19G160100000\u001b[19G160200000\u001b[19G160300000\u001b[19G160400000\u001b[19G160500000\u001b[19G160600000\u001b[19G160700000\u001b[19G160800000\u001b[19G160900000\u001b[19G161000000\u001b[19G161100000\u001b[19G161200000\u001b[19G161300000\u001b[19G161400000\u001b[19G161500000\u001b[19G161600000\u001b[19G161700000\u001b[19G161800000\u001b[19G161900000\u001b[19G162000000\u001b[19G162100000\u001b[19G162200000\u001b[19G162300000\u001b[19G162400000\u001b[19G162500000\u001b[19G162600000\u001b[19G162700000\u001b[19G162800000\u001b[19G162900000\u001b[19G163000000\u001b[19G163100000\u001b[19G163200000\u001b[19G163300000\u001b[19G163400000\u001b[19G163500000\u001b[19G163600000\u001b[19G163700000\u001b[19G163800000\u001b[19G163900000\u001b[19G164000000\u001b[19G164100000\u001b[19G164200000\u001b[19G164300000\u001b[19G164400000\u001b[19G164500000\u001b[19G164600000\u001b[19G164700000\u001b[19G164800000\u001b[19G164900000\u001b[19G165000000\u001b[19G165100000\u001b[19G165200000\u001b[19G165300000\u001b[19G165400000\u001b[19G165500000\u001b[19G165600000\u001b[19G165700000\u001b[19G165800000\u001b[19G165900000\u001b[19G166000000\u001b[19G166100000\u001b[19G166200000\u001b[19G166300000\u001b[19G166400000\u001b[19G166500000\u001b[19G166600000\u001b[19G166700000\u001b[19G166800000\u001b[19G166900000\u001b[19G167000000\u001b[19G167100000\u001b[19G167200000\u001b[19G167300000\u001b[19G167400000\u001b[19G167500000\u001b[19G167600000\u001b[19G167700000\u001b[19G167800000\u001b[19G167900000\u001b[19G168000000\u001b[19G168100000\u001b[19G168200000\u001b[19G168300000\u001b[19G168400000\u001b[19G168500000\u001b[19G168600000\u001b[19G168700000\u001b[19G168800000\u001b[19G168900000\u001b[19G169000000\u001b[19G169100000\u001b[19G169200000\u001b[19G169300000\u001b[19G169400000\u001b[19G169500000\u001b[19G169600000\u001b[19G169700000\u001b[19G169800000\u001b[19G169900000\u001b[19G170000000\u001b[19G170100000\u001b[19G170200000\u001b[19G170300000\u001b[19G170400000\u001b[19G170500000\u001b[19G170600000\u001b[19G170700000\u001b[19G170800000\u001b[19G170900000\u001b[19G171000000\u001b[19G171100000\u001b[19G171200000\u001b[19G171300000\u001b[19G171400000\u001b[19G171500000\u001b[19G171600000\u001b[19G171700000\u001b[19G171800000\u001b[19G171900000\u001b[19G172000000\u001b[19G172100000\u001b[19G172200000\u001b[19G172300000\u001b[19G172400000\u001b[19G172500000\u001b[19G172600000\u001b[19G172700000\u001b[19G172800000\u001b[19G172900000\u001b[19G173000000\u001b[19G173100000\u001b[19G173200000\u001b[19G173300000\u001b[19G173400000\u001b[19G173500000\u001b[19G173600000\u001b[19G173700000\u001b[19G173800000\u001b[19G173900000\u001b[19G174000000\u001b[19G174100000\u001b[19G174200000\u001b[19G174300000\u001b[19G174400000\u001b[19G174500000\u001b[19G174600000\u001b[19G174700000\u001b[19G174800000\u001b[19G174900000\u001b[19G175000000\u001b[19G175100000\u001b[19G175200000\u001b[19G175300000\u001b[19G175400000\u001b[19G175500000\u001b[19G175600000\u001b[19G175700000\u001b[19G175800000\u001b[19G175900000\u001b[19G176000000\u001b[19G176100000\u001b[19G176200000\u001b[19G176300000\u001b[19G176400000\u001b[19G176500000\u001b[19G176600000\u001b[19G176700000\u001b[19G176800000\u001b[19G176900000\u001b[19G177000000\u001b[19G177100000\u001b[19G177200000\u001b[19G177300000\u001b[19G177400000\u001b[19G177500000\u001b[19G177600000\u001b[19G177700000\u001b[19G177800000\u001b[19G177900000\u001b[19G178000000\u001b[19G178100000\u001b[19G178200000\u001b[19G178300000\u001b[19G178400000\u001b[19G178500000\u001b[19G178600000\u001b[19G178700000\u001b[19G178800000\u001b[19G178900000\u001b[19G179000000\u001b[19G179100000\u001b[19G179200000\u001b[19G179300000\u001b[19G179400000\u001b[19G179500000\u001b[19G179600000\u001b[19G179700000\u001b[19G179800000\u001b[19G179900000\u001b[19G180000000\u001b[19G180100000\u001b[19G180200000\u001b[19G180300000\u001b[19G180400000\u001b[19G180500000\u001b[19G180600000\u001b[19G180700000\u001b[19G180800000\u001b[19G180900000\u001b[19G181000000\u001b[19G181100000\u001b[19G181200000\u001b[19G181300000\u001b[19G181400000\u001b[19G181500000\u001b[19G181600000\u001b[19G181700000\u001b[19G181800000\u001b[19G181900000\u001b[19G182000000\u001b[19G182100000\u001b[19G182200000\u001b[19G182300000\u001b[19G182400000\u001b[19G182500000\u001b[19G182600000\u001b[19G182700000\u001b[19G182800000\u001b[19G182900000\u001b[19G183000000\u001b[19G183100000\u001b[19G183200000\u001b[19G183300000\u001b[19G183400000\u001b[19G183500000\u001b[19G183600000\u001b[19G183700000\u001b[19G183800000\u001b[19G183900000\u001b[19G184000000\u001b[19G184100000\u001b[19G184200000\u001b[19G184300000\u001b[19G184400000\u001b[19G184500000\u001b[19G184600000\u001b[19G184700000\u001b[19G184800000\u001b[19G184900000\u001b[19G185000000\u001b[19G185100000\u001b[19G185200000\u001b[19G185300000\u001b[19G185400000\u001b[19G185500000\u001b[19G185600000\u001b[19G185700000\u001b[19G185800000\u001b[19G185900000\u001b[19G186000000\u001b[19G186100000\u001b[19G186200000\u001b[19G186300000\u001b[19G186400000\u001b[19G186500000\u001b[19G186600000\u001b[19G186700000\u001b[19G186800000\u001b[19G186900000\u001b[19G187000000\u001b[19G187100000\u001b[19G187200000\u001b[19G187300000\u001b[19G187400000\u001b[19G187500000\u001b[19G187600000\u001b[19G187700000\u001b[19G187800000\u001b[19G187900000\u001b[19G188000000\u001b[19G188100000\u001b[19G188200000\u001b[19G188300000\u001b[19G188400000\u001b[19G188500000\u001b[19G188600000\u001b[19G188700000\u001b[19G188800000\u001b[19G188900000\u001b[19G189000000\u001b[19G189100000\u001b[19G189200000\u001b[19G189300000\u001b[19G189400000\u001b[19G189500000\u001b[19G189600000\u001b[19G189700000\u001b[19G189800000\u001b[19G189900000\u001b[19G190000000\u001b[19G190100000\u001b[19G190200000\u001b[19G190300000\u001b[19G190400000\u001b[19G190500000\u001b[19G190600000\u001b[19G190700000\u001b[19G190800000\u001b[19G190900000\u001b[19G191000000\u001b[19G191100000\u001b[19G191200000\u001b[19G191300000\u001b[19G191400000\u001b[19G191500000\u001b[19G191600000\u001b[19G191700000\u001b[19G191800000\u001b[19G191900000\u001b[19G192000000\u001b[19G192100000\u001b[19G192200000\u001b[19G192300000\u001b[19G192400000\u001b[19G192500000\u001b[19G192600000\u001b[19G192700000\u001b[19G192800000\u001b[19G192900000\u001b[19G193000000\u001b[19G193100000\u001b[19G193200000\u001b[19G193300000\u001b[19G193400000\u001b[19G193500000\u001b[19G193600000\u001b[19G193700000\u001b[19G193800000\u001b[19G193900000\u001b[19G194000000\u001b[19G194100000\u001b[19G194200000\u001b[19G194300000\u001b[19G194400000\u001b[19G194500000\u001b[19G194600000\u001b[19G194700000\u001b[19G194800000\u001b[19G194900000\u001b[19G195000000\u001b[19G195100000\u001b[19G195200000\u001b[19G195300000\u001b[19G195400000\u001b[19G195500000\u001b[19G195600000\u001b[19G195700000\u001b[19G195800000\u001b[19G195900000\u001b[19G196000000\u001b[19G196100000\u001b[19G196200000\u001b[19G196300000\u001b[19G196400000\u001b[19G196500000\u001b[19G196600000\u001b[19G196700000\u001b[19G196800000\u001b[19G196900000\u001b[19G197000000\u001b[19G197100000\u001b[19G197200000\u001b[19G197300000\u001b[19G197400000\u001b[19G197500000\u001b[19G197600000\u001b[19G197700000\u001b[19G197800000\u001b[19G197900000\u001b[19G198000000\u001b[19G198100000\u001b[19G198200000\u001b[19G198300000\u001b[19G198400000\u001b[19G198500000\u001b[19G198600000\u001b[19G198700000\u001b[19G198800000\u001b[0GProcessed 198819503 tokens.\n",
            "Writing cooccurrences to disk.........13 files in total.\n",
            "Merging cooccurrence files: processed 0 lines.\u001b[39G100000 lines.\u001b[39G200000 lines.\u001b[39G300000 lines.\u001b[39G400000 lines.\u001b[39G500000 lines.\u001b[39G600000 lines.\u001b[39G700000 lines.\u001b[39G800000 lines.\u001b[39G900000 lines.\u001b[39G1000000 lines.\u001b[39G1100000 lines.\u001b[39G1200000 lines.\u001b[39G1300000 lines.\u001b[39G1400000 lines.\u001b[39G1500000 lines.\u001b[39G1600000 lines.\u001b[39G1700000 lines.\u001b[39G1800000 lines.\u001b[39G1900000 lines.\u001b[39G2000000 lines.\u001b[39G2100000 lines.\u001b[39G2200000 lines.\u001b[39G2300000 lines.\u001b[39G2400000 lines.\u001b[39G2500000 lines.\u001b[39G2600000 lines.\u001b[39G2700000 lines.\u001b[39G2800000 lines.\u001b[39G2900000 lines.\u001b[39G3000000 lines.\u001b[39G3100000 lines.\u001b[39G3200000 lines.\u001b[39G3300000 lines.\u001b[39G3400000 lines.\u001b[39G3500000 lines.\u001b[39G3600000 lines.\u001b[39G3700000 lines.\u001b[39G3800000 lines.\u001b[39G3900000 lines.\u001b[39G4000000 lines.\u001b[39G4100000 lines.\u001b[39G4200000 lines.\u001b[39G4300000 lines.\u001b[39G4400000 lines.\u001b[39G4500000 lines.\u001b[39G4600000 lines.\u001b[39G4700000 lines.\u001b[39G4800000 lines.\u001b[39G4900000 lines.\u001b[39G5000000 lines.\u001b[39G5100000 lines.\u001b[39G5200000 lines.\u001b[39G5300000 lines.\u001b[39G5400000 lines.\u001b[39G5500000 lines.\u001b[39G5600000 lines.\u001b[39G5700000 lines.\u001b[39G5800000 lines.\u001b[39G5900000 lines.\u001b[39G6000000 lines.\u001b[39G6100000 lines.\u001b[39G6200000 lines.\u001b[39G6300000 lines.\u001b[39G6400000 lines.\u001b[39G6500000 lines.\u001b[39G6600000 lines.\u001b[39G6700000 lines.\u001b[39G6800000 lines.\u001b[39G6900000 lines.\u001b[39G7000000 lines.\u001b[39G7100000 lines.\u001b[39G7200000 lines.\u001b[39G7300000 lines.\u001b[39G7400000 lines.\u001b[39G7500000 lines.\u001b[39G7600000 lines.\u001b[39G7700000 lines.\u001b[39G7800000 lines.\u001b[39G7900000 lines.\u001b[39G8000000 lines.\u001b[39G8100000 lines.\u001b[39G8200000 lines.\u001b[39G8300000 lines.\u001b[39G8400000 lines.\u001b[39G8500000 lines.\u001b[39G8600000 lines.\u001b[39G8700000 lines.\u001b[39G8800000 lines.\u001b[39G8900000 lines.\u001b[39G9000000 lines.\u001b[39G9100000 lines.\u001b[39G9200000 lines.\u001b[39G9300000 lines.\u001b[39G9400000 lines.\u001b[39G9500000 lines.\u001b[39G9600000 lines.\u001b[39G9700000 lines.\u001b[39G9800000 lines.\u001b[39G9900000 lines.\u001b[39G10000000 lines.\u001b[39G10100000 lines.\u001b[39G10200000 lines.\u001b[39G10300000 lines.\u001b[39G10400000 lines.\u001b[39G10500000 lines.\u001b[39G10600000 lines.\u001b[39G10700000 lines.\u001b[39G10800000 lines.\u001b[39G10900000 lines.\u001b[39G11000000 lines.\u001b[39G11100000 lines.\u001b[39G11200000 lines.\u001b[39G11300000 lines.\u001b[39G11400000 lines.\u001b[39G11400000 lines.\u001b[39G11500000 lines.\u001b[39G11600000 lines.\u001b[39G11700000 lines.\u001b[39G11800000 lines.\u001b[39G11900000 lines.\u001b[39G12000000 lines.\u001b[39G12100000 lines.\u001b[39G12200000 lines.\u001b[39G12300000 lines.\u001b[39G12400000 lines.\u001b[39G12400000 lines.\u001b[39G12400000 lines.\u001b[39G12500000 lines.\u001b[39G12600000 lines.\u001b[39G12700000 lines.\u001b[39G12800000 lines.\u001b[39G12900000 lines.\u001b[39G13000000 lines.\u001b[39G13100000 lines.\u001b[39G13100000 lines.\u001b[39G13100000 lines.\u001b[39G13200000 lines.\u001b[39G13300000 lines.\u001b[39G13400000 lines.\u001b[39G13500000 lines.\u001b[39G13600000 lines.\u001b[39G13700000 lines.\u001b[39G13800000 lines.\u001b[39G13800000 lines.\u001b[39G13900000 lines.\u001b[39G14000000 lines.\u001b[39G14100000 lines.\u001b[39G14200000 lines.\u001b[39G14300000 lines.\u001b[39G14400000 lines.\u001b[39G14500000 lines.\u001b[39G14600000 lines.\u001b[39G14700000 lines.\u001b[39G14800000 lines.\u001b[39G14900000 lines.\u001b[39G15000000 lines.\u001b[39G15100000 lines.\u001b[39G15200000 lines.\u001b[39G15300000 lines.\u001b[39G15400000 lines.\u001b[39G15500000 lines.\u001b[39G15600000 lines.\u001b[39G15700000 lines.\u001b[39G15800000 lines.\u001b[39G15900000 lines.\u001b[39G16000000 lines.\u001b[39G16100000 lines.\u001b[39G16200000 lines.\u001b[39G16300000 lines.\u001b[39G16400000 lines.\u001b[39G16500000 lines.\u001b[39G16600000 lines.\u001b[39G16700000 lines.\u001b[39G16800000 lines.\u001b[39G16900000 lines.\u001b[39G16900000 lines.\u001b[39G17000000 lines.\u001b[39G17100000 lines.\u001b[39G17200000 lines.\u001b[39G17300000 lines.\u001b[39G17400000 lines.\u001b[39G17500000 lines.\u001b[39G17600000 lines.\u001b[39G17700000 lines.\u001b[39G17800000 lines.\u001b[39G17900000 lines.\u001b[39G18000000 lines.\u001b[39G18100000 lines.\u001b[39G18200000 lines.\u001b[39G18200000 lines.\u001b[39G18200000 lines.\u001b[39G18300000 lines.\u001b[39G18400000 lines.\u001b[39G18400000 lines.\u001b[39G18400000 lines.\u001b[39G18500000 lines.\u001b[39G18600000 lines.\u001b[39G18700000 lines.\u001b[39G18800000 lines.\u001b[39G18900000 lines.\u001b[39G19000000 lines.\u001b[39G19100000 lines.\u001b[39G19100000 lines.\u001b[39G19100000 lines.\u001b[39G19200000 lines.\u001b[39G19300000 lines.\u001b[39G19400000 lines.\u001b[39G19500000 lines.\u001b[39G19600000 lines.\u001b[39G19600000 lines.\u001b[39G19700000 lines.\u001b[39G19800000 lines.\u001b[39G19900000 lines.\u001b[39G20000000 lines.\u001b[39G20000000 lines.\u001b[39G20100000 lines.\u001b[39G20200000 lines.\u001b[39G20300000 lines.\u001b[39G20400000 lines.\u001b[39G20500000 lines.\u001b[39G20600000 lines.\u001b[39G20600000 lines.\u001b[39G20600000 lines.\u001b[39G20700000 lines.\u001b[39G20800000 lines.\u001b[39G20900000 lines.\u001b[39G20900000 lines.\u001b[39G21000000 lines.\u001b[39G21100000 lines.\u001b[39G21200000 lines.\u001b[39G21300000 lines.\u001b[39G21400000 lines.\u001b[39G21500000 lines.\u001b[39G21500000 lines.\u001b[39G21600000 lines.\u001b[39G21600000 lines.\u001b[39G21600000 lines.\u001b[39G21600000 lines.\u001b[39G21700000 lines.\u001b[39G21800000 lines.\u001b[39G21900000 lines.\u001b[39G21900000 lines.\u001b[39G22000000 lines.\u001b[39G22100000 lines.\u001b[39G22200000 lines.\u001b[39G22300000 lines.\u001b[39G22400000 lines.\u001b[39G22400000 lines.\u001b[39G22500000 lines.\u001b[39G22600000 lines.\u001b[39G22700000 lines.\u001b[39G22700000 lines.\u001b[39G22800000 lines.\u001b[39G22900000 lines.\u001b[39G23000000 lines.\u001b[39G23100000 lines.\u001b[39G23200000 lines.\u001b[39G23300000 lines.\u001b[39G23400000 lines.\u001b[39G23500000 lines.\u001b[39G23600000 lines.\u001b[39G23700000 lines.\u001b[39G23800000 lines.\u001b[39G23900000 lines.\u001b[39G24000000 lines.\u001b[39G24100000 lines.\u001b[39G24200000 lines.\u001b[39G24300000 lines.\u001b[39G24400000 lines.\u001b[39G24500000 lines.\u001b[39G24600000 lines.\u001b[39G24700000 lines.\u001b[39G24800000 lines.\u001b[39G24900000 lines.\u001b[39G25000000 lines.\u001b[39G25100000 lines.\u001b[39G25200000 lines.\u001b[39G25200000 lines.\u001b[39G25300000 lines.\u001b[39G25400000 lines.\u001b[39G25400000 lines.\u001b[39G25500000 lines.\u001b[39G25600000 lines.\u001b[39G25700000 lines.\u001b[39G25800000 lines.\u001b[39G25900000 lines.\u001b[39G26000000 lines.\u001b[39G26100000 lines.\u001b[39G26200000 lines.\u001b[39G26300000 lines.\u001b[39G26400000 lines.\u001b[39G26500000 lines.\u001b[39G26600000 lines.\u001b[39G26700000 lines.\u001b[39G26700000 lines.\u001b[39G26700000 lines.\u001b[39G26800000 lines.\u001b[39G26900000 lines.\u001b[39G26900000 lines.\u001b[39G27000000 lines.\u001b[39G27100000 lines.\u001b[39G27200000 lines.\u001b[39G27300000 lines.\u001b[39G27400000 lines.\u001b[39G27500000 lines.\u001b[39G27600000 lines.\u001b[39G27700000 lines.\u001b[39G27800000 lines.\u001b[39G27900000 lines.\u001b[39G28000000 lines.\u001b[39G28100000 lines.\u001b[39G28200000 lines.\u001b[39G28300000 lines.\u001b[39G28400000 lines.\u001b[39G28500000 lines.\u001b[39G28500000 lines.\u001b[39G28600000 lines.\u001b[39G28700000 lines.\u001b[39G28800000 lines.\u001b[39G28800000 lines.\u001b[39G28900000 lines.\u001b[39G28900000 lines.\u001b[39G28900000 lines.\u001b[39G29000000 lines.\u001b[39G29100000 lines.\u001b[39G29200000 lines.\u001b[39G29300000 lines.\u001b[39G29400000 lines.\u001b[39G29500000 lines.\u001b[39G29600000 lines.\u001b[39G29700000 lines.\u001b[39G29800000 lines.\u001b[39G29900000 lines.\u001b[39G30000000 lines.\u001b[39G30100000 lines.\u001b[39G30100000 lines.\u001b[39G30100000 lines.\u001b[39G30200000 lines.\u001b[39G30300000 lines.\u001b[39G30400000 lines.\u001b[39G30500000 lines.\u001b[39G30600000 lines.\u001b[39G30700000 lines.\u001b[39G30800000 lines.\u001b[39G30900000 lines.\u001b[39G31000000 lines.\u001b[39G31100000 lines.\u001b[39G31200000 lines.\u001b[39G31300000 lines.\u001b[39G31400000 lines.\u001b[39G31500000 lines.\u001b[39G31600000 lines.\u001b[39G31700000 lines.\u001b[39G31800000 lines.\u001b[39G31900000 lines.\u001b[39G31900000 lines.\u001b[39G32000000 lines.\u001b[39G32100000 lines.\u001b[39G32200000 lines.\u001b[39G32300000 lines.\u001b[39G32400000 lines.\u001b[39G32500000 lines.\u001b[39G32600000 lines.\u001b[39G32700000 lines.\u001b[39G32800000 lines.\u001b[39G32900000 lines.\u001b[39G33000000 lines.\u001b[39G33100000 lines.\u001b[39G33200000 lines.\u001b[39G33300000 lines.\u001b[39G33400000 lines.\u001b[39G33500000 lines.\u001b[39G33600000 lines.\u001b[39G33700000 lines.\u001b[39G33800000 lines.\u001b[39G33900000 lines.\u001b[39G33900000 lines.\u001b[39G34000000 lines.\u001b[39G34100000 lines.\u001b[39G34200000 lines.\u001b[39G34300000 lines.\u001b[39G34400000 lines.\u001b[39G34500000 lines.\u001b[39G34600000 lines.\u001b[39G34600000 lines.\u001b[39G34700000 lines.\u001b[39G34800000 lines.\u001b[39G34800000 lines.\u001b[39G34900000 lines.\u001b[39G34900000 lines.\u001b[39G35000000 lines.\u001b[39G35100000 lines.\u001b[39G35100000 lines.\u001b[39G35100000 lines.\u001b[39G35100000 lines.\u001b[39G35100000 lines.\u001b[39G35100000 lines.\u001b[39G35100000 lines.\u001b[39G35100000 lines.\u001b[39G35200000 lines.\u001b[39G35300000 lines.\u001b[39G35400000 lines.\u001b[39G35500000 lines.\u001b[39G35500000 lines.\u001b[39G35600000 lines.\u001b[39G35600000 lines.\u001b[39G35700000 lines.\u001b[39G35700000 lines.\u001b[39G35700000 lines.\u001b[39G35800000 lines.\u001b[39G35800000 lines.\u001b[39G35900000 lines.\u001b[39G36000000 lines.\u001b[39G36100000 lines.\u001b[39G36200000 lines.\u001b[39G36300000 lines.\u001b[39G36400000 lines.\u001b[39G36500000 lines.\u001b[39G36600000 lines.\u001b[39G36700000 lines.\u001b[39G36700000 lines.\u001b[39G36800000 lines.\u001b[39G36900000 lines.\u001b[39G36900000 lines.\u001b[39G36900000 lines.\u001b[39G37000000 lines.\u001b[39G37100000 lines.\u001b[39G37200000 lines.\u001b[39G37300000 lines.\u001b[39G37400000 lines.\u001b[39G37500000 lines.\u001b[39G37600000 lines.\u001b[39G37700000 lines.\u001b[39G37800000 lines.\u001b[39G37800000 lines.\u001b[39G37800000 lines.\u001b[39G37900000 lines.\u001b[39G38000000 lines.\u001b[39G38100000 lines.\u001b[39G38100000 lines.\u001b[39G38100000 lines.\u001b[39G38100000 lines.\u001b[39G38100000 lines.\u001b[39G38100000 lines.\u001b[39G38100000 lines.\u001b[39G38200000 lines.\u001b[39G38300000 lines.\u001b[39G38400000 lines.\u001b[39G38500000 lines.\u001b[39G38600000 lines.\u001b[39G38700000 lines.\u001b[39G38800000 lines.\u001b[39G38900000 lines.\u001b[39G39000000 lines.\u001b[39G39100000 lines.\u001b[39G39200000 lines.\u001b[39G39200000 lines.\u001b[39G39200000 lines.\u001b[39G39200000 lines.\u001b[39G39200000 lines.\u001b[39G39200000 lines.\u001b[39G39300000 lines.\u001b[39G39300000 lines.\u001b[39G39300000 lines.\u001b[39G39300000 lines.\u001b[39G39400000 lines.\u001b[39G39500000 lines.\u001b[39G39600000 lines.\u001b[39G39700000 lines.\u001b[39G39700000 lines.\u001b[39G39700000 lines.\u001b[39G39800000 lines.\u001b[39G39900000 lines.\u001b[39G40000000 lines.\u001b[39G40100000 lines.\u001b[39G40200000 lines.\u001b[39G40200000 lines.\u001b[39G40200000 lines.\u001b[39G40200000 lines.\u001b[39G40300000 lines.\u001b[39G40400000 lines.\u001b[39G40500000 lines.\u001b[39G40600000 lines.\u001b[39G40700000 lines.\u001b[39G40800000 lines.\u001b[39G40900000 lines.\u001b[39G41000000 lines.\u001b[39G41000000 lines.\u001b[39G41000000 lines.\u001b[39G41000000 lines.\u001b[39G41100000 lines.\u001b[39G41100000 lines.\u001b[39G41200000 lines.\u001b[39G41200000 lines.\u001b[39G41300000 lines.\u001b[39G41400000 lines.\u001b[39G41500000 lines.\u001b[39G41500000 lines.\u001b[39G41600000 lines.\u001b[39G41700000 lines.\u001b[39G41700000 lines.\u001b[39G41800000 lines.\u001b[39G41900000 lines.\u001b[39G42000000 lines.\u001b[39G42000000 lines.\u001b[39G42000000 lines.\u001b[39G42100000 lines.\u001b[39G42100000 lines.\u001b[39G42200000 lines.\u001b[39G42200000 lines.\u001b[39G42200000 lines.\u001b[39G42300000 lines.\u001b[39G42300000 lines.\u001b[39G42400000 lines.\u001b[39G42400000 lines.\u001b[39G42400000 lines.\u001b[39G42500000 lines.\u001b[39G42600000 lines.\u001b[39G42700000 lines.\u001b[39G42800000 lines.\u001b[39G42900000 lines.\u001b[39G43000000 lines.\u001b[39G43100000 lines.\u001b[39G43200000 lines.\u001b[39G43200000 lines.\u001b[39G43200000 lines.\u001b[39G43300000 lines.\u001b[39G43400000 lines.\u001b[39G43500000 lines.\u001b[39G43500000 lines.\u001b[39G43500000 lines.\u001b[39G43500000 lines.\u001b[39G43500000 lines.\u001b[39G43600000 lines.\u001b[39G43700000 lines.\u001b[39G43800000 lines.\u001b[39G43900000 lines.\u001b[39G44000000 lines.\u001b[39G44100000 lines.\u001b[39G44200000 lines.\u001b[39G44300000 lines.\u001b[39G44400000 lines.\u001b[39G44400000 lines.\u001b[39G44500000 lines.\u001b[39G44600000 lines.\u001b[39G44700000 lines.\u001b[39G44700000 lines.\u001b[39G44700000 lines.\u001b[39G44800000 lines.\u001b[39G44900000 lines.\u001b[39G45000000 lines.\u001b[39G45100000 lines.\u001b[39G45200000 lines.\u001b[39G45200000 lines.\u001b[39G45300000 lines.\u001b[39G45400000 lines.\u001b[39G45400000 lines.\u001b[39G45400000 lines.\u001b[39G45500000 lines.\u001b[39G45600000 lines.\u001b[39G45700000 lines.\u001b[39G45800000 lines.\u001b[39G45800000 lines.\u001b[39G45900000 lines.\u001b[39G46000000 lines.\u001b[39G46100000 lines.\u001b[39G46200000 lines.\u001b[39G46300000 lines.\u001b[39G46400000 lines.\u001b[39G46500000 lines.\u001b[39G46600000 lines.\u001b[39G46700000 lines.\u001b[39G46800000 lines.\u001b[39G46800000 lines.\u001b[39G46800000 lines.\u001b[39G46800000 lines.\u001b[39G46900000 lines.\u001b[39G47000000 lines.\u001b[39G47100000 lines.\u001b[39G47200000 lines.\u001b[39G47300000 lines.\u001b[39G47400000 lines.\u001b[39G47400000 lines.\u001b[39G47400000 lines.\u001b[39G47500000 lines.\u001b[39G47600000 lines.\u001b[39G47700000 lines.\u001b[39G47800000 lines.\u001b[39G47900000 lines.\u001b[39G47900000 lines.\u001b[39G47900000 lines.\u001b[39G48000000 lines.\u001b[39G48100000 lines.\u001b[39G48200000 lines.\u001b[39G48300000 lines.\u001b[39G48300000 lines.\u001b[39G48300000 lines.\u001b[39G48300000 lines.\u001b[39G48300000 lines.\u001b[39G48400000 lines.\u001b[39G48400000 lines.\u001b[39G48500000 lines.\u001b[39G48600000 lines.\u001b[39G48700000 lines.\u001b[39G48700000 lines.\u001b[39G48700000 lines.\u001b[39G48800000 lines.\u001b[39G48900000 lines.\u001b[39G49000000 lines.\u001b[39G49000000 lines.\u001b[39G49000000 lines.\u001b[39G49000000 lines.\u001b[39G49000000 lines.\u001b[39G49000000 lines.\u001b[39G49100000 lines.\u001b[39G49200000 lines.\u001b[39G49300000 lines.\u001b[39G49400000 lines.\u001b[39G49400000 lines.\u001b[39G49400000 lines.\u001b[39G49400000 lines.\u001b[39G49400000 lines.\u001b[39G49400000 lines.\u001b[39G49400000 lines.\u001b[39G49500000 lines.\u001b[39G49500000 lines.\u001b[39G49500000 lines.\u001b[39G49500000 lines.\u001b[39G49500000 lines.\u001b[39G49500000 lines.\u001b[39G49500000 lines.\u001b[39G49600000 lines.\u001b[39G49700000 lines.\u001b[39G49700000 lines.\u001b[39G49800000 lines.\u001b[39G49900000 lines.\u001b[39G50000000 lines.\u001b[39G50100000 lines.\u001b[39G50200000 lines.\u001b[39G50300000 lines.\u001b[39G50300000 lines.\u001b[39G50400000 lines.\u001b[39G50500000 lines.\u001b[39G50500000 lines.\u001b[39G50600000 lines.\u001b[39G50700000 lines.\u001b[39G50800000 lines.\u001b[39G50900000 lines.\u001b[39G50900000 lines.\u001b[39G50900000 lines.\u001b[39G51000000 lines.\u001b[39G51000000 lines.\u001b[39G51100000 lines.\u001b[39G51100000 lines.\u001b[39G51100000 lines.\u001b[39G51100000 lines.\u001b[39G51100000 lines.\u001b[39G51200000 lines.\u001b[39G51300000 lines.\u001b[39G51300000 lines.\u001b[39G51400000 lines.\u001b[39G51500000 lines.\u001b[39G51600000 lines.\u001b[39G51600000 lines.\u001b[39G51700000 lines.\u001b[39G51700000 lines.\u001b[39G51700000 lines.\u001b[39G51800000 lines.\u001b[39G51900000 lines.\u001b[39G52000000 lines.\u001b[39G52000000 lines.\u001b[39G52100000 lines.\u001b[39G52200000 lines.\u001b[39G52200000 lines.\u001b[39G52200000 lines.\u001b[39G52300000 lines.\u001b[39G52400000 lines.\u001b[39G52500000 lines.\u001b[39G52600000 lines.\u001b[39G52700000 lines.\u001b[39G52800000 lines.\u001b[39G52800000 lines.\u001b[39G52900000 lines.\u001b[39G53000000 lines.\u001b[39G53000000 lines.\u001b[39G53100000 lines.\u001b[39G53200000 lines.\u001b[39G53200000 lines.\u001b[39G53200000 lines.\u001b[39G53300000 lines.\u001b[39G53400000 lines.\u001b[39G53500000 lines.\u001b[39G53500000 lines.\u001b[39G53600000 lines.\u001b[39G53700000 lines.\u001b[39G53800000 lines.\u001b[39G53800000 lines.\u001b[39G53900000 lines.\u001b[39G54000000 lines.\u001b[39G54100000 lines.\u001b[39G54100000 lines.\u001b[39G54200000 lines.\u001b[39G54300000 lines.\u001b[39G54400000 lines.\u001b[39G54400000 lines.\u001b[39G54400000 lines.\u001b[39G54400000 lines.\u001b[39G54400000 lines.\u001b[39G54400000 lines.\u001b[39G54400000 lines.\u001b[39G54400000 lines.\u001b[39G54400000 lines.\u001b[39G54400000 lines.\u001b[39G54400000 lines.\u001b[39G54500000 lines.\u001b[39G54500000 lines.\u001b[39G54600000 lines.\u001b[39G54600000 lines.\u001b[39G54600000 lines.\u001b[39G54700000 lines.\u001b[39G54800000 lines.\u001b[39G54800000 lines.\u001b[39G54800000 lines.\u001b[39G54900000 lines.\u001b[39G55000000 lines.\u001b[39G55100000 lines.\u001b[39G55200000 lines.\u001b[39G55200000 lines.\u001b[39G55200000 lines.\u001b[39G55200000 lines.\u001b[39G55200000 lines.\u001b[39G55200000 lines.\u001b[39G55200000 lines.\u001b[39G55200000 lines.\u001b[39G55200000 lines.\u001b[39G55300000 lines.\u001b[39G55400000 lines.\u001b[39G55400000 lines.\u001b[39G55400000 lines.\u001b[39G55500000 lines.\u001b[39G55600000 lines.\u001b[39G55600000 lines.\u001b[39G55600000 lines.\u001b[39G55700000 lines.\u001b[39G55700000 lines.\u001b[39G55800000 lines.\u001b[39G55900000 lines.\u001b[39G55900000 lines.\u001b[39G56000000 lines.\u001b[39G56100000 lines.\u001b[39G56200000 lines.\u001b[39G56300000 lines.\u001b[39G56400000 lines.\u001b[39G56400000 lines.\u001b[39G56400000 lines.\u001b[39G56400000 lines.\u001b[39G56400000 lines.\u001b[39G56400000 lines.\u001b[39G56400000 lines.\u001b[39G56400000 lines.\u001b[39G56500000 lines.\u001b[39G56600000 lines.\u001b[39G56700000 lines.\u001b[39G56800000 lines.\u001b[39G56800000 lines.\u001b[39G56900000 lines.\u001b[39G57000000 lines.\u001b[39G57100000 lines.\u001b[39G57200000 lines.\u001b[39G57300000 lines.\u001b[39G57400000 lines.\u001b[39G57500000 lines.\u001b[39G57600000 lines.\u001b[39G57700000 lines.\u001b[39G57800000 lines.\u001b[39G57900000 lines.\u001b[39G58000000 lines.\u001b[39G58000000 lines.\u001b[39G58000000 lines.\u001b[39G58000000 lines.\u001b[39G58100000 lines.\u001b[39G58200000 lines.\u001b[39G58300000 lines.\u001b[39G58400000 lines.\u001b[39G58500000 lines.\u001b[39G58500000 lines.\u001b[39G58500000 lines.\u001b[39G58600000 lines.\u001b[39G58700000 lines.\u001b[39G58800000 lines.\u001b[39G58800000 lines.\u001b[39G58900000 lines.\u001b[39G58900000 lines.\u001b[39G59000000 lines.\u001b[39G59100000 lines.\u001b[39G59200000 lines.\u001b[39G59300000 lines.\u001b[39G59400000 lines.\u001b[39G59500000 lines.\u001b[39G59600000 lines.\u001b[39G59700000 lines.\u001b[39G59800000 lines.\u001b[39G59900000 lines.\u001b[39G60000000 lines.\u001b[39G60100000 lines.\u001b[39G60200000 lines.\u001b[39G60300000 lines.\u001b[39G60400000 lines.\u001b[39G60400000 lines.\u001b[39G60400000 lines.\u001b[39G60400000 lines.\u001b[39G60400000 lines.\u001b[39G60400000 lines.\u001b[39G60500000 lines.\u001b[39G60500000 lines.\u001b[39G60500000 lines.\u001b[39G60600000 lines.\u001b[39G60700000 lines.\u001b[39G60800000 lines.\u001b[39G60900000 lines.\u001b[39G61000000 lines.\u001b[39G61100000 lines.\u001b[39G61200000 lines.\u001b[39G61300000 lines.\u001b[39G61300000 lines.\u001b[39G61400000 lines.\u001b[39G61500000 lines.\u001b[39G61600000 lines.\u001b[39G61600000 lines.\u001b[39G61700000 lines.\u001b[39G61800000 lines.\u001b[39G61900000 lines.\u001b[39G62000000 lines.\u001b[39G62100000 lines.\u001b[39G62200000 lines.\u001b[39G62300000 lines.\u001b[39G62300000 lines.\u001b[39G62300000 lines.\u001b[39G62400000 lines.\u001b[39G62500000 lines.\u001b[39G62500000 lines.\u001b[39G62600000 lines.\u001b[39G62700000 lines.\u001b[39G62700000 lines.\u001b[39G62800000 lines.\u001b[39G62900000 lines.\u001b[39G63000000 lines.\u001b[39G63100000 lines.\u001b[39G63100000 lines.\u001b[39G63100000 lines.\u001b[39G63100000 lines.\u001b[39G63200000 lines.\u001b[39G63300000 lines.\u001b[39G63400000 lines.\u001b[39G63400000 lines.\u001b[39G63400000 lines.\u001b[39G63400000 lines.\u001b[39G63400000 lines.\u001b[39G63500000 lines.\u001b[39G63600000 lines.\u001b[39G63700000 lines.\u001b[39G63800000 lines.\u001b[39G63800000 lines.\u001b[39G63800000 lines.\u001b[39G63900000 lines.\u001b[39G64000000 lines.\u001b[39G64100000 lines.\u001b[39G64100000 lines.\u001b[39G64100000 lines.\u001b[39G64100000 lines.\u001b[39G64200000 lines.\u001b[39G64300000 lines.\u001b[39G64300000 lines.\u001b[39G64300000 lines.\u001b[39G64300000 lines.\u001b[39G64300000 lines.\u001b[39G64400000 lines.\u001b[39G64500000 lines.\u001b[39G64600000 lines.\u001b[39G64700000 lines.\u001b[39G64800000 lines.\u001b[39G64900000 lines.\u001b[39G65000000 lines.\u001b[39G65100000 lines.\u001b[39G65200000 lines.\u001b[39G65300000 lines.\u001b[39G65400000 lines.\u001b[39G65500000 lines.\u001b[39G65600000 lines.\u001b[39G65700000 lines.\u001b[39G65800000 lines.\u001b[39G65800000 lines.\u001b[39G65900000 lines.\u001b[39G65900000 lines.\u001b[39G66000000 lines.\u001b[39G66100000 lines.\u001b[39G66200000 lines.\u001b[39G66300000 lines.\u001b[39G66300000 lines.\u001b[39G66300000 lines.\u001b[39G66300000 lines.\u001b[39G66300000 lines.\u001b[39G66300000 lines.\u001b[39G66300000 lines.\u001b[39G66300000 lines.\u001b[39G66300000 lines.\u001b[39G66300000 lines.\u001b[39G66300000 lines.\u001b[39G66400000 lines.\u001b[39G66500000 lines.\u001b[39G66500000 lines.\u001b[39G66600000 lines.\u001b[39G66600000 lines.\u001b[39G66600000 lines.\u001b[39G66600000 lines.\u001b[39G66600000 lines.\u001b[39G66700000 lines.\u001b[39G66700000 lines.\u001b[39G66800000 lines.\u001b[39G66900000 lines.\u001b[39G66900000 lines.\u001b[39G66900000 lines.\u001b[39G66900000 lines.\u001b[39G66900000 lines.\u001b[39G67000000 lines.\u001b[39G67000000 lines.\u001b[39G67100000 lines.\u001b[39G67200000 lines.\u001b[39G67300000 lines.\u001b[39G67400000 lines.\u001b[39G67500000 lines.\u001b[39G67500000 lines.\u001b[39G67600000 lines.\u001b[39G67700000 lines.\u001b[39G67700000 lines.\u001b[39G67700000 lines.\u001b[39G67700000 lines.\u001b[39G67800000 lines.\u001b[39G67900000 lines.\u001b[39G68000000 lines.\u001b[39G68100000 lines.\u001b[39G68100000 lines.\u001b[39G68100000 lines.\u001b[39G68100000 lines.\u001b[39G68100000 lines.\u001b[39G68100000 lines.\u001b[39G68200000 lines.\u001b[39G68200000 lines.\u001b[39G68300000 lines.\u001b[39G68400000 lines.\u001b[39G68500000 lines.\u001b[39G68600000 lines.\u001b[39G68600000 lines.\u001b[39G68600000 lines.\u001b[39G68700000 lines.\u001b[39G68700000 lines.\u001b[39G68700000 lines.\u001b[39G68800000 lines.\u001b[39G68900000 lines.\u001b[39G69000000 lines.\u001b[39G69100000 lines.\u001b[39G69100000 lines.\u001b[39G69100000 lines.\u001b[39G69100000 lines.\u001b[39G69200000 lines.\u001b[39G69300000 lines.\u001b[39G69400000 lines.\u001b[39G69500000 lines.\u001b[39G69600000 lines.\u001b[39G69700000 lines.\u001b[39G69800000 lines.\u001b[39G69900000 lines.\u001b[39G70000000 lines.\u001b[39G70100000 lines.\u001b[39G70100000 lines.\u001b[39G70100000 lines.\u001b[39G70100000 lines.\u001b[39G70100000 lines.\u001b[39G70200000 lines.\u001b[39G70200000 lines.\u001b[39G70200000 lines.\u001b[39G70300000 lines.\u001b[39G70300000 lines.\u001b[39G70300000 lines.\u001b[39G70400000 lines.\u001b[39G70500000 lines.\u001b[39G70500000 lines.\u001b[39G70500000 lines.\u001b[39G70500000 lines.\u001b[39G70500000 lines.\u001b[39G70500000 lines.\u001b[39G70500000 lines.\u001b[39G70500000 lines.\u001b[39G70600000 lines.\u001b[39G70700000 lines.\u001b[39G70800000 lines.\u001b[39G70900000 lines.\u001b[39G70900000 lines.\u001b[39G70900000 lines.\u001b[39G70900000 lines.\u001b[39G70900000 lines.\u001b[39G70900000 lines.\u001b[39G70900000 lines.\u001b[39G70900000 lines.\u001b[39G70900000 lines.\u001b[39G70900000 lines.\u001b[39G71000000 lines.\u001b[39G71000000 lines.\u001b[39G71000000 lines.\u001b[39G71000000 lines.\u001b[39G71000000 lines.\u001b[39G71100000 lines.\u001b[39G71200000 lines.\u001b[39G71300000 lines.\u001b[39G71400000 lines.\u001b[39G71500000 lines.\u001b[39G71600000 lines.\u001b[39G71700000 lines.\u001b[39G71800000 lines.\u001b[39G71900000 lines.\u001b[39G72000000 lines.\u001b[39G72000000 lines.\u001b[39G72000000 lines.\u001b[39G72000000 lines.\u001b[39G72000000 lines.\u001b[39G72000000 lines.\u001b[39G72000000 lines.\u001b[39G72000000 lines.\u001b[39G72000000 lines.\u001b[39G72100000 lines.\u001b[39G72200000 lines.\u001b[39G72300000 lines.\u001b[39G72400000 lines.\u001b[39G72500000 lines.\u001b[39G72600000 lines.\u001b[39G72700000 lines.\u001b[39G72700000 lines.\u001b[39G72700000 lines.\u001b[39G72700000 lines.\u001b[39G72700000 lines.\u001b[39G72800000 lines.\u001b[39G72900000 lines.\u001b[39G73000000 lines.\u001b[39G73100000 lines.\u001b[39G73200000 lines.\u001b[39G73200000 lines.\u001b[39G73300000 lines.\u001b[39G73400000 lines.\u001b[39G73500000 lines.\u001b[39G73600000 lines.\u001b[39G73600000 lines.\u001b[39G73600000 lines.\u001b[39G73600000 lines.\u001b[39G73600000 lines.\u001b[39G73600000 lines.\u001b[39G73600000 lines.\u001b[39G73700000 lines.\u001b[39G73800000 lines.\u001b[39G73900000 lines.\u001b[39G74000000 lines.\u001b[39G74100000 lines.\u001b[39G74200000 lines.\u001b[39G74300000 lines.\u001b[39G74400000 lines.\u001b[39G74500000 lines.\u001b[39G74500000 lines.\u001b[39G74600000 lines.\u001b[39G74700000 lines.\u001b[39G74800000 lines.\u001b[39G74900000 lines.\u001b[39G75000000 lines.\u001b[39G75000000 lines.\u001b[39G75000000 lines.\u001b[39G75100000 lines.\u001b[39G75200000 lines.\u001b[39G75200000 lines.\u001b[39G75200000 lines.\u001b[39G75200000 lines.\u001b[39G75200000 lines.\u001b[39G75200000 lines.\u001b[39G75300000 lines.\u001b[39G75400000 lines.\u001b[39G75400000 lines.\u001b[39G75500000 lines.\u001b[39G75600000 lines.\u001b[39G75700000 lines.\u001b[39G75800000 lines.\u001b[39G75900000 lines.\u001b[39G76000000 lines.\u001b[39G76100000 lines.\u001b[39G76200000 lines.\u001b[39G76200000 lines.\u001b[39G76200000 lines.\u001b[39G76300000 lines.\u001b[39G76300000 lines.\u001b[39G76400000 lines.\u001b[39G76500000 lines.\u001b[39G76600000 lines.\u001b[39G76600000 lines.\u001b[39G76700000 lines.\u001b[39G76700000 lines.\u001b[39G76700000 lines.\u001b[39G76800000 lines.\u001b[39G76800000 lines.\u001b[39G76900000 lines.\u001b[39G77000000 lines.\u001b[39G77100000 lines.\u001b[39G77200000 lines.\u001b[39G77200000 lines.\u001b[39G77200000 lines.\u001b[39G77200000 lines.\u001b[39G77300000 lines.\u001b[39G77400000 lines.\u001b[39G77500000 lines.\u001b[39G77600000 lines.\u001b[39G77600000 lines.\u001b[39G77700000 lines.\u001b[39G77700000 lines.\u001b[39G77700000 lines.\u001b[39G77700000 lines.\u001b[39G77800000 lines.\u001b[39G77900000 lines.\u001b[39G77900000 lines.\u001b[39G77900000 lines.\u001b[39G77900000 lines.\u001b[39G78000000 lines.\u001b[39G78100000 lines.\u001b[39G78100000 lines.\u001b[39G78200000 lines.\u001b[39G78300000 lines.\u001b[39G78300000 lines.\u001b[39G78400000 lines.\u001b[39G78500000 lines.\u001b[39G78600000 lines.\u001b[39G78600000 lines.\u001b[39G78600000 lines.\u001b[39G78700000 lines.\u001b[39G78700000 lines.\u001b[39G78800000 lines.\u001b[39G78800000 lines.\u001b[39G78900000 lines.\u001b[39G79000000 lines.\u001b[39G79100000 lines.\u001b[39G79200000 lines.\u001b[39G79200000 lines.\u001b[39G79300000 lines.\u001b[39G79400000 lines.\u001b[39G79500000 lines.\u001b[39G79600000 lines.\u001b[39G79700000 lines.\u001b[39G79700000 lines.\u001b[39G79700000 lines.\u001b[39G79700000 lines.\u001b[39G79700000 lines.\u001b[39G79800000 lines.\u001b[39G79800000 lines.\u001b[39G79800000 lines.\u001b[39G79800000 lines.\u001b[39G79800000 lines.\u001b[39G79800000 lines.\u001b[39G79900000 lines.\u001b[39G80000000 lines.\u001b[39G80000000 lines.\u001b[39G80100000 lines.\u001b[39G80100000 lines.\u001b[39G80200000 lines.\u001b[39G80300000 lines.\u001b[39G80300000 lines.\u001b[39G80400000 lines.\u001b[39G80500000 lines.\u001b[39G80600000 lines.\u001b[39G80700000 lines.\u001b[39G80800000 lines.\u001b[39G80900000 lines.\u001b[39G80900000 lines.\u001b[39G80900000 lines.\u001b[39G81000000 lines.\u001b[39G81100000 lines.\u001b[39G81100000 lines.\u001b[39G81100000 lines.\u001b[39G81100000 lines.\u001b[39G81200000 lines.\u001b[39G81200000 lines.\u001b[39G81300000 lines.\u001b[39G81400000 lines.\u001b[39G81500000 lines.\u001b[39G81500000 lines.\u001b[39G81500000 lines.\u001b[39G81500000 lines.\u001b[39G81500000 lines.\u001b[39G81500000 lines.\u001b[39G81500000 lines.\u001b[39G81600000 lines.\u001b[39G81700000 lines.\u001b[39G81700000 lines.\u001b[39G81700000 lines.\u001b[39G81800000 lines.\u001b[39G81900000 lines.\u001b[39G81900000 lines.\u001b[39G81900000 lines.\u001b[39G81900000 lines.\u001b[39G81900000 lines.\u001b[39G81900000 lines.\u001b[39G81900000 lines.\u001b[39G81900000 lines.\u001b[39G82000000 lines.\u001b[39G82000000 lines.\u001b[39G82100000 lines.\u001b[39G82100000 lines.\u001b[39G82100000 lines.\u001b[39G82100000 lines.\u001b[39G82200000 lines.\u001b[39G82300000 lines.\u001b[39G82300000 lines.\u001b[39G82300000 lines.\u001b[39G82300000 lines.\u001b[39G82300000 lines.\u001b[39G82400000 lines.\u001b[39G82400000 lines.\u001b[39G82500000 lines.\u001b[39G82600000 lines.\u001b[39G82700000 lines.\u001b[39G82800000 lines.\u001b[39G82900000 lines.\u001b[39G82900000 lines.\u001b[39G82900000 lines.\u001b[39G82900000 lines.\u001b[39G82900000 lines.\u001b[39G82900000 lines.\u001b[39G82900000 lines.\u001b[39G82900000 lines.\u001b[39G82900000 lines.\u001b[39G83000000 lines.\u001b[39G83100000 lines.\u001b[39G83100000 lines.\u001b[39G83100000 lines.\u001b[39G83200000 lines.\u001b[39G83300000 lines.\u001b[39G83400000 lines.\u001b[39G83400000 lines.\u001b[39G83400000 lines.\u001b[39G83500000 lines.\u001b[39G83600000 lines.\u001b[39G83700000 lines.\u001b[39G83800000 lines.\u001b[39G83800000 lines.\u001b[39G83900000 lines.\u001b[39G84000000 lines.\u001b[39G84000000 lines.\u001b[39G84100000 lines.\u001b[39G84200000 lines.\u001b[39G84200000 lines.\u001b[39G84300000 lines.\u001b[39G84400000 lines.\u001b[39G84400000 lines.\u001b[39G84400000 lines.\u001b[39G84400000 lines.\u001b[39G84400000 lines.\u001b[39G84400000 lines.\u001b[39G84400000 lines.\u001b[39G84400000 lines.\u001b[39G84400000 lines.\u001b[39G84400000 lines.\u001b[39G84400000 lines.\u001b[39G84400000 lines.\u001b[39G84500000 lines.\u001b[39G84600000 lines.\u001b[39G84700000 lines.\u001b[39G84800000 lines.\u001b[39G84800000 lines.\u001b[39G84900000 lines.\u001b[39G85000000 lines.\u001b[39G85100000 lines.\u001b[39G85100000 lines.\u001b[39G85100000 lines.\u001b[39G85100000 lines.\u001b[39G85100000 lines.\u001b[39G85200000 lines.\u001b[39G85300000 lines.\u001b[39G85300000 lines.\u001b[39G85300000 lines.\u001b[39G85400000 lines.\u001b[39G85400000 lines.\u001b[39G85500000 lines.\u001b[39G85600000 lines.\u001b[39G85700000 lines.\u001b[39G85700000 lines.\u001b[39G85800000 lines.\u001b[39G85900000 lines.\u001b[39G86000000 lines.\u001b[39G86100000 lines.\u001b[39G86100000 lines.\u001b[39G86100000 lines.\u001b[39G86200000 lines.\u001b[39G86300000 lines.\u001b[39G86400000 lines.\u001b[39G86400000 lines.\u001b[39G86500000 lines.\u001b[39G86600000 lines.\u001b[39G86700000 lines.\u001b[39G86700000 lines.\u001b[39G86800000 lines.\u001b[39G86800000 lines.\u001b[39G86800000 lines.\u001b[39G86800000 lines.\u001b[39G86800000 lines.\u001b[39G86800000 lines.\u001b[39G86900000 lines.\u001b[39G87000000 lines.\u001b[39G87000000 lines.\u001b[39G87000000 lines.\u001b[39G87000000 lines.\u001b[39G87000000 lines.\u001b[39G87100000 lines.\u001b[39G87100000 lines.\u001b[39G87200000 lines.\u001b[39G87300000 lines.\u001b[39G87400000 lines.\u001b[39G87400000 lines.\u001b[39G87400000 lines.\u001b[39G87500000 lines.\u001b[39G87600000 lines.\u001b[39G87600000 lines.\u001b[39G87700000 lines.\u001b[39G87800000 lines.\u001b[39G87900000 lines.\u001b[39G87900000 lines.\u001b[39G88000000 lines.\u001b[39G88000000 lines.\u001b[39G88000000 lines.\u001b[39G88000000 lines.\u001b[39G88100000 lines.\u001b[39G88200000 lines.\u001b[39G88300000 lines.\u001b[39G88300000 lines.\u001b[39G88300000 lines.\u001b[39G88400000 lines.\u001b[39G88400000 lines.\u001b[39G88400000 lines.\u001b[39G88500000 lines.\u001b[39G88600000 lines.\u001b[39G88700000 lines.\u001b[39G88700000 lines.\u001b[39G88800000 lines.\u001b[39G88900000 lines.\u001b[39G89000000 lines.\u001b[39G89100000 lines.\u001b[39G89100000 lines.\u001b[39G89200000 lines.\u001b[39G89300000 lines.\u001b[39G89400000 lines.\u001b[39G89500000 lines.\u001b[39G89600000 lines.\u001b[39G89600000 lines.\u001b[39G89700000 lines.\u001b[39G89800000 lines.\u001b[39G89900000 lines.\u001b[39G90000000 lines.\u001b[39G90100000 lines.\u001b[39G90100000 lines.\u001b[39G90100000 lines.\u001b[39G90200000 lines.\u001b[39G90300000 lines.\u001b[39G90300000 lines.\u001b[39G90300000 lines.\u001b[39G90400000 lines.\u001b[39G90400000 lines.\u001b[39G90400000 lines.\u001b[39G90400000 lines.\u001b[39G90400000 lines.\u001b[39G90500000 lines.\u001b[39G90500000 lines.\u001b[39G90600000 lines.\u001b[39G90600000 lines.\u001b[39G90600000 lines.\u001b[39G90600000 lines.\u001b[39G90700000 lines.\u001b[39G90800000 lines.\u001b[39G90900000 lines.\u001b[39G90900000 lines.\u001b[39G90900000 lines.\u001b[39G90900000 lines.\u001b[39G91000000 lines.\u001b[39G91100000 lines.\u001b[39G91100000 lines.\u001b[39G91200000 lines.\u001b[39G91300000 lines.\u001b[39G91300000 lines.\u001b[39G91400000 lines.\u001b[39G91400000 lines.\u001b[39G91400000 lines.\u001b[39G91400000 lines.\u001b[39G91500000 lines.\u001b[39G91600000 lines.\u001b[39G91600000 lines.\u001b[39G91600000 lines.\u001b[39G91600000 lines.\u001b[39G91700000 lines.\u001b[39G91800000 lines.\u001b[39G91900000 lines.\u001b[39G92000000 lines.\u001b[39G92100000 lines.\u001b[39G92200000 lines.\u001b[39G92300000 lines.\u001b[39G92300000 lines.\u001b[39G92300000 lines.\u001b[39G92300000 lines.\u001b[39G92300000 lines.\u001b[39G92400000 lines.\u001b[39G92500000 lines.\u001b[39G92600000 lines.\u001b[39G92600000 lines.\u001b[39G92600000 lines.\u001b[39G92700000 lines.\u001b[39G92800000 lines.\u001b[39G92900000 lines.\u001b[39G93000000 lines.\u001b[39G93100000 lines.\u001b[39G93100000 lines.\u001b[39G93200000 lines.\u001b[39G93200000 lines.\u001b[39G93300000 lines.\u001b[39G93400000 lines.\u001b[39G93500000 lines.\u001b[39G93500000 lines.\u001b[39G93600000 lines.\u001b[39G93700000 lines.\u001b[39G93800000 lines.\u001b[39G93800000 lines.\u001b[39G93800000 lines.\u001b[39G93800000 lines.\u001b[39G93900000 lines.\u001b[39G93900000 lines.\u001b[39G93900000 lines.\u001b[39G94000000 lines.\u001b[39G94100000 lines.\u001b[39G94100000 lines.\u001b[39G94200000 lines.\u001b[39G94300000 lines.\u001b[39G94400000 lines.\u001b[39G94400000 lines.\u001b[39G94500000 lines.\u001b[39G94600000 lines.\u001b[39G94600000 lines.\u001b[39G94600000 lines.\u001b[39G94600000 lines.\u001b[39G94700000 lines.\u001b[39G94800000 lines.\u001b[39G94900000 lines.\u001b[39G95000000 lines.\u001b[39G95100000 lines.\u001b[39G95100000 lines.\u001b[39G95100000 lines.\u001b[39G95200000 lines.\u001b[39G95300000 lines.\u001b[39G95400000 lines.\u001b[39G95400000 lines.\u001b[39G95400000 lines.\u001b[39G95400000 lines.\u001b[39G95400000 lines.\u001b[39G95400000 lines.\u001b[39G95500000 lines.\u001b[39G95600000 lines.\u001b[39G95700000 lines.\u001b[39G95800000 lines.\u001b[39G95900000 lines.\u001b[39G96000000 lines.\u001b[39G96000000 lines.\u001b[39G96100000 lines.\u001b[39G96200000 lines.\u001b[39G96200000 lines.\u001b[39G96200000 lines.\u001b[39G96200000 lines.\u001b[39G96200000 lines.\u001b[39G96200000 lines.\u001b[39G96200000 lines.\u001b[39G96300000 lines.\u001b[39G96400000 lines.\u001b[39G96500000 lines.\u001b[39G96600000 lines.\u001b[39G96600000 lines.\u001b[39G96700000 lines.\u001b[39G96800000 lines.\u001b[39G96800000 lines.\u001b[39G96800000 lines.\u001b[39G96900000 lines.\u001b[39G96900000 lines.\u001b[39G97000000 lines.\u001b[39G97100000 lines.\u001b[39G97100000 lines.\u001b[39G97100000 lines.\u001b[39G97200000 lines.\u001b[39G97300000 lines.\u001b[39G97400000 lines.\u001b[39G97400000 lines.\u001b[39G97500000 lines.\u001b[39G97500000 lines.\u001b[39G97600000 lines.\u001b[39G97700000 lines.\u001b[39G97800000 lines.\u001b[39G97800000 lines.\u001b[39G97900000 lines.\u001b[39G97900000 lines.\u001b[39G97900000 lines.\u001b[39G98000000 lines.\u001b[39G98000000 lines.\u001b[39G98000000 lines.\u001b[39G98100000 lines.\u001b[39G98200000 lines.\u001b[39G98200000 lines.\u001b[39G98300000 lines.\u001b[39G98300000 lines.\u001b[39G98400000 lines.\u001b[39G98500000 lines.\u001b[39G98600000 lines.\u001b[39G98700000 lines.\u001b[39G98700000 lines.\u001b[39G98800000 lines.\u001b[39G98900000 lines.\u001b[39G98900000 lines.\u001b[39G98900000 lines.\u001b[39G98900000 lines.\u001b[39G98900000 lines.\u001b[39G98900000 lines.\u001b[39G99000000 lines.\u001b[39G99100000 lines.\u001b[39G99200000 lines.\u001b[39G99200000 lines.\u001b[39G99300000 lines.\u001b[39G99400000 lines.\u001b[39G99500000 lines.\u001b[39G99600000 lines.\u001b[39G99600000 lines.\u001b[39G99600000 lines.\u001b[39G99600000 lines.\u001b[39G99700000 lines.\u001b[39G99800000 lines.\u001b[39G99900000 lines.\u001b[39G100000000 lines.\u001b[39G100000000 lines.\u001b[39G100000000 lines.\u001b[39G100000000 lines.\u001b[39G100000000 lines.\u001b[39G100000000 lines.\u001b[39G100000000 lines.\u001b[39G100000000 lines.\u001b[39G100100000 lines.\u001b[39G100100000 lines.\u001b[39G100200000 lines.\u001b[39G100200000 lines.\u001b[39G100300000 lines.\u001b[39G100400000 lines.\u001b[39G100500000 lines.\u001b[39G100600000 lines.\u001b[39G100600000 lines.\u001b[39G100600000 lines.\u001b[39G100600000 lines.\u001b[39G100700000 lines.\u001b[39G100800000 lines.\u001b[39G100800000 lines.\u001b[39G100800000 lines.\u001b[39G100900000 lines.\u001b[39G100900000 lines.\u001b[39G101000000 lines.\u001b[39G101100000 lines.\u001b[39G101200000 lines.\u001b[39G101200000 lines.\u001b[39G101200000 lines.\u001b[39G101300000 lines.\u001b[39G101300000 lines.\u001b[39G101300000 lines.\u001b[39G101300000 lines.\u001b[39G101300000 lines.\u001b[39G101400000 lines.\u001b[39G101500000 lines.\u001b[39G101500000 lines.\u001b[39G101600000 lines.\u001b[39G101600000 lines.\u001b[39G101600000 lines.\u001b[39G101600000 lines.\u001b[39G101700000 lines.\u001b[39G101800000 lines.\u001b[39G101800000 lines.\u001b[39G101900000 lines.\u001b[39G102000000 lines.\u001b[39G102100000 lines.\u001b[39G102200000 lines.\u001b[39G102300000 lines.\u001b[39G102400000 lines.\u001b[39G102500000 lines.\u001b[39G102600000 lines.\u001b[39G102700000 lines.\u001b[39G102800000 lines.\u001b[39G102800000 lines.\u001b[39G102900000 lines.\u001b[39G102900000 lines.\u001b[39G102900000 lines.\u001b[39G102900000 lines.\u001b[39G103000000 lines.\u001b[39G103100000 lines.\u001b[39G103200000 lines.\u001b[39G103200000 lines.\u001b[39G103300000 lines.\u001b[39G103400000 lines.\u001b[39G103400000 lines.\u001b[39G103500000 lines.\u001b[39G103600000 lines.\u001b[39G103700000 lines.\u001b[39G103800000 lines.\u001b[39G103900000 lines.\u001b[39G104000000 lines.\u001b[39G104100000 lines.\u001b[39G104200000 lines.\u001b[39G104200000 lines.\u001b[39G104200000 lines.\u001b[39G104300000 lines.\u001b[39G104300000 lines.\u001b[39G104300000 lines.\u001b[39G104300000 lines.\u001b[39G104300000 lines.\u001b[39G104300000 lines.\u001b[39G104300000 lines.\u001b[39G104300000 lines.\u001b[39G104400000 lines.\u001b[39G104500000 lines.\u001b[39G104500000 lines.\u001b[39G104500000 lines.\u001b[39G104500000 lines.\u001b[39G104600000 lines.\u001b[39G104600000 lines.\u001b[39G104700000 lines.\u001b[39G104800000 lines.\u001b[39G104900000 lines.\u001b[39G105000000 lines.\u001b[39G105000000 lines.\u001b[39G105100000 lines.\u001b[39G105200000 lines.\u001b[39G105300000 lines.\u001b[39G105400000 lines.\u001b[39G105500000 lines.\u001b[39G105500000 lines.\u001b[39G105600000 lines.\u001b[39G105600000 lines.\u001b[39G105700000 lines.\u001b[39G105700000 lines.\u001b[39G105700000 lines.\u001b[39G105700000 lines.\u001b[39G105700000 lines.\u001b[39G105700000 lines.\u001b[39G105700000 lines.\u001b[39G105800000 lines.\u001b[39G105800000 lines.\u001b[39G105900000 lines.\u001b[39G106000000 lines.\u001b[39G106100000 lines.\u001b[39G106100000 lines.\u001b[39G106100000 lines.\u001b[39G106100000 lines.\u001b[39G106100000 lines.\u001b[39G106100000 lines.\u001b[39G106200000 lines.\u001b[39G106200000 lines.\u001b[39G106300000 lines.\u001b[39G106300000 lines.\u001b[39G106300000 lines.\u001b[39G106400000 lines.\u001b[39G106500000 lines.\u001b[39G106600000 lines.\u001b[39G106700000 lines.\u001b[39G106800000 lines.\u001b[39G106900000 lines.\u001b[39G107000000 lines.\u001b[39G107100000 lines.\u001b[39G107100000 lines.\u001b[39G107100000 lines.\u001b[39G107100000 lines.\u001b[39G107100000 lines.\u001b[39G107200000 lines.\u001b[39G107300000 lines.\u001b[39G107400000 lines.\u001b[39G107500000 lines.\u001b[39G107500000 lines.\u001b[39G107600000 lines.\u001b[39G107700000 lines.\u001b[39G107800000 lines.\u001b[39G107900000 lines.\u001b[39G107900000 lines.\u001b[39G107900000 lines.\u001b[39G108000000 lines.\u001b[39G108000000 lines.\u001b[39G108100000 lines.\u001b[39G108200000 lines.\u001b[39G108300000 lines.\u001b[39G108400000 lines.\u001b[39G108500000 lines.\u001b[39G108600000 lines.\u001b[39G108700000 lines.\u001b[39G108800000 lines.\u001b[39G108900000 lines.\u001b[39G109000000 lines.\u001b[39G109100000 lines.\u001b[39G109100000 lines.\u001b[39G109100000 lines.\u001b[39G109100000 lines.\u001b[39G109200000 lines.\u001b[39G109300000 lines.\u001b[39G109400000 lines.\u001b[39G109500000 lines.\u001b[39G109600000 lines.\u001b[39G109600000 lines.\u001b[39G109600000 lines.\u001b[39G109700000 lines.\u001b[39G109800000 lines.\u001b[39G109900000 lines.\u001b[39G110000000 lines.\u001b[39G110100000 lines.\u001b[39G110200000 lines.\u001b[39G110300000 lines.\u001b[39G110400000 lines.\u001b[39G110500000 lines.\u001b[39G110600000 lines.\u001b[39G110700000 lines.\u001b[39G110700000 lines.\u001b[39G110700000 lines.\u001b[39G110700000 lines.\u001b[39G110700000 lines.\u001b[39G110800000 lines.\u001b[39G110900000 lines.\u001b[39G110900000 lines.\u001b[39G110900000 lines.\u001b[39G111000000 lines.\u001b[39G111100000 lines.\u001b[39G111100000 lines.\u001b[39G111100000 lines.\u001b[39G111100000 lines.\u001b[39G111100000 lines.\u001b[39G111100000 lines.\u001b[39G111200000 lines.\u001b[39G111300000 lines.\u001b[39G111300000 lines.\u001b[39G111300000 lines.\u001b[39G111300000 lines.\u001b[39G111300000 lines.\u001b[39G111400000 lines.\u001b[39G111500000 lines.\u001b[39G111600000 lines.\u001b[39G111700000 lines.\u001b[39G111800000 lines.\u001b[39G111900000 lines.\u001b[39G112000000 lines.\u001b[39G112100000 lines.\u001b[39G112200000 lines.\u001b[39G112300000 lines.\u001b[39G112300000 lines.\u001b[39G112300000 lines.\u001b[39G112300000 lines.\u001b[39G112300000 lines.\u001b[39G112300000 lines.\u001b[39G112300000 lines.\u001b[39G112400000 lines.\u001b[39G112500000 lines.\u001b[39G112600000 lines.\u001b[39G112700000 lines.\u001b[39G112800000 lines.\u001b[39G112900000 lines.\u001b[39G113000000 lines.\u001b[39G113000000 lines.\u001b[39G113100000 lines.\u001b[39G113100000 lines.\u001b[39G113200000 lines.\u001b[39G113300000 lines.\u001b[39G113400000 lines.\u001b[39G113400000 lines.\u001b[39G113400000 lines.\u001b[39G113500000 lines.\u001b[39G113600000 lines.\u001b[39G113600000 lines.\u001b[39G113700000 lines.\u001b[39G113800000 lines.\u001b[39G113800000 lines.\u001b[39G113900000 lines.\u001b[39G114000000 lines.\u001b[39G114100000 lines.\u001b[39G114200000 lines.\u001b[39G114300000 lines.\u001b[39G114400000 lines.\u001b[39G114500000 lines.\u001b[39G114600000 lines.\u001b[39G114700000 lines.\u001b[39G114800000 lines.\u001b[39G114800000 lines.\u001b[39G114800000 lines.\u001b[39G114800000 lines.\u001b[39G114900000 lines.\u001b[39G115000000 lines.\u001b[39G115100000 lines.\u001b[39G115200000 lines.\u001b[39G115200000 lines.\u001b[39G115200000 lines.\u001b[39G115200000 lines.\u001b[39G115200000 lines.\u001b[39G115200000 lines.\u001b[39G115200000 lines.\u001b[39G115200000 lines.\u001b[39G115200000 lines.\u001b[39G115300000 lines.\u001b[39G115300000 lines.\u001b[39G115400000 lines.\u001b[39G115400000 lines.\u001b[39G115400000 lines.\u001b[39G115500000 lines.\u001b[39G115500000 lines.\u001b[39G115600000 lines.\u001b[39G115700000 lines.\u001b[39G115800000 lines.\u001b[39G115800000 lines.\u001b[39G115900000 lines.\u001b[39G116000000 lines.\u001b[39G116100000 lines.\u001b[39G116200000 lines.\u001b[39G116300000 lines.\u001b[39G116300000 lines.\u001b[39G116300000 lines.\u001b[39G116300000 lines.\u001b[39G116300000 lines.\u001b[39G116400000 lines.\u001b[39G116500000 lines.\u001b[39G116600000 lines.\u001b[39G116700000 lines.\u001b[39G116800000 lines.\u001b[39G116800000 lines.\u001b[39G116800000 lines.\u001b[39G116900000 lines.\u001b[39G117000000 lines.\u001b[39G117000000 lines.\u001b[39G117000000 lines.\u001b[39G117100000 lines.\u001b[39G117100000 lines.\u001b[39G117100000 lines.\u001b[39G117200000 lines.\u001b[39G117300000 lines.\u001b[39G117400000 lines.\u001b[39G117400000 lines.\u001b[39G117500000 lines.\u001b[39G117600000 lines.\u001b[39G117700000 lines.\u001b[39G117800000 lines.\u001b[39G117900000 lines.\u001b[39G118000000 lines.\u001b[39G118100000 lines.\u001b[39G118200000 lines.\u001b[39G118300000 lines.\u001b[39G118400000 lines.\u001b[39G118500000 lines.\u001b[39G118500000 lines.\u001b[39G118500000 lines.\u001b[39G118500000 lines.\u001b[39G118600000 lines.\u001b[39G118700000 lines.\u001b[39G118700000 lines.\u001b[39G118800000 lines.\u001b[39G118900000 lines.\u001b[39G118900000 lines.\u001b[39G118900000 lines.\u001b[39G119000000 lines.\u001b[39G119000000 lines.\u001b[39G119000000 lines.\u001b[39G119000000 lines.\u001b[39G119000000 lines.\u001b[39G119100000 lines.\u001b[39G119200000 lines.\u001b[39G119300000 lines.\u001b[39G119300000 lines.\u001b[39G119300000 lines.\u001b[39G119400000 lines.\u001b[39G119400000 lines.\u001b[39G119400000 lines.\u001b[39G119500000 lines.\u001b[39G119600000 lines.\u001b[39G119700000 lines.\u001b[39G119800000 lines.\u001b[39G119800000 lines.\u001b[39G119900000 lines.\u001b[39G119900000 lines.\u001b[39G119900000 lines.\u001b[39G120000000 lines.\u001b[39G120100000 lines.\u001b[39G120200000 lines.\u001b[39G120300000 lines.\u001b[39G120300000 lines.\u001b[39G120400000 lines.\u001b[39G120400000 lines.\u001b[39G120500000 lines.\u001b[39G120500000 lines.\u001b[39G120500000 lines.\u001b[39G120500000 lines.\u001b[39G120600000 lines.\u001b[39G120700000 lines.\u001b[39G120800000 lines.\u001b[39G120800000 lines.\u001b[39G120800000 lines.\u001b[39G120800000 lines.\u001b[39G120800000 lines.\u001b[39G120800000 lines.\u001b[39G120800000 lines.\u001b[39G120800000 lines.\u001b[39G120900000 lines.\u001b[39G121000000 lines.\u001b[39G121100000 lines.\u001b[39G121100000 lines.\u001b[39G121100000 lines.\u001b[39G121200000 lines.\u001b[39G121300000 lines.\u001b[39G121400000 lines.\u001b[39G121400000 lines.\u001b[39G121400000 lines.\u001b[39G121500000 lines.\u001b[39G121500000 lines.\u001b[39G121500000 lines.\u001b[39G121600000 lines.\u001b[39G121600000 lines.\u001b[39G121700000 lines.\u001b[39G121800000 lines.\u001b[39G121900000 lines.\u001b[39G122000000 lines.\u001b[39G122100000 lines.\u001b[39G122200000 lines.\u001b[39G122200000 lines.\u001b[39G122200000 lines.\u001b[39G122300000 lines.\u001b[39G122400000 lines.\u001b[39G122500000 lines.\u001b[39G122600000 lines.\u001b[39G122600000 lines.\u001b[39G122700000 lines.\u001b[39G122700000 lines.\u001b[39G122700000 lines.\u001b[39G122800000 lines.\u001b[39G122900000 lines.\u001b[39G122900000 lines.\u001b[39G123000000 lines.\u001b[39G123000000 lines.\u001b[39G123100000 lines.\u001b[39G123100000 lines.\u001b[39G123100000 lines.\u001b[39G123200000 lines.\u001b[39G123200000 lines.\u001b[39G123200000 lines.\u001b[39G123200000 lines.\u001b[39G123300000 lines.\u001b[39G123400000 lines.\u001b[39G123400000 lines.\u001b[39G123500000 lines.\u001b[39G123600000 lines.\u001b[39G123700000 lines.\u001b[39G123800000 lines.\u001b[39G123900000 lines.\u001b[39G123900000 lines.\u001b[39G124000000 lines.\u001b[39G124100000 lines.\u001b[39G124100000 lines.\u001b[39G124100000 lines.\u001b[39G124100000 lines.\u001b[39G124100000 lines.\u001b[39G124100000 lines.\u001b[39G124100000 lines.\u001b[39G124200000 lines.\u001b[39G124300000 lines.\u001b[39G124400000 lines.\u001b[39G124400000 lines.\u001b[39G124500000 lines.\u001b[39G124600000 lines.\u001b[39G124600000 lines.\u001b[39G124700000 lines.\u001b[39G124800000 lines.\u001b[39G124900000 lines.\u001b[39G124900000 lines.\u001b[39G125000000 lines.\u001b[39G125100000 lines.\u001b[39G125200000 lines.\u001b[39G125300000 lines.\u001b[39G125300000 lines.\u001b[39G125300000 lines.\u001b[39G125300000 lines.\u001b[39G125400000 lines.\u001b[39G125500000 lines.\u001b[39G125500000 lines.\u001b[39G125600000 lines.\u001b[39G125700000 lines.\u001b[39G125800000 lines.\u001b[39G125900000 lines.\u001b[39G126000000 lines.\u001b[39G126100000 lines.\u001b[39G126100000 lines.\u001b[39G126100000 lines.\u001b[39G126100000 lines.\u001b[39G126100000 lines.\u001b[39G126200000 lines.\u001b[39G126300000 lines.\u001b[39G126400000 lines.\u001b[39G126400000 lines.\u001b[39G126400000 lines.\u001b[39G126500000 lines.\u001b[39G126500000 lines.\u001b[39G126500000 lines.\u001b[39G126500000 lines.\u001b[39G126600000 lines.\u001b[39G126700000 lines.\u001b[39G126700000 lines.\u001b[39G126700000 lines.\u001b[39G126700000 lines.\u001b[39G126700000 lines.\u001b[39G126800000 lines.\u001b[39G126800000 lines.\u001b[39G126800000 lines.\u001b[39G126900000 lines.\u001b[39G127000000 lines.\u001b[39G127100000 lines.\u001b[39G127200000 lines.\u001b[39G127200000 lines.\u001b[39G127300000 lines.\u001b[39G127300000 lines.\u001b[39G127300000 lines.\u001b[39G127400000 lines.\u001b[39G127400000 lines.\u001b[39G127500000 lines.\u001b[39G127500000 lines.\u001b[39G127500000 lines.\u001b[39G127500000 lines.\u001b[39G127600000 lines.\u001b[39G127600000 lines.\u001b[39G127600000 lines.\u001b[39G127700000 lines.\u001b[39G127800000 lines.\u001b[39G127900000 lines.\u001b[39G127900000 lines.\u001b[39G128000000 lines.\u001b[39G128000000 lines.\u001b[39G128000000 lines.\u001b[39G128000000 lines.\u001b[39G128100000 lines.\u001b[39G128200000 lines.\u001b[39G128300000 lines.\u001b[39G128400000 lines.\u001b[39G128500000 lines.\u001b[39G128500000 lines.\u001b[39G128500000 lines.\u001b[39G128600000 lines.\u001b[39G128700000 lines.\u001b[39G128800000 lines.\u001b[39G128900000 lines.\u001b[39G128900000 lines.\u001b[39G129000000 lines.\u001b[39G129000000 lines.\u001b[39G129100000 lines.\u001b[39G129200000 lines.\u001b[39G129300000 lines.\u001b[39G129400000 lines.\u001b[39G129500000 lines.\u001b[39G129500000 lines.\u001b[39G129600000 lines.\u001b[39G129700000 lines.\u001b[39G129700000 lines.\u001b[39G129700000 lines.\u001b[39G129800000 lines.\u001b[39G129900000 lines.\u001b[39G130000000 lines.\u001b[39G130100000 lines.\u001b[39G130200000 lines.\u001b[39G130200000 lines.\u001b[39G130300000 lines.\u001b[39G130400000 lines.\u001b[39G130500000 lines.\u001b[39G130600000 lines.\u001b[39G130700000 lines.\u001b[39G130700000 lines.\u001b[39G130700000 lines.\u001b[39G130800000 lines.\u001b[39G130900000 lines.\u001b[39G131000000 lines.\u001b[39G131100000 lines.\u001b[39G131100000 lines.\u001b[39G131100000 lines.\u001b[39G131200000 lines.\u001b[39G131200000 lines.\u001b[39G131300000 lines.\u001b[39G131400000 lines.\u001b[39G131500000 lines.\u001b[39G131600000 lines.\u001b[39G131600000 lines.\u001b[39G131600000 lines.\u001b[39G131600000 lines.\u001b[39G131600000 lines.\u001b[39G131600000 lines.\u001b[39G131600000 lines.\u001b[39G131600000 lines.\u001b[39G131600000 lines.\u001b[39G131600000 lines.\u001b[39G131600000 lines.\u001b[39G131600000 lines.\u001b[39G131700000 lines.\u001b[39G131700000 lines.\u001b[39G131800000 lines.\u001b[39G131800000 lines.\u001b[39G131900000 lines.\u001b[39G131900000 lines.\u001b[39G132000000 lines.\u001b[39G132100000 lines.\u001b[39G132200000 lines.\u001b[39G132300000 lines.\u001b[39G132300000 lines.\u001b[39G132400000 lines.\u001b[39G132500000 lines.\u001b[39G132500000 lines.\u001b[39G132600000 lines.\u001b[39G132700000 lines.\u001b[39G132800000 lines.\u001b[39G132800000 lines.\u001b[39G132800000 lines.\u001b[39G132800000 lines.\u001b[39G132800000 lines.\u001b[39G132800000 lines.\u001b[39G132800000 lines.\u001b[39G132800000 lines.\u001b[39G132800000 lines.\u001b[39G132800000 lines.\u001b[39G132800000 lines.\u001b[39G132800000 lines.\u001b[39G132900000 lines.\u001b[39G132900000 lines.\u001b[39G133000000 lines.\u001b[39G133000000 lines.\u001b[39G133000000 lines.\u001b[39G133000000 lines.\u001b[39G133100000 lines.\u001b[39G133200000 lines.\u001b[39G133200000 lines.\u001b[39G133300000 lines.\u001b[39G133400000 lines.\u001b[39G133500000 lines.\u001b[39G133600000 lines.\u001b[39G133700000 lines.\u001b[39G133700000 lines.\u001b[39G133800000 lines.\u001b[39G133800000 lines.\u001b[39G133800000 lines.\u001b[39G133800000 lines.\u001b[39G133800000 lines.\u001b[39G133800000 lines.\u001b[39G133800000 lines.\u001b[39G133800000 lines.\u001b[39G133800000 lines.\u001b[39G133800000 lines.\u001b[39G133800000 lines.\u001b[39G133800000 lines.\u001b[39G133900000 lines.\u001b[39G134000000 lines.\u001b[39G134100000 lines.\u001b[39G134200000 lines.\u001b[39G134300000 lines.\u001b[39G134400000 lines.\u001b[39G134400000 lines.\u001b[39G134500000 lines.\u001b[39G134500000 lines.\u001b[39G134600000 lines.\u001b[39G134700000 lines.\u001b[39G134800000 lines.\u001b[39G134800000 lines.\u001b[39G134800000 lines.\u001b[39G134900000 lines.\u001b[39G134900000 lines.\u001b[39G135000000 lines.\u001b[39G135100000 lines.\u001b[39G135100000 lines.\u001b[39G135200000 lines.\u001b[39G135200000 lines.\u001b[39G135200000 lines.\u001b[39G135300000 lines.\u001b[39G135300000 lines.\u001b[39G135300000 lines.\u001b[39G135400000 lines.\u001b[39G135500000 lines.\u001b[39G135600000 lines.\u001b[39G135600000 lines.\u001b[39G135600000 lines.\u001b[39G135600000 lines.\u001b[39G135600000 lines.\u001b[39G135700000 lines.\u001b[39G135700000 lines.\u001b[39G135700000 lines.\u001b[39G135700000 lines.\u001b[39G135700000 lines.\u001b[39G135700000 lines.\u001b[39G135800000 lines.\u001b[39G135900000 lines.\u001b[39G136000000 lines.\u001b[39G136100000 lines.\u001b[39G136100000 lines.\u001b[39G136100000 lines.\u001b[39G136200000 lines.\u001b[39G136300000 lines.\u001b[39G136300000 lines.\u001b[39G136400000 lines.\u001b[39G136500000 lines.\u001b[39G136500000 lines.\u001b[39G136500000 lines.\u001b[39G136600000 lines.\u001b[39G136600000 lines.\u001b[39G136600000 lines.\u001b[39G136600000 lines.\u001b[39G136600000 lines.\u001b[39G136700000 lines.\u001b[39G136700000 lines.\u001b[39G136700000 lines.\u001b[39G136700000 lines.\u001b[39G136800000 lines.\u001b[39G136900000 lines.\u001b[39G137000000 lines.\u001b[39G137100000 lines.\u001b[39G137200000 lines.\u001b[39G137300000 lines.\u001b[39G137400000 lines.\u001b[39G137400000 lines.\u001b[39G137400000 lines.\u001b[39G137500000 lines.\u001b[39G137600000 lines.\u001b[39G137700000 lines.\u001b[39G137800000 lines.\u001b[39G137900000 lines.\u001b[39G138000000 lines.\u001b[39G138000000 lines.\u001b[39G138100000 lines.\u001b[39G138200000 lines.\u001b[39G138300000 lines.\u001b[39G138400000 lines.\u001b[39G138500000 lines.\u001b[39G138600000 lines.\u001b[39G138600000 lines.\u001b[39G138700000 lines.\u001b[39G138800000 lines.\u001b[39G138900000 lines.\u001b[39G139000000 lines.\u001b[39G139000000 lines.\u001b[39G139000000 lines.\u001b[39G139100000 lines.\u001b[39G139100000 lines.\u001b[39G139100000 lines.\u001b[39G139100000 lines.\u001b[39G139100000 lines.\u001b[39G139200000 lines.\u001b[39G139300000 lines.\u001b[39G139400000 lines.\u001b[39G139500000 lines.\u001b[39G139600000 lines.\u001b[39G139700000 lines.\u001b[39G139700000 lines.\u001b[39G139800000 lines.\u001b[39G139900000 lines.\u001b[39G140000000 lines.\u001b[39G140100000 lines.\u001b[39G140200000 lines.\u001b[39G140200000 lines.\u001b[39G140200000 lines.\u001b[39G140300000 lines.\u001b[39G140400000 lines.\u001b[39G140400000 lines.\u001b[39G140400000 lines.\u001b[39G140400000 lines.\u001b[39G140500000 lines.\u001b[39G140600000 lines.\u001b[39G140700000 lines.\u001b[39G140800000 lines.\u001b[39G140900000 lines.\u001b[39G141000000 lines.\u001b[39G141100000 lines.\u001b[39G141200000 lines.\u001b[39G141200000 lines.\u001b[39G141300000 lines.\u001b[39G141400000 lines.\u001b[39G141400000 lines.\u001b[39G141500000 lines.\u001b[39G141500000 lines.\u001b[39G141500000 lines.\u001b[39G141600000 lines.\u001b[39G141700000 lines.\u001b[39G141800000 lines.\u001b[39G141900000 lines.\u001b[39G141900000 lines.\u001b[39G142000000 lines.\u001b[39G142000000 lines.\u001b[39G142100000 lines.\u001b[39G142100000 lines.\u001b[39G142200000 lines.\u001b[39G142300000 lines.\u001b[39G142300000 lines.\u001b[39G142400000 lines.\u001b[39G142400000 lines.\u001b[39G142400000 lines.\u001b[39G142500000 lines.\u001b[39G142600000 lines.\u001b[39G142600000 lines.\u001b[39G142600000 lines.\u001b[39G142700000 lines.\u001b[39G142800000 lines.\u001b[39G142800000 lines.\u001b[39G142800000 lines.\u001b[39G142800000 lines.\u001b[39G142800000 lines.\u001b[39G142800000 lines.\u001b[39G142900000 lines.\u001b[39G142900000 lines.\u001b[39G143000000 lines.\u001b[39G143100000 lines.\u001b[39G143200000 lines.\u001b[39G143300000 lines.\u001b[39G143400000 lines.\u001b[39G143400000 lines.\u001b[39G143500000 lines.\u001b[39G143600000 lines.\u001b[39G143700000 lines.\u001b[39G143800000 lines.\u001b[39G143900000 lines.\u001b[39G143900000 lines.\u001b[39G143900000 lines.\u001b[39G144000000 lines.\u001b[39G144100000 lines.\u001b[39G144200000 lines.\u001b[39G144200000 lines.\u001b[39G144300000 lines.\u001b[39G144300000 lines.\u001b[39G144400000 lines.\u001b[39G144500000 lines.\u001b[39G144500000 lines.\u001b[39G144500000 lines.\u001b[39G144600000 lines.\u001b[39G144600000 lines.\u001b[39G144700000 lines.\u001b[39G144800000 lines.\u001b[39G144900000 lines.\u001b[39G144900000 lines.\u001b[39G145000000 lines.\u001b[39G145000000 lines.\u001b[39G145000000 lines.\u001b[39G145100000 lines.\u001b[39G145100000 lines.\u001b[39G145200000 lines.\u001b[39G145200000 lines.\u001b[39G145300000 lines.\u001b[39G145300000 lines.\u001b[39G145300000 lines.\u001b[39G145400000 lines.\u001b[39G145500000 lines.\u001b[39G145500000 lines.\u001b[39G145600000 lines.\u001b[39G145700000 lines.\u001b[39G145800000 lines.\u001b[39G145900000 lines.\u001b[39G146000000 lines.\u001b[39G146100000 lines.\u001b[39G146200000 lines.\u001b[39G146300000 lines.\u001b[39G146400000 lines.\u001b[39G146500000 lines.\u001b[39G146600000 lines.\u001b[39G146600000 lines.\u001b[39G146700000 lines.\u001b[39G146800000 lines.\u001b[39G146800000 lines.\u001b[39G146800000 lines.\u001b[39G146800000 lines.\u001b[39G146800000 lines.\u001b[39G146900000 lines.\u001b[39G147000000 lines.\u001b[39G147000000 lines.\u001b[39G147000000 lines.\u001b[39G147100000 lines.\u001b[39G147100000 lines.\u001b[39G147200000 lines.\u001b[39G147200000 lines.\u001b[39G147200000 lines.\u001b[39G147200000 lines.\u001b[39G147300000 lines.\u001b[39G147300000 lines.\u001b[39G147300000 lines.\u001b[39G147300000 lines.\u001b[39G147300000 lines.\u001b[39G147300000 lines.\u001b[39G147400000 lines.\u001b[39G147500000 lines.\u001b[39G147500000 lines.\u001b[39G147600000 lines.\u001b[39G147700000 lines.\u001b[39G147800000 lines.\u001b[39G147900000 lines.\u001b[39G148000000 lines.\u001b[39G148100000 lines.\u001b[39G148200000 lines.\u001b[39G148200000 lines.\u001b[39G148300000 lines.\u001b[39G148400000 lines.\u001b[39G148500000 lines.\u001b[39G148500000 lines.\u001b[39G148500000 lines.\u001b[39G148600000 lines.\u001b[39G148700000 lines.\u001b[39G148800000 lines.\u001b[39G148900000 lines.\u001b[39G149000000 lines.\u001b[39G149100000 lines.\u001b[39G149100000 lines.\u001b[39G149200000 lines.\u001b[39G149300000 lines.\u001b[39G149400000 lines.\u001b[39G149400000 lines.\u001b[39G149400000 lines.\u001b[39G149400000 lines.\u001b[39G149400000 lines.\u001b[39G149400000 lines.\u001b[39G149400000 lines.\u001b[39G149500000 lines.\u001b[39G149500000 lines.\u001b[39G149500000 lines.\u001b[39G149500000 lines.\u001b[39G149500000 lines.\u001b[39G149500000 lines.\u001b[39G149600000 lines.\u001b[39G149600000 lines.\u001b[39G149700000 lines.\u001b[39G149800000 lines.\u001b[39G149800000 lines.\u001b[39G149900000 lines.\u001b[39G149900000 lines.\u001b[39G149900000 lines.\u001b[39G149900000 lines.\u001b[39G149900000 lines.\u001b[39G150000000 lines.\u001b[39G150000000 lines.\u001b[39G150000000 lines.\u001b[39G150000000 lines.\u001b[39G150000000 lines.\u001b[39G150100000 lines.\u001b[39G150200000 lines.\u001b[39G150300000 lines.\u001b[39G150400000 lines.\u001b[39G150500000 lines.\u001b[39G150600000 lines.\u001b[39G150600000 lines.\u001b[39G150600000 lines.\u001b[39G150700000 lines.\u001b[39G150800000 lines.\u001b[39G150900000 lines.\u001b[39G151000000 lines.\u001b[39G151100000 lines.\u001b[39G151100000 lines.\u001b[39G151200000 lines.\u001b[39G151200000 lines.\u001b[39G151300000 lines.\u001b[39G151400000 lines.\u001b[39G151500000 lines.\u001b[39G151600000 lines.\u001b[39G151700000 lines.\u001b[39G151700000 lines.\u001b[39G151800000 lines.\u001b[39G151900000 lines.\u001b[39G152000000 lines.\u001b[39G152000000 lines.\u001b[39G152000000 lines.\u001b[39G152000000 lines.\u001b[39G152000000 lines.\u001b[39G152100000 lines.\u001b[39G152200000 lines.\u001b[39G152200000 lines.\u001b[39G152300000 lines.\u001b[39G152400000 lines.\u001b[39G152400000 lines.\u001b[39G152500000 lines.\u001b[39G152500000 lines.\u001b[39G152500000 lines.\u001b[39G152600000 lines.\u001b[39G152700000 lines.\u001b[39G152700000 lines.\u001b[39G152800000 lines.\u001b[39G152800000 lines.\u001b[39G152800000 lines.\u001b[39G152900000 lines.\u001b[39G153000000 lines.\u001b[39G153100000 lines.\u001b[39G153200000 lines.\u001b[39G153200000 lines.\u001b[39G153300000 lines.\u001b[39G153300000 lines.\u001b[39G153400000 lines.\u001b[39G153500000 lines.\u001b[39G153600000 lines.\u001b[39G153700000 lines.\u001b[39G153700000 lines.\u001b[39G153800000 lines.\u001b[39G153800000 lines.\u001b[39G153900000 lines.\u001b[39G154000000 lines.\u001b[39G154100000 lines.\u001b[39G154100000 lines.\u001b[39G154200000 lines.\u001b[39G154200000 lines.\u001b[39G154300000 lines.\u001b[39G154400000 lines.\u001b[39G154400000 lines.\u001b[39G154400000 lines.\u001b[39G154500000 lines.\u001b[39G154600000 lines.\u001b[39G154700000 lines.\u001b[39G154700000 lines.\u001b[39G154800000 lines.\u001b[39G154900000 lines.\u001b[39G155000000 lines.\u001b[39G155100000 lines.\u001b[39G155200000 lines.\u001b[39G155200000 lines.\u001b[39G155300000 lines.\u001b[39G155400000 lines.\u001b[39G155400000 lines.\u001b[39G155500000 lines.\u001b[39G155600000 lines.\u001b[39G155700000 lines.\u001b[39G155700000 lines.\u001b[39G155800000 lines.\u001b[39G155800000 lines.\u001b[39G155900000 lines.\u001b[39G156000000 lines.\u001b[39G156100000 lines.\u001b[39G156200000 lines.\u001b[39G156200000 lines.\u001b[39G156200000 lines.\u001b[39G156300000 lines.\u001b[39G156400000 lines.\u001b[39G156400000 lines.\u001b[39G156400000 lines.\u001b[39G156500000 lines.\u001b[39G156600000 lines.\u001b[39G156600000 lines.\u001b[39G156600000 lines.\u001b[39G156700000 lines.\u001b[39G156700000 lines.\u001b[39G156700000 lines.\u001b[39G156800000 lines.\u001b[39G156900000 lines.\u001b[39G156900000 lines.\u001b[39G157000000 lines.\u001b[39G157000000 lines.\u001b[39G157100000 lines.\u001b[39G157200000 lines.\u001b[39G157300000 lines.\u001b[39G157300000 lines.\u001b[39G157300000 lines.\u001b[39G157400000 lines.\u001b[39G157400000 lines.\u001b[39G157400000 lines.\u001b[39G157500000 lines.\u001b[39G157500000 lines.\u001b[39G157600000 lines.\u001b[39G157700000 lines.\u001b[39G157800000 lines.\u001b[39G157900000 lines.\u001b[39G158000000 lines.\u001b[39G158100000 lines.\u001b[39G158200000 lines.\u001b[39G158300000 lines.\u001b[39G158400000 lines.\u001b[39G158500000 lines.\u001b[39G158500000 lines.\u001b[39G158600000 lines.\u001b[39G158700000 lines.\u001b[39G158800000 lines.\u001b[39G158800000 lines.\u001b[39G158900000 lines.\u001b[39G159000000 lines.\u001b[39G159000000 lines.\u001b[39G159000000 lines.\u001b[39G159100000 lines.\u001b[39G159100000 lines.\u001b[39G159100000 lines.\u001b[39G159200000 lines.\u001b[39G159300000 lines.\u001b[39G159400000 lines.\u001b[39G159500000 lines.\u001b[39G159600000 lines.\u001b[39G159700000 lines.\u001b[39G159700000 lines.\u001b[39G159700000 lines.\u001b[39G159700000 lines.\u001b[39G159700000 lines.\u001b[39G159700000 lines.\u001b[39G159800000 lines.\u001b[39G159800000 lines.\u001b[39G159900000 lines.\u001b[39G160000000 lines.\u001b[39G160100000 lines.\u001b[39G160200000 lines.\u001b[39G160300000 lines.\u001b[39G160300000 lines.\u001b[39G160400000 lines.\u001b[39G160500000 lines.\u001b[39G160600000 lines.\u001b[39G160700000 lines.\u001b[39G160800000 lines.\u001b[39G160800000 lines.\u001b[39G160800000 lines.\u001b[39G160900000 lines.\u001b[39G161000000 lines.\u001b[39G161100000 lines.\u001b[39G161200000 lines.\u001b[39G161200000 lines.\u001b[39G161200000 lines.\u001b[39G161200000 lines.\u001b[39G161200000 lines.\u001b[39G161200000 lines.\u001b[39G161300000 lines.\u001b[39G161400000 lines.\u001b[39G161400000 lines.\u001b[39G161500000 lines.\u001b[39G161600000 lines.\u001b[39G161600000 lines.\u001b[39G161700000 lines.\u001b[39G161700000 lines.\u001b[39G161700000 lines.\u001b[39G161800000 lines.\u001b[39G161900000 lines.\u001b[39G162000000 lines.\u001b[39G162100000 lines.\u001b[39G162200000 lines.\u001b[39G162300000 lines.\u001b[39G162400000 lines.\u001b[39G162500000 lines.\u001b[39G162600000 lines.\u001b[39G162600000 lines.\u001b[39G162600000 lines.\u001b[39G162700000 lines.\u001b[39G162800000 lines.\u001b[39G162900000 lines.\u001b[39G163000000 lines.\u001b[39G163100000 lines.\u001b[39G163100000 lines.\u001b[39G163200000 lines.\u001b[39G163300000 lines.\u001b[39G163400000 lines.\u001b[39G163500000 lines.\u001b[39G163500000 lines.\u001b[39G163600000 lines.\u001b[39G163600000 lines.\u001b[39G163600000 lines.\u001b[39G163600000 lines.\u001b[39G163600000 lines.\u001b[39G163600000 lines.\u001b[39G163700000 lines.\u001b[39G163700000 lines.\u001b[39G163800000 lines.\u001b[39G163900000 lines.\u001b[39G164000000 lines.\u001b[39G164100000 lines.\u001b[39G164200000 lines.\u001b[39G164300000 lines.\u001b[39G164400000 lines.\u001b[39G164500000 lines.\u001b[39G164600000 lines.\u001b[39G164700000 lines.\u001b[39G164800000 lines.\u001b[39G164900000 lines.\u001b[39G165000000 lines.\u001b[39G165100000 lines.\u001b[39G165200000 lines.\u001b[39G165300000 lines.\u001b[39G165400000 lines.\u001b[39G165500000 lines.\u001b[39G165600000 lines.\u001b[39G165600000 lines.\u001b[39G165700000 lines.\u001b[39G165800000 lines.\u001b[39G165800000 lines.\u001b[39G165900000 lines.\u001b[39G166000000 lines.\u001b[39G166100000 lines.\u001b[39G166200000 lines.\u001b[39G166300000 lines.\u001b[39G166400000 lines.\u001b[39G166500000 lines.\u001b[39G166600000 lines.\u001b[39G166700000 lines.\u001b[39G166800000 lines.\u001b[39G166900000 lines.\u001b[39G166900000 lines.\u001b[39G167000000 lines.\u001b[39G167000000 lines.\u001b[39G167100000 lines.\u001b[39G167100000 lines.\u001b[39G167200000 lines.\u001b[39G167300000 lines.\u001b[39G167300000 lines.\u001b[39G167400000 lines.\u001b[39G167400000 lines.\u001b[39G167500000 lines.\u001b[39G167500000 lines.\u001b[39G167500000 lines.\u001b[39G167500000 lines.\u001b[39G167600000 lines.\u001b[39G167700000 lines.\u001b[39G167800000 lines.\u001b[39G167900000 lines.\u001b[39G167900000 lines.\u001b[39G167900000 lines.\u001b[39G167900000 lines.\u001b[39G167900000 lines.\u001b[39G168000000 lines.\u001b[39G168000000 lines.\u001b[39G168100000 lines.\u001b[39G168200000 lines.\u001b[39G168300000 lines.\u001b[39G168400000 lines.\u001b[39G168500000 lines.\u001b[39G168600000 lines.\u001b[39G168700000 lines.\u001b[39G168700000 lines.\u001b[39G168800000 lines.\u001b[39G168900000 lines.\u001b[39G169000000 lines.\u001b[39G169100000 lines.\u001b[39G169200000 lines.\u001b[39G169300000 lines.\u001b[39G169300000 lines.\u001b[39G169400000 lines.\u001b[39G169500000 lines.\u001b[39G169600000 lines.\u001b[39G169700000 lines.\u001b[39G169700000 lines.\u001b[39G169800000 lines.\u001b[39G169900000 lines.\u001b[39G170000000 lines.\u001b[39G170100000 lines.\u001b[39G170200000 lines.\u001b[39G170300000 lines.\u001b[39G170400000 lines.\u001b[39G170500000 lines.\u001b[39G170600000 lines.\u001b[39G170700000 lines.\u001b[39G170800000 lines.\u001b[39G170800000 lines.\u001b[39G170800000 lines.\u001b[39G170800000 lines.\u001b[39G170900000 lines.\u001b[39G171000000 lines.\u001b[39G171100000 lines.\u001b[39G171200000 lines.\u001b[39G171200000 lines.\u001b[39G171300000 lines.\u001b[39G171400000 lines.\u001b[39G171500000 lines.\u001b[39G171600000 lines.\u001b[39G171700000 lines.\u001b[39G171800000 lines.\u001b[39G171900000 lines.\u001b[39G172000000 lines.\u001b[39G172000000 lines.\u001b[39G172100000 lines.\u001b[39G172200000 lines.\u001b[39G172300000 lines.\u001b[39G172400000 lines.\u001b[39G172500000 lines.\u001b[39G172500000 lines.\u001b[39G172600000 lines.\u001b[39G172700000 lines.\u001b[39G172800000 lines.\u001b[39G172800000 lines.\u001b[39G172900000 lines.\u001b[39G173000000 lines.\u001b[39G173100000 lines.\u001b[39G173200000 lines.\u001b[39G173300000 lines.\u001b[39G173400000 lines.\u001b[39G173500000 lines.\u001b[39G173500000 lines.\u001b[39G173600000 lines.\u001b[39G173700000 lines.\u001b[39G173800000 lines.\u001b[39G173900000 lines.\u001b[39G174000000 lines.\u001b[39G174000000 lines.\u001b[39G174000000 lines.\u001b[39G174100000 lines.\u001b[39G174100000 lines.\u001b[39G174200000 lines.\u001b[39G174300000 lines.\u001b[39G174400000 lines.\u001b[39G174500000 lines.\u001b[39G174500000 lines.\u001b[39G174600000 lines.\u001b[39G174700000 lines.\u001b[39G174800000 lines.\u001b[39G174900000 lines.\u001b[39G175000000 lines.\u001b[39G175100000 lines.\u001b[39G175200000 lines.\u001b[39G175300000 lines.\u001b[39G175400000 lines.\u001b[39G175500000 lines.\u001b[39G175600000 lines.\u001b[39G175700000 lines.\u001b[39G175800000 lines.\u001b[39G175900000 lines.\u001b[39G176000000 lines.\u001b[39G176100000 lines.\u001b[39G176100000 lines.\u001b[39G176200000 lines.\u001b[39G176300000 lines.\u001b[39G176400000 lines.\u001b[39G176500000 lines.\u001b[39G176500000 lines.\u001b[39G176500000 lines.\u001b[39G176500000 lines.\u001b[39G176500000 lines.\u001b[39G176500000 lines.\u001b[39G176500000 lines.\u001b[39G176600000 lines.\u001b[39G176700000 lines.\u001b[39G176800000 lines.\u001b[39G176800000 lines.\u001b[39G176900000 lines.\u001b[39G177000000 lines.\u001b[39G177100000 lines.\u001b[39G177200000 lines.\u001b[39G177300000 lines.\u001b[39G177400000 lines.\u001b[39G177500000 lines.\u001b[39G177600000 lines.\u001b[39G177700000 lines.\u001b[39G177800000 lines.\u001b[39G177900000 lines.\u001b[39G178000000 lines.\u001b[39G178100000 lines.\u001b[39G178200000 lines.\u001b[39G178300000 lines.\u001b[39G178400000 lines.\u001b[39G178500000 lines.\u001b[39G178600000 lines.\u001b[39G178700000 lines.\u001b[39G178800000 lines.\u001b[39G178900000 lines.\u001b[39G178900000 lines.\u001b[39G178900000 lines.\u001b[39G179000000 lines.\u001b[39G179100000 lines.\u001b[39G179200000 lines.\u001b[39G179200000 lines.\u001b[39G179300000 lines.\u001b[39G179300000 lines.\u001b[39G179400000 lines.\u001b[39G179500000 lines.\u001b[39G179500000 lines.\u001b[39G179600000 lines.\u001b[39G179600000 lines.\u001b[39G179700000 lines.\u001b[39G179800000 lines.\u001b[39G179900000 lines.\u001b[39G180000000 lines.\u001b[39G180100000 lines.\u001b[39G180100000 lines.\u001b[39G180200000 lines.\u001b[39G180300000 lines.\u001b[39G180400000 lines.\u001b[39G180400000 lines.\u001b[39G180500000 lines.\u001b[39G180500000 lines.\u001b[39G180500000 lines.\u001b[39G180600000 lines.\u001b[39G180700000 lines.\u001b[39G180800000 lines.\u001b[39G180900000 lines.\u001b[39G181000000 lines.\u001b[39G181100000 lines.\u001b[39G181100000 lines.\u001b[39G181200000 lines.\u001b[39G181300000 lines.\u001b[39G181400000 lines.\u001b[39G181500000 lines.\u001b[39G181500000 lines.\u001b[39G181500000 lines.\u001b[39G181600000 lines.\u001b[39G181600000 lines.\u001b[39G181600000 lines.\u001b[39G181700000 lines.\u001b[39G181800000 lines.\u001b[39G181800000 lines.\u001b[39G181900000 lines.\u001b[39G181900000 lines.\u001b[39G182000000 lines.\u001b[39G182000000 lines.\u001b[39G182100000 lines.\u001b[39G182100000 lines.\u001b[39G182100000 lines.\u001b[39G182200000 lines.\u001b[39G182300000 lines.\u001b[39G182300000 lines.\u001b[39G182400000 lines.\u001b[39G182400000 lines.\u001b[39G182500000 lines.\u001b[39G182500000 lines.\u001b[39G182600000 lines.\u001b[39G182600000 lines.\u001b[39G182700000 lines.\u001b[39G182700000 lines.\u001b[39G182800000 lines.\u001b[39G182900000 lines.\u001b[39G183000000 lines.\u001b[39G183100000 lines.\u001b[39G183200000 lines.\u001b[39G183300000 lines.\u001b[39G183400000 lines.\u001b[39G183500000 lines.\u001b[39G183600000 lines.\u001b[39G183600000 lines.\u001b[39G183700000 lines.\u001b[39G183800000 lines.\u001b[39G183800000 lines.\u001b[39G183900000 lines.\u001b[39G184000000 lines.\u001b[39G184100000 lines.\u001b[39G184100000 lines.\u001b[39G184200000 lines.\u001b[39G184300000 lines.\u001b[39G184400000 lines.\u001b[39G184500000 lines.\u001b[39G184600000 lines.\u001b[39G184700000 lines.\u001b[39G184800000 lines.\u001b[39G184900000 lines.\u001b[39G185000000 lines.\u001b[39G185100000 lines.\u001b[39G185200000 lines.\u001b[39G185300000 lines.\u001b[39G185300000 lines.\u001b[39G185400000 lines.\u001b[39G185500000 lines.\u001b[39G185600000 lines.\u001b[39G185600000 lines.\u001b[39G185700000 lines.\u001b[39G185800000 lines.\u001b[39G185900000 lines.\u001b[39G186000000 lines.\u001b[39G186100000 lines.\u001b[39G186200000 lines.\u001b[39G186200000 lines.\u001b[39G186300000 lines.\u001b[39G186400000 lines.\u001b[39G186500000 lines.\u001b[39G186600000 lines.\u001b[39G186700000 lines.\u001b[39G186800000 lines.\u001b[39G186900000 lines.\u001b[39G187000000 lines.\u001b[39G187100000 lines.\u001b[39G187200000 lines.\u001b[39G187300000 lines.\u001b[39G187400000 lines.\u001b[39G187500000 lines.\u001b[39G187600000 lines.\u001b[0GMerging cooccurrence files: processed 187619248 lines.\n",
            "\n",
            "$ build/shuffle -memory 4.0 -verbose 2 < cooccurrence.bin > cooccurrence.shuf.bin\n",
            "Using random seed 1704499414\n",
            "SHUFFLING COOCCURRENCES\n",
            "array size: 255013683\n",
            "Shuffling by chunks: processed 0 lines.\u001b[22Gprocessed 187619248 lines.\n",
            "Wrote 1 temporary file(s).\n",
            "Merging temp files: processed 0 lines.\u001b[31G187619248 lines.\u001b[0GMerging temp files: processed 187619248 lines.\n",
            "\n",
            "$ build/glove -save-file vectors -threads 8 -input-file cooccurrence.shuf.bin -x-max 10 -iter 15 -vector-size 50 -binary 2 -vocab-file glove_input.txt -verbose 2\n",
            "TRAINING MODEL\n",
            "Read 187619248 lines.\n",
            "Initializing parameters...Using random seed 1704499573\n",
            "done.\n",
            "vector size: 50\n",
            "vocab size: 152974\n",
            "x_max: 10.000000\n",
            "alpha: 0.750000\n",
            "01/06/24 - 12:07.12AM, iter: 001, cost: 0.112844\n",
            "01/06/24 - 12:08.11AM, iter: 002, cost: 0.085199\n",
            "01/06/24 - 12:09.10AM, iter: 003, cost: 0.080741\n",
            "01/06/24 - 12:10.09AM, iter: 004, cost: 0.078486\n",
            "01/06/24 - 12:11.07AM, iter: 005, cost: 0.077025\n",
            "01/06/24 - 12:12.06AM, iter: 006, cost: 0.075972\n",
            "01/06/24 - 12:13.05AM, iter: 007, cost: 0.075170\n",
            "01/06/24 - 12:14.04AM, iter: 008, cost: 0.074525\n",
            "01/06/24 - 12:15.03AM, iter: 009, cost: 0.074000\n",
            "01/06/24 - 12:16.17AM, iter: 010, cost: 0.073556\n",
            "01/06/24 - 12:17.17AM, iter: 011, cost: 0.073170\n",
            "01/06/24 - 12:18.17AM, iter: 012, cost: 0.072840\n",
            "01/06/24 - 12:19.16AM, iter: 013, cost: 0.072547\n",
            "01/06/24 - 12:20.16AM, iter: 014, cost: 0.072290\n",
            "01/06/24 - 12:21.20AM, iter: 015, cost: 0.072059\n"
          ]
        }
      ]
    },
    {
      "cell_type": "markdown",
      "source": [
        "#Using the trained model"
      ],
      "metadata": {
        "id": "PmTzXxvBsNEF"
      }
    },
    {
      "cell_type": "code",
      "source": [
        "import numpy as np\n",
        "import plotly.express as px\n",
        "from sklearn.decomposition import PCA\n",
        "from gensim.test.utils import datapath, get_tmpfile\n",
        "from gensim.models import KeyedVectors\n",
        "from gensim.scripts.glove2word2vec import glove2word2vec"
      ],
      "metadata": {
        "id": "loWf6o9SsPz7"
      },
      "execution_count": null,
      "outputs": []
    },
    {
      "cell_type": "code",
      "source": [
        "glove_file = datapath('/content/drive/MyDrive/MajorProject/vec.txt')\n",
        "word2vec_glove_file = get_tmpfile(\"glove.jan.6B.100d.word2vec.txt\")\n",
        "glove2word2vec(glove_file, word2vec_glove_file)"
      ],
      "metadata": {
        "colab": {
          "base_uri": "https://localhost:8080/"
        },
        "id": "ZyAlJk2PsP2h",
        "outputId": "195e880a-0c73-42a9-af08-dedd0e5af64b"
      },
      "execution_count": null,
      "outputs": [
        {
          "output_type": "stream",
          "name": "stderr",
          "text": [
            "<ipython-input-10-58d805d60dba>:3: DeprecationWarning: Call to deprecated `glove2word2vec` (KeyedVectors.load_word2vec_format(.., binary=False, no_header=True) loads GLoVE text vectors.).\n",
            "  glove2word2vec(glove_file, word2vec_glove_file)\n"
          ]
        },
        {
          "output_type": "execute_result",
          "data": {
            "text/plain": [
              "(152975, 50)"
            ]
          },
          "metadata": {},
          "execution_count": 10
        }
      ]
    },
    {
      "cell_type": "code",
      "source": [
        "model = KeyedVectors.load_word2vec_format(word2vec_glove_file)\n",
        "# Save the trained model\n",
        "# model.save(\"/content/drive/MyDrive/MajorProject/glove_model_2.model\")"
      ],
      "metadata": {
        "id": "lmYUz71fsP5i"
      },
      "execution_count": null,
      "outputs": []
    },
    {
      "cell_type": "code",
      "source": [
        "model.most_similar('crt', topn = 11)"
      ],
      "metadata": {
        "colab": {
          "base_uri": "https://localhost:8080/"
        },
        "id": "1DpuODHFsbUd",
        "outputId": "b6da012f-f1d1-4f6c-b8ba-15f829d815d7"
      },
      "execution_count": null,
      "outputs": [
        {
          "output_type": "execute_result",
          "data": {
            "text/plain": [
              "[('quadripolar', 0.6768030524253845),\n",
              " ('resynchronization', 0.6649227142333984),\n",
              " ('bt', 0.6445680260658264),\n",
              " ('cct', 0.6136082410812378),\n",
              " ('rt', 0.6131916046142578),\n",
              " ('cst', 0.6031826734542847),\n",
              " ('研究', 0.6002673506736755),\n",
              " ('durability', 0.598570704460144),\n",
              " ('remediation', 0.5853699445724487),\n",
              " ('dbt', 0.574787974357605),\n",
              " ('manualized', 0.5710818767547607)]"
            ]
          },
          "metadata": {},
          "execution_count": 18
        }
      ]
    },
    {
      "cell_type": "markdown",
      "source": [
        "#Visualizing the similarities"
      ],
      "metadata": {
        "id": "mA7WEqeq2o8k"
      }
    },
    {
      "cell_type": "code",
      "source": [
        "import matplotlib.pyplot as plt\n",
        "from sklearn.manifold import TSNE\n",
        "import numpy as np\n",
        "import plotly.graph_objects as go"
      ],
      "metadata": {
        "id": "te7C7pa4sbZ4"
      },
      "execution_count": null,
      "outputs": []
    },
    {
      "cell_type": "markdown",
      "source": [
        "## Network graph"
      ],
      "metadata": {
        "id": "FlDm33rx2tVE"
      }
    },
    {
      "cell_type": "code",
      "source": [
        "def visualize_similar_words_network(model, input_word, top_n=10, perplexity=15):\n",
        "    # Find most similar words with scores\n",
        "    similar_words_with_scores = model.most_similar(input_word, topn=top_n)\n",
        "    similar_words = [word for word, _ in similar_words_with_scores]\n",
        "    print(\"************************************\")\n",
        "    print(similar_words)\n",
        "\n",
        "    # Add input word to the list for visualization\n",
        "    words = [input_word] + similar_words\n",
        "\n",
        "    # Extract vectors for the words\n",
        "    word_vectors = np.array([model[word] for word in words])\n",
        "\n",
        "    # Adjust perplexity if necessary\n",
        "    if len(words) < perplexity:\n",
        "        perplexity = len(words) - 2  # Perplexity must be less than the number of samples\n",
        "\n",
        "    print(\"************************************\")\n",
        "    print(perplexity)\n",
        "\n",
        "    # Reduce dimensions\n",
        "    tsne = TSNE(n_components=2, random_state=0, perplexity=perplexity)\n",
        "    word_vectors_2d = tsne.fit_transform(word_vectors)\n",
        "\n",
        "    # Create edges and hover text for cosine similarity\n",
        "    edge_traces = []\n",
        "    for word, score in similar_words_with_scores:\n",
        "        word_x, word_y = word_vectors_2d[words.index(word)]\n",
        "        input_word_x, input_word_y = word_vectors_2d[0]  # Input word coordinates\n",
        "\n",
        "        # Edge line\n",
        "        edge_trace = go.Scatter(\n",
        "            x=[input_word_x, word_x],\n",
        "            y=[input_word_y, word_y],\n",
        "            line=dict(width=0.5, color='#888'),\n",
        "            hoverinfo='none',\n",
        "            mode='lines')\n",
        "\n",
        "        # Invisible marker in the middle of the edge for hover text\n",
        "        middle_x = (input_word_x + word_x) / 2\n",
        "        middle_y = (input_word_y + word_y) / 2\n",
        "        marker_trace = go.Scatter(\n",
        "            x=[middle_x],\n",
        "            y=[middle_y],\n",
        "            hoverinfo='text',\n",
        "            text=[f\"{input_word} - {word}: {score:.2f}\"],\n",
        "            mode='markers',\n",
        "            marker=dict(size=0.1, opacity=0))\n",
        "\n",
        "        edge_traces.append(edge_trace)\n",
        "        edge_traces.append(marker_trace)\n",
        "\n",
        "    # Create scatter trace for nodes\n",
        "    node_trace = go.Scatter(\n",
        "        x=word_vectors_2d[:, 0],\n",
        "        y=word_vectors_2d[:, 1],\n",
        "        text=words,\n",
        "        mode='markers+text',\n",
        "        hoverinfo='text',\n",
        "        marker=dict(\n",
        "            showscale=False,\n",
        "            color='#1273de',\n",
        "            size=10,\n",
        "            line_width=2))\n",
        "\n",
        "    print(\"************************************\")\n",
        "    print('showing the plot')\n",
        "\n",
        "    # Create figure and add traces\n",
        "    fig = go.Figure(layout=go.Layout(\n",
        "                        showlegend=False,\n",
        "                        hovermode='closest',\n",
        "                        margin=dict(b=20, l=5, r=5, t=40),\n",
        "                        xaxis=dict(showgrid=False, zeroline=False, showticklabels=False),\n",
        "                        yaxis=dict(showgrid=False, zeroline=False, showticklabels=False))\n",
        "                    )\n",
        "\n",
        "    for trace in edge_traces:\n",
        "        fig.add_trace(trace)\n",
        "    fig.add_trace(node_trace)\n",
        "\n",
        "    fig.show()"
      ],
      "metadata": {
        "id": "RdfQUTVB1G_6"
      },
      "execution_count": null,
      "outputs": []
    },
    {
      "cell_type": "code",
      "source": [
        "import numpy as np\n",
        "import plotly.graph_objects as go\n",
        "from sklearn.manifold import TSNE\n",
        "\n",
        "def visualize_similar_words_network(model, input_word, top_n=10, perplexity=15):\n",
        "    # Find most similar words with scores\n",
        "    similar_words_with_scores = model.most_similar(input_word, topn=top_n)\n",
        "    similar_words = [word for word, _ in similar_words_with_scores]\n",
        "\n",
        "    # Add input word to the list for visualization\n",
        "    words = [input_word] + similar_words\n",
        "\n",
        "    # Extract vectors for the words\n",
        "    word_vectors = np.array([model[word] for word in words])\n",
        "\n",
        "    # Adjust perplexity if necessary\n",
        "    if len(words) < perplexity:\n",
        "        perplexity = len(words) - 2  # Perplexity must be less than the number of samples\n",
        "\n",
        "    # Reduce dimensions\n",
        "    tsne = TSNE(n_components=2, random_state=0, perplexity=perplexity)\n",
        "    word_vectors_2d = tsne.fit_transform(word_vectors)\n",
        "\n",
        "    # Create edges and hover text for cosine similarity\n",
        "    edge_traces = []\n",
        "    for word, score in similar_words_with_scores:\n",
        "        word_x, word_y = word_vectors_2d[words.index(word)]\n",
        "        input_word_x, input_word_y = word_vectors_2d[0]  # Input word coordinates\n",
        "\n",
        "        # Edge line\n",
        "        edge_trace = go.Scatter(\n",
        "            x=[input_word_x, word_x],\n",
        "            y=[input_word_y, word_y],\n",
        "            line=dict(width=0.5, color='#888'),\n",
        "            hoverinfo='none',\n",
        "            mode='lines')\n",
        "\n",
        "        # Invisible marker in the middle of the edge for hover text\n",
        "        middle_x = (input_word_x + word_x) / 2\n",
        "        middle_y = (input_word_y + word_y) / 2\n",
        "        marker_trace = go.Scatter(\n",
        "            x=[middle_x],\n",
        "            y=[middle_y],\n",
        "            hoverinfo='text',\n",
        "            text=[f\"{input_word} - {word}: {score:.2f}\"],\n",
        "            mode='markers',\n",
        "            marker=dict(size=0.1, opacity=0))\n",
        "\n",
        "        edge_traces.append(edge_trace)\n",
        "        edge_traces.append(marker_trace)\n",
        "\n",
        "    # Create scatter trace for nodes\n",
        "    node_trace = go.Scatter(\n",
        "        x=word_vectors_2d[:, 0],\n",
        "        y=word_vectors_2d[:, 1],\n",
        "        text=words,\n",
        "        mode='markers+text',\n",
        "        hoverinfo='text',\n",
        "        marker=dict(\n",
        "            showscale=False,\n",
        "            color='#1273de',\n",
        "            size=10,\n",
        "            line_width=2))\n",
        "\n",
        "    # Calculate tick values for x and y axes\n",
        "    x_min, x_max = min(word_vectors_2d[:, 0]), max(word_vectors_2d[:, 0])\n",
        "    y_min, y_max = min(word_vectors_2d[:, 1]), max(word_vectors_2d[:, 1])\n",
        "    x_ticks = np.arange(np.floor(x_min/20)*20, np.ceil(x_max/20)*20 + 20, 20)\n",
        "    y_ticks = np.arange(np.floor(y_min/20)*20, np.ceil(y_max/20)*20 + 20, 20)\n",
        "\n",
        "    # Create figure and add traces\n",
        "    fig = go.Figure()\n",
        "\n",
        "    for trace in edge_traces:\n",
        "        fig.add_trace(trace)\n",
        "    fig.add_trace(node_trace)\n",
        "\n",
        "    # Layout settings with evenly split tick values\n",
        "    fig.update_layout(\n",
        "        showlegend=False,\n",
        "        hovermode='closest',\n",
        "        margin=dict(b=20, l=5, r=5, t=40),\n",
        "        xaxis=dict(showgrid=True, zeroline=False, showticklabels=True,\n",
        "                   tickvals=x_ticks,\n",
        "                   ticktext=x_ticks),\n",
        "        yaxis=dict(showgrid=True, zeroline=False, showticklabels=True,\n",
        "                   tickvals=y_ticks,\n",
        "                   ticktext=y_ticks),\n",
        "        autosize=False,\n",
        "        width=800,\n",
        "        height=600\n",
        "    )\n",
        "\n",
        "    fig.show()\n",
        "\n",
        "# Example usage:\n",
        "# visualize_similar_words_network(your_model, 'example_word')\n"
      ],
      "metadata": {
        "id": "azQGtupeTUag"
      },
      "execution_count": null,
      "outputs": []
    },
    {
      "cell_type": "markdown",
      "source": [
        "## Scatter plot"
      ],
      "metadata": {
        "id": "Y31HfmD-2xmo"
      }
    },
    {
      "cell_type": "code",
      "source": [
        "\n",
        "def visualize_similar_words_plotly(model, input_word, top_n=10, perplexity=15):\n",
        "    # Find most similar words\n",
        "    similar_words = [word for word, _ in model.most_similar(input_word, topn=top_n)]\n",
        "    print(\"************************************\")\n",
        "    print(similar_words)\n",
        "\n",
        "    # Add input word to the list for visualization\n",
        "    words = [input_word] + similar_words\n",
        "\n",
        "    # Extract vectors for the words\n",
        "    word_vectors = np.array([model[word] for word in words])\n",
        "\n",
        "    # Adjust perplexity if necessary\n",
        "    if len(words) < perplexity:\n",
        "        perplexity = len(words) - 2  # Perplexity must be less than the number of samples\n",
        "\n",
        "    print(\"************************************\")\n",
        "    print(perplexity)\n",
        "\n",
        "    # Reduce dimensions\n",
        "    tsne = TSNE(n_components=2, random_state=0, perplexity=perplexity)\n",
        "    word_vectors_2d = tsne.fit_transform(word_vectors)\n",
        "\n",
        "    # Create a DataFrame for Plotly\n",
        "    df = pd.DataFrame(word_vectors_2d, columns=['x', 'y'])\n",
        "    df['word'] = words\n",
        "\n",
        "    print(\"************************************\")\n",
        "    print('showing the plot')\n",
        "\n",
        "    # Plotting using Plotly\n",
        "    fig = px.scatter(df, x='x', y='y', text='word', title='2D visualization of word embeddings')\n",
        "    fig.update_traces(textposition='top center')\n",
        "    fig.update_layout(showlegend=False)\n",
        "    fig.show()"
      ],
      "metadata": {
        "id": "L40vGkIS0Jh0"
      },
      "execution_count": null,
      "outputs": []
    },
    {
      "cell_type": "markdown",
      "source": [
        "## visualization"
      ],
      "metadata": {
        "id": "o3zXBWBZ23KJ"
      }
    },
    {
      "cell_type": "code",
      "source": [
        "input_word = 'fluphenazine'"
      ],
      "metadata": {
        "id": "j87FSGTXsbe3"
      },
      "execution_count": null,
      "outputs": []
    },
    {
      "cell_type": "code",
      "source": [
        "visualize_similar_words_network(model, input_word)"
      ],
      "metadata": {
        "colab": {
          "base_uri": "https://localhost:8080/",
          "height": 637
        },
        "id": "pG00XKXOsbhK",
        "outputId": "ed1c3d25-5a60-4a5a-b151-ff83d1f8a9d5"
      },
      "execution_count": null,
      "outputs": [
        {
          "output_type": "display_data",
          "data": {
            "text/html": [
              "<html>\n",
              "<head><meta charset=\"utf-8\" /></head>\n",
              "<body>\n",
              "    <div>            <script src=\"https://cdnjs.cloudflare.com/ajax/libs/mathjax/2.7.5/MathJax.js?config=TeX-AMS-MML_SVG\"></script><script type=\"text/javascript\">if (window.MathJax && window.MathJax.Hub && window.MathJax.Hub.Config) {window.MathJax.Hub.Config({SVG: {font: \"STIX-Web\"}});}</script>                <script type=\"text/javascript\">window.PlotlyConfig = {MathJaxConfig: 'local'};</script>\n",
              "        <script charset=\"utf-8\" src=\"https://cdn.plot.ly/plotly-2.24.1.min.js\"></script>                <div id=\"253c403e-836e-4a38-a681-e1edaa0f5fb1\" class=\"plotly-graph-div\" style=\"height:600px; width:800px;\"></div>            <script type=\"text/javascript\">                                    window.PLOTLYENV=window.PLOTLYENV || {};                                    if (document.getElementById(\"253c403e-836e-4a38-a681-e1edaa0f5fb1\")) {                    Plotly.newPlot(                        \"253c403e-836e-4a38-a681-e1edaa0f5fb1\",                        [{\"hoverinfo\":\"none\",\"line\":{\"color\":\"#888\",\"width\":0.5},\"mode\":\"lines\",\"x\":[-24.680410385131836,7.532723903656006],\"y\":[-16.670879364013672,0.5724778175354004],\"type\":\"scatter\"},{\"hoverinfo\":\"text\",\"marker\":{\"opacity\":0,\"size\":0.1},\"mode\":\"markers\",\"text\":[\"fluphenazine - perphenazine: 0.81\"],\"x\":[-8.573843002319336],\"y\":[-8.049201011657715],\"type\":\"scatter\"},{\"hoverinfo\":\"none\",\"line\":{\"color\":\"#888\",\"width\":0.5},\"mode\":\"lines\",\"x\":[-24.680410385131836,-35.01521301269531],\"y\":[-16.670879364013672,23.962430953979492],\"type\":\"scatter\"},{\"hoverinfo\":\"text\",\"marker\":{\"opacity\":0,\"size\":0.1},\"mode\":\"markers\",\"text\":[\"fluphenazine - decanoate: 0.79\"],\"x\":[-29.84781265258789],\"y\":[3.64577579498291],\"type\":\"scatter\"},{\"hoverinfo\":\"none\",\"line\":{\"color\":\"#888\",\"width\":0.5},\"mode\":\"lines\",\"x\":[-24.680410385131836,-36.675140380859375],\"y\":[-16.670879364013672,-59.556182861328125],\"type\":\"scatter\"},{\"hoverinfo\":\"text\",\"marker\":{\"opacity\":0,\"size\":0.1},\"mode\":\"markers\",\"text\":[\"fluphenazine - prochlorperazine: 0.73\"],\"x\":[-30.677776336669922],\"y\":[-38.11353302001953],\"type\":\"scatter\"},{\"hoverinfo\":\"none\",\"line\":{\"color\":\"#888\",\"width\":0.5},\"mode\":\"lines\",\"x\":[-24.680410385131836,50.35063552856445],\"y\":[-16.670879364013672,-22.63794708251953],\"type\":\"scatter\"},{\"hoverinfo\":\"text\",\"marker\":{\"opacity\":0,\"size\":0.1},\"mode\":\"markers\",\"text\":[\"fluphenazine - thioridazine: 0.72\"],\"x\":[12.835112571716309],\"y\":[-19.6544132232666],\"type\":\"scatter\"},{\"hoverinfo\":\"none\",\"line\":{\"color\":\"#888\",\"width\":0.5},\"mode\":\"lines\",\"x\":[-24.680410385131836,14.073263168334961],\"y\":[-16.670879364013672,-38.85785675048828],\"type\":\"scatter\"},{\"hoverinfo\":\"text\",\"marker\":{\"opacity\":0,\"size\":0.1},\"mode\":\"markers\",\"text\":[\"fluphenazine - chlorpromazine: 0.71\"],\"x\":[-5.3035736083984375],\"y\":[-27.764368057250977],\"type\":\"scatter\"},{\"hoverinfo\":\"none\",\"line\":{\"color\":\"#888\",\"width\":0.5},\"mode\":\"lines\",\"x\":[-24.680410385131836,7.554718017578125],\"y\":[-16.670879364013672,43.17026901245117],\"type\":\"scatter\"},{\"hoverinfo\":\"text\",\"marker\":{\"opacity\":0,\"size\":0.1},\"mode\":\"markers\",\"text\":[\"fluphenazine - zotepine: 0.71\"],\"x\":[-8.562846183776855],\"y\":[13.24969482421875],\"type\":\"scatter\"},{\"hoverinfo\":\"none\",\"line\":{\"color\":\"#888\",\"width\":0.5},\"mode\":\"lines\",\"x\":[-24.680410385131836,-25.18915367126465],\"y\":[-16.670879364013672,63.46900177001953],\"type\":\"scatter\"},{\"hoverinfo\":\"text\",\"marker\":{\"opacity\":0,\"size\":0.1},\"mode\":\"markers\",\"text\":[\"fluphenazine - zuclopenthixol: 0.67\"],\"x\":[-24.934782028198242],\"y\":[23.39906120300293],\"type\":\"scatter\"},{\"hoverinfo\":\"none\",\"line\":{\"color\":\"#888\",\"width\":0.5},\"mode\":\"lines\",\"x\":[-24.680410385131836,43.055763244628906],\"y\":[-16.670879364013672,28.4057674407959],\"type\":\"scatter\"},{\"hoverinfo\":\"text\",\"marker\":{\"opacity\":0,\"size\":0.1},\"mode\":\"markers\",\"text\":[\"fluphenazine - amisulpride: 0.65\"],\"x\":[9.187676429748535],\"y\":[5.867444038391113],\"type\":\"scatter\"},{\"hoverinfo\":\"none\",\"line\":{\"color\":\"#888\",\"width\":0.5},\"mode\":\"lines\",\"x\":[-24.680410385131836,-73.50039672851562],\"y\":[-16.670879364013672,-8.95467472076416],\"type\":\"scatter\"},{\"hoverinfo\":\"text\",\"marker\":{\"opacity\":0,\"size\":0.1},\"mode\":\"markers\",\"text\":[\"fluphenazine - paliperidone: 0.65\"],\"x\":[-49.09040451049805],\"y\":[-12.812776565551758],\"type\":\"scatter\"},{\"hoverinfo\":\"none\",\"line\":{\"color\":\"#888\",\"width\":0.5},\"mode\":\"lines\",\"x\":[-24.680410385131836,-66.1502914428711],\"y\":[-16.670879364013672,50.131004333496094],\"type\":\"scatter\"},{\"hoverinfo\":\"text\",\"marker\":{\"opacity\":0,\"size\":0.1},\"mode\":\"markers\",\"text\":[\"fluphenazine - flupenthixol: 0.64\"],\"x\":[-45.41535186767578],\"y\":[16.73006248474121],\"type\":\"scatter\"},{\"hoverinfo\":\"text\",\"marker\":{\"color\":\"#1273de\",\"line\":{\"width\":2},\"showscale\":false,\"size\":10},\"mode\":\"markers+text\",\"text\":[\"fluphenazine\",\"perphenazine\",\"decanoate\",\"prochlorperazine\",\"thioridazine\",\"chlorpromazine\",\"zotepine\",\"zuclopenthixol\",\"amisulpride\",\"paliperidone\",\"flupenthixol\"],\"x\":[-24.680410385131836,7.532723903656006,-35.01521301269531,-36.675140380859375,50.35063552856445,14.073263168334961,7.554718017578125,-25.18915367126465,43.055763244628906,-73.50039672851562,-66.1502914428711],\"y\":[-16.670879364013672,0.5724778175354004,23.962430953979492,-59.556182861328125,-22.63794708251953,-38.85785675048828,43.17026901245117,63.46900177001953,28.4057674407959,-8.95467472076416,50.131004333496094],\"type\":\"scatter\"}],                        {\"template\":{\"data\":{\"histogram2dcontour\":[{\"type\":\"histogram2dcontour\",\"colorbar\":{\"outlinewidth\":0,\"ticks\":\"\"},\"colorscale\":[[0.0,\"#0d0887\"],[0.1111111111111111,\"#46039f\"],[0.2222222222222222,\"#7201a8\"],[0.3333333333333333,\"#9c179e\"],[0.4444444444444444,\"#bd3786\"],[0.5555555555555556,\"#d8576b\"],[0.6666666666666666,\"#ed7953\"],[0.7777777777777778,\"#fb9f3a\"],[0.8888888888888888,\"#fdca26\"],[1.0,\"#f0f921\"]]}],\"choropleth\":[{\"type\":\"choropleth\",\"colorbar\":{\"outlinewidth\":0,\"ticks\":\"\"}}],\"histogram2d\":[{\"type\":\"histogram2d\",\"colorbar\":{\"outlinewidth\":0,\"ticks\":\"\"},\"colorscale\":[[0.0,\"#0d0887\"],[0.1111111111111111,\"#46039f\"],[0.2222222222222222,\"#7201a8\"],[0.3333333333333333,\"#9c179e\"],[0.4444444444444444,\"#bd3786\"],[0.5555555555555556,\"#d8576b\"],[0.6666666666666666,\"#ed7953\"],[0.7777777777777778,\"#fb9f3a\"],[0.8888888888888888,\"#fdca26\"],[1.0,\"#f0f921\"]]}],\"heatmap\":[{\"type\":\"heatmap\",\"colorbar\":{\"outlinewidth\":0,\"ticks\":\"\"},\"colorscale\":[[0.0,\"#0d0887\"],[0.1111111111111111,\"#46039f\"],[0.2222222222222222,\"#7201a8\"],[0.3333333333333333,\"#9c179e\"],[0.4444444444444444,\"#bd3786\"],[0.5555555555555556,\"#d8576b\"],[0.6666666666666666,\"#ed7953\"],[0.7777777777777778,\"#fb9f3a\"],[0.8888888888888888,\"#fdca26\"],[1.0,\"#f0f921\"]]}],\"heatmapgl\":[{\"type\":\"heatmapgl\",\"colorbar\":{\"outlinewidth\":0,\"ticks\":\"\"},\"colorscale\":[[0.0,\"#0d0887\"],[0.1111111111111111,\"#46039f\"],[0.2222222222222222,\"#7201a8\"],[0.3333333333333333,\"#9c179e\"],[0.4444444444444444,\"#bd3786\"],[0.5555555555555556,\"#d8576b\"],[0.6666666666666666,\"#ed7953\"],[0.7777777777777778,\"#fb9f3a\"],[0.8888888888888888,\"#fdca26\"],[1.0,\"#f0f921\"]]}],\"contourcarpet\":[{\"type\":\"contourcarpet\",\"colorbar\":{\"outlinewidth\":0,\"ticks\":\"\"}}],\"contour\":[{\"type\":\"contour\",\"colorbar\":{\"outlinewidth\":0,\"ticks\":\"\"},\"colorscale\":[[0.0,\"#0d0887\"],[0.1111111111111111,\"#46039f\"],[0.2222222222222222,\"#7201a8\"],[0.3333333333333333,\"#9c179e\"],[0.4444444444444444,\"#bd3786\"],[0.5555555555555556,\"#d8576b\"],[0.6666666666666666,\"#ed7953\"],[0.7777777777777778,\"#fb9f3a\"],[0.8888888888888888,\"#fdca26\"],[1.0,\"#f0f921\"]]}],\"surface\":[{\"type\":\"surface\",\"colorbar\":{\"outlinewidth\":0,\"ticks\":\"\"},\"colorscale\":[[0.0,\"#0d0887\"],[0.1111111111111111,\"#46039f\"],[0.2222222222222222,\"#7201a8\"],[0.3333333333333333,\"#9c179e\"],[0.4444444444444444,\"#bd3786\"],[0.5555555555555556,\"#d8576b\"],[0.6666666666666666,\"#ed7953\"],[0.7777777777777778,\"#fb9f3a\"],[0.8888888888888888,\"#fdca26\"],[1.0,\"#f0f921\"]]}],\"mesh3d\":[{\"type\":\"mesh3d\",\"colorbar\":{\"outlinewidth\":0,\"ticks\":\"\"}}],\"scatter\":[{\"fillpattern\":{\"fillmode\":\"overlay\",\"size\":10,\"solidity\":0.2},\"type\":\"scatter\"}],\"parcoords\":[{\"type\":\"parcoords\",\"line\":{\"colorbar\":{\"outlinewidth\":0,\"ticks\":\"\"}}}],\"scatterpolargl\":[{\"type\":\"scatterpolargl\",\"marker\":{\"colorbar\":{\"outlinewidth\":0,\"ticks\":\"\"}}}],\"bar\":[{\"error_x\":{\"color\":\"#2a3f5f\"},\"error_y\":{\"color\":\"#2a3f5f\"},\"marker\":{\"line\":{\"color\":\"#E5ECF6\",\"width\":0.5},\"pattern\":{\"fillmode\":\"overlay\",\"size\":10,\"solidity\":0.2}},\"type\":\"bar\"}],\"scattergeo\":[{\"type\":\"scattergeo\",\"marker\":{\"colorbar\":{\"outlinewidth\":0,\"ticks\":\"\"}}}],\"scatterpolar\":[{\"type\":\"scatterpolar\",\"marker\":{\"colorbar\":{\"outlinewidth\":0,\"ticks\":\"\"}}}],\"histogram\":[{\"marker\":{\"pattern\":{\"fillmode\":\"overlay\",\"size\":10,\"solidity\":0.2}},\"type\":\"histogram\"}],\"scattergl\":[{\"type\":\"scattergl\",\"marker\":{\"colorbar\":{\"outlinewidth\":0,\"ticks\":\"\"}}}],\"scatter3d\":[{\"type\":\"scatter3d\",\"line\":{\"colorbar\":{\"outlinewidth\":0,\"ticks\":\"\"}},\"marker\":{\"colorbar\":{\"outlinewidth\":0,\"ticks\":\"\"}}}],\"scattermapbox\":[{\"type\":\"scattermapbox\",\"marker\":{\"colorbar\":{\"outlinewidth\":0,\"ticks\":\"\"}}}],\"scatterternary\":[{\"type\":\"scatterternary\",\"marker\":{\"colorbar\":{\"outlinewidth\":0,\"ticks\":\"\"}}}],\"scattercarpet\":[{\"type\":\"scattercarpet\",\"marker\":{\"colorbar\":{\"outlinewidth\":0,\"ticks\":\"\"}}}],\"carpet\":[{\"aaxis\":{\"endlinecolor\":\"#2a3f5f\",\"gridcolor\":\"white\",\"linecolor\":\"white\",\"minorgridcolor\":\"white\",\"startlinecolor\":\"#2a3f5f\"},\"baxis\":{\"endlinecolor\":\"#2a3f5f\",\"gridcolor\":\"white\",\"linecolor\":\"white\",\"minorgridcolor\":\"white\",\"startlinecolor\":\"#2a3f5f\"},\"type\":\"carpet\"}],\"table\":[{\"cells\":{\"fill\":{\"color\":\"#EBF0F8\"},\"line\":{\"color\":\"white\"}},\"header\":{\"fill\":{\"color\":\"#C8D4E3\"},\"line\":{\"color\":\"white\"}},\"type\":\"table\"}],\"barpolar\":[{\"marker\":{\"line\":{\"color\":\"#E5ECF6\",\"width\":0.5},\"pattern\":{\"fillmode\":\"overlay\",\"size\":10,\"solidity\":0.2}},\"type\":\"barpolar\"}],\"pie\":[{\"automargin\":true,\"type\":\"pie\"}]},\"layout\":{\"autotypenumbers\":\"strict\",\"colorway\":[\"#636efa\",\"#EF553B\",\"#00cc96\",\"#ab63fa\",\"#FFA15A\",\"#19d3f3\",\"#FF6692\",\"#B6E880\",\"#FF97FF\",\"#FECB52\"],\"font\":{\"color\":\"#2a3f5f\"},\"hovermode\":\"closest\",\"hoverlabel\":{\"align\":\"left\"},\"paper_bgcolor\":\"white\",\"plot_bgcolor\":\"#E5ECF6\",\"polar\":{\"bgcolor\":\"#E5ECF6\",\"angularaxis\":{\"gridcolor\":\"white\",\"linecolor\":\"white\",\"ticks\":\"\"},\"radialaxis\":{\"gridcolor\":\"white\",\"linecolor\":\"white\",\"ticks\":\"\"}},\"ternary\":{\"bgcolor\":\"#E5ECF6\",\"aaxis\":{\"gridcolor\":\"white\",\"linecolor\":\"white\",\"ticks\":\"\"},\"baxis\":{\"gridcolor\":\"white\",\"linecolor\":\"white\",\"ticks\":\"\"},\"caxis\":{\"gridcolor\":\"white\",\"linecolor\":\"white\",\"ticks\":\"\"}},\"coloraxis\":{\"colorbar\":{\"outlinewidth\":0,\"ticks\":\"\"}},\"colorscale\":{\"sequential\":[[0.0,\"#0d0887\"],[0.1111111111111111,\"#46039f\"],[0.2222222222222222,\"#7201a8\"],[0.3333333333333333,\"#9c179e\"],[0.4444444444444444,\"#bd3786\"],[0.5555555555555556,\"#d8576b\"],[0.6666666666666666,\"#ed7953\"],[0.7777777777777778,\"#fb9f3a\"],[0.8888888888888888,\"#fdca26\"],[1.0,\"#f0f921\"]],\"sequentialminus\":[[0.0,\"#0d0887\"],[0.1111111111111111,\"#46039f\"],[0.2222222222222222,\"#7201a8\"],[0.3333333333333333,\"#9c179e\"],[0.4444444444444444,\"#bd3786\"],[0.5555555555555556,\"#d8576b\"],[0.6666666666666666,\"#ed7953\"],[0.7777777777777778,\"#fb9f3a\"],[0.8888888888888888,\"#fdca26\"],[1.0,\"#f0f921\"]],\"diverging\":[[0,\"#8e0152\"],[0.1,\"#c51b7d\"],[0.2,\"#de77ae\"],[0.3,\"#f1b6da\"],[0.4,\"#fde0ef\"],[0.5,\"#f7f7f7\"],[0.6,\"#e6f5d0\"],[0.7,\"#b8e186\"],[0.8,\"#7fbc41\"],[0.9,\"#4d9221\"],[1,\"#276419\"]]},\"xaxis\":{\"gridcolor\":\"white\",\"linecolor\":\"white\",\"ticks\":\"\",\"title\":{\"standoff\":15},\"zerolinecolor\":\"white\",\"automargin\":true,\"zerolinewidth\":2},\"yaxis\":{\"gridcolor\":\"white\",\"linecolor\":\"white\",\"ticks\":\"\",\"title\":{\"standoff\":15},\"zerolinecolor\":\"white\",\"automargin\":true,\"zerolinewidth\":2},\"scene\":{\"xaxis\":{\"backgroundcolor\":\"#E5ECF6\",\"gridcolor\":\"white\",\"linecolor\":\"white\",\"showbackground\":true,\"ticks\":\"\",\"zerolinecolor\":\"white\",\"gridwidth\":2},\"yaxis\":{\"backgroundcolor\":\"#E5ECF6\",\"gridcolor\":\"white\",\"linecolor\":\"white\",\"showbackground\":true,\"ticks\":\"\",\"zerolinecolor\":\"white\",\"gridwidth\":2},\"zaxis\":{\"backgroundcolor\":\"#E5ECF6\",\"gridcolor\":\"white\",\"linecolor\":\"white\",\"showbackground\":true,\"ticks\":\"\",\"zerolinecolor\":\"white\",\"gridwidth\":2}},\"shapedefaults\":{\"line\":{\"color\":\"#2a3f5f\"}},\"annotationdefaults\":{\"arrowcolor\":\"#2a3f5f\",\"arrowhead\":0,\"arrowwidth\":1},\"geo\":{\"bgcolor\":\"white\",\"landcolor\":\"#E5ECF6\",\"subunitcolor\":\"white\",\"showland\":true,\"showlakes\":true,\"lakecolor\":\"white\"},\"title\":{\"x\":0.05},\"mapbox\":{\"style\":\"light\"}}},\"margin\":{\"b\":20,\"l\":5,\"r\":5,\"t\":40},\"xaxis\":{\"showgrid\":true,\"zeroline\":false,\"showticklabels\":true,\"tickvals\":[-80.0,-60.0,-40.0,-20.0,0.0,20.0,40.0,60.0],\"ticktext\":[-80.0,-60.0,-40.0,-20.0,0.0,20.0,40.0,60.0]},\"yaxis\":{\"showgrid\":true,\"zeroline\":false,\"showticklabels\":true,\"tickvals\":[-60.0,-40.0,-20.0,0.0,20.0,40.0,60.0,80.0],\"ticktext\":[-60.0,-40.0,-20.0,0.0,20.0,40.0,60.0,80.0]},\"showlegend\":false,\"hovermode\":\"closest\",\"autosize\":false,\"width\":800,\"height\":600},                        {\"responsive\": true}                    ).then(function(){\n",
              "                            \n",
              "var gd = document.getElementById('253c403e-836e-4a38-a681-e1edaa0f5fb1');\n",
              "var x = new MutationObserver(function (mutations, observer) {{\n",
              "        var display = window.getComputedStyle(gd).display;\n",
              "        if (!display || display === 'none') {{\n",
              "            console.log([gd, 'removed!']);\n",
              "            Plotly.purge(gd);\n",
              "            observer.disconnect();\n",
              "        }}\n",
              "}});\n",
              "\n",
              "// Listen for the removal of the full notebook cells\n",
              "var notebookContainer = gd.closest('#notebook-container');\n",
              "if (notebookContainer) {{\n",
              "    x.observe(notebookContainer, {childList: true});\n",
              "}}\n",
              "\n",
              "// Listen for the clearing of the current output cell\n",
              "var outputEl = gd.closest('.output');\n",
              "if (outputEl) {{\n",
              "    x.observe(outputEl, {childList: true});\n",
              "}}\n",
              "\n",
              "                        })                };                            </script>        </div>\n",
              "</body>\n",
              "</html>"
            ]
          },
          "metadata": {}
        }
      ]
    },
    {
      "cell_type": "code",
      "source": [
        "visualize_similar_words_plotly(model, input_word)"
      ],
      "metadata": {
        "colab": {
          "base_uri": "https://localhost:8080/",
          "height": 666
        },
        "id": "DYTWkcGjsbk1",
        "outputId": "80d1dc9f-dc78-46d9-d108-fce37ea934ab"
      },
      "execution_count": null,
      "outputs": [
        {
          "output_type": "stream",
          "name": "stdout",
          "text": [
            "************************************\n",
            "['decanoate', 'perphenazine', 'thioridazine', 'chlorpromazine', 'zotepine', 'zuclopenthixol', 'prochlorperazine', 'paliperidone', 'flupentixol', 'amisulpride']\n",
            "************************************\n",
            "9\n",
            "************************************\n",
            "showing the plot\n"
          ]
        },
        {
          "output_type": "display_data",
          "data": {
            "text/html": [
              "<html>\n",
              "<head><meta charset=\"utf-8\" /></head>\n",
              "<body>\n",
              "    <div>            <script src=\"https://cdnjs.cloudflare.com/ajax/libs/mathjax/2.7.5/MathJax.js?config=TeX-AMS-MML_SVG\"></script><script type=\"text/javascript\">if (window.MathJax && window.MathJax.Hub && window.MathJax.Hub.Config) {window.MathJax.Hub.Config({SVG: {font: \"STIX-Web\"}});}</script>                <script type=\"text/javascript\">window.PlotlyConfig = {MathJaxConfig: 'local'};</script>\n",
              "        <script charset=\"utf-8\" src=\"https://cdn.plot.ly/plotly-2.24.1.min.js\"></script>                <div id=\"29a38836-19f1-4b78-b976-39e31efe52fb\" class=\"plotly-graph-div\" style=\"height:525px; width:100%;\"></div>            <script type=\"text/javascript\">                                    window.PLOTLYENV=window.PLOTLYENV || {};                                    if (document.getElementById(\"29a38836-19f1-4b78-b976-39e31efe52fb\")) {                    Plotly.newPlot(                        \"29a38836-19f1-4b78-b976-39e31efe52fb\",                        [{\"hovertemplate\":\"x=%{x}\\u003cbr\\u003ey=%{y}\\u003cbr\\u003eword=%{text}\\u003cextra\\u003e\\u003c\\u002fextra\\u003e\",\"legendgroup\":\"\",\"marker\":{\"color\":\"#636efa\",\"symbol\":\"circle\"},\"mode\":\"markers+text\",\"name\":\"\",\"orientation\":\"v\",\"showlegend\":false,\"text\":[\"fluphenazine\",\"decanoate\",\"perphenazine\",\"thioridazine\",\"chlorpromazine\",\"zotepine\",\"zuclopenthixol\",\"prochlorperazine\",\"paliperidone\",\"flupentixol\",\"amisulpride\"],\"x\":[10.737119674682617,33.093605041503906,-15.418754577636719,-16.960308074951172,-42.74386215209961,-3.1128969192504883,50.3169059753418,73.7611312866211,-68.62639617919922,27.98309326171875,-43.0539665222168],\"xaxis\":\"x\",\"y\":[-25.338788986206055,2.525405168533325,-2.4342756271362305,-51.66938781738281,-23.63011932373047,30.665546417236328,-25.830251693725586,18.09566307067871,3.3006389141082764,42.47322082519531,27.708040237426758],\"yaxis\":\"y\",\"type\":\"scatter\",\"textposition\":\"top center\"}],                        {\"template\":{\"data\":{\"histogram2dcontour\":[{\"type\":\"histogram2dcontour\",\"colorbar\":{\"outlinewidth\":0,\"ticks\":\"\"},\"colorscale\":[[0.0,\"#0d0887\"],[0.1111111111111111,\"#46039f\"],[0.2222222222222222,\"#7201a8\"],[0.3333333333333333,\"#9c179e\"],[0.4444444444444444,\"#bd3786\"],[0.5555555555555556,\"#d8576b\"],[0.6666666666666666,\"#ed7953\"],[0.7777777777777778,\"#fb9f3a\"],[0.8888888888888888,\"#fdca26\"],[1.0,\"#f0f921\"]]}],\"choropleth\":[{\"type\":\"choropleth\",\"colorbar\":{\"outlinewidth\":0,\"ticks\":\"\"}}],\"histogram2d\":[{\"type\":\"histogram2d\",\"colorbar\":{\"outlinewidth\":0,\"ticks\":\"\"},\"colorscale\":[[0.0,\"#0d0887\"],[0.1111111111111111,\"#46039f\"],[0.2222222222222222,\"#7201a8\"],[0.3333333333333333,\"#9c179e\"],[0.4444444444444444,\"#bd3786\"],[0.5555555555555556,\"#d8576b\"],[0.6666666666666666,\"#ed7953\"],[0.7777777777777778,\"#fb9f3a\"],[0.8888888888888888,\"#fdca26\"],[1.0,\"#f0f921\"]]}],\"heatmap\":[{\"type\":\"heatmap\",\"colorbar\":{\"outlinewidth\":0,\"ticks\":\"\"},\"colorscale\":[[0.0,\"#0d0887\"],[0.1111111111111111,\"#46039f\"],[0.2222222222222222,\"#7201a8\"],[0.3333333333333333,\"#9c179e\"],[0.4444444444444444,\"#bd3786\"],[0.5555555555555556,\"#d8576b\"],[0.6666666666666666,\"#ed7953\"],[0.7777777777777778,\"#fb9f3a\"],[0.8888888888888888,\"#fdca26\"],[1.0,\"#f0f921\"]]}],\"heatmapgl\":[{\"type\":\"heatmapgl\",\"colorbar\":{\"outlinewidth\":0,\"ticks\":\"\"},\"colorscale\":[[0.0,\"#0d0887\"],[0.1111111111111111,\"#46039f\"],[0.2222222222222222,\"#7201a8\"],[0.3333333333333333,\"#9c179e\"],[0.4444444444444444,\"#bd3786\"],[0.5555555555555556,\"#d8576b\"],[0.6666666666666666,\"#ed7953\"],[0.7777777777777778,\"#fb9f3a\"],[0.8888888888888888,\"#fdca26\"],[1.0,\"#f0f921\"]]}],\"contourcarpet\":[{\"type\":\"contourcarpet\",\"colorbar\":{\"outlinewidth\":0,\"ticks\":\"\"}}],\"contour\":[{\"type\":\"contour\",\"colorbar\":{\"outlinewidth\":0,\"ticks\":\"\"},\"colorscale\":[[0.0,\"#0d0887\"],[0.1111111111111111,\"#46039f\"],[0.2222222222222222,\"#7201a8\"],[0.3333333333333333,\"#9c179e\"],[0.4444444444444444,\"#bd3786\"],[0.5555555555555556,\"#d8576b\"],[0.6666666666666666,\"#ed7953\"],[0.7777777777777778,\"#fb9f3a\"],[0.8888888888888888,\"#fdca26\"],[1.0,\"#f0f921\"]]}],\"surface\":[{\"type\":\"surface\",\"colorbar\":{\"outlinewidth\":0,\"ticks\":\"\"},\"colorscale\":[[0.0,\"#0d0887\"],[0.1111111111111111,\"#46039f\"],[0.2222222222222222,\"#7201a8\"],[0.3333333333333333,\"#9c179e\"],[0.4444444444444444,\"#bd3786\"],[0.5555555555555556,\"#d8576b\"],[0.6666666666666666,\"#ed7953\"],[0.7777777777777778,\"#fb9f3a\"],[0.8888888888888888,\"#fdca26\"],[1.0,\"#f0f921\"]]}],\"mesh3d\":[{\"type\":\"mesh3d\",\"colorbar\":{\"outlinewidth\":0,\"ticks\":\"\"}}],\"scatter\":[{\"fillpattern\":{\"fillmode\":\"overlay\",\"size\":10,\"solidity\":0.2},\"type\":\"scatter\"}],\"parcoords\":[{\"type\":\"parcoords\",\"line\":{\"colorbar\":{\"outlinewidth\":0,\"ticks\":\"\"}}}],\"scatterpolargl\":[{\"type\":\"scatterpolargl\",\"marker\":{\"colorbar\":{\"outlinewidth\":0,\"ticks\":\"\"}}}],\"bar\":[{\"error_x\":{\"color\":\"#2a3f5f\"},\"error_y\":{\"color\":\"#2a3f5f\"},\"marker\":{\"line\":{\"color\":\"#E5ECF6\",\"width\":0.5},\"pattern\":{\"fillmode\":\"overlay\",\"size\":10,\"solidity\":0.2}},\"type\":\"bar\"}],\"scattergeo\":[{\"type\":\"scattergeo\",\"marker\":{\"colorbar\":{\"outlinewidth\":0,\"ticks\":\"\"}}}],\"scatterpolar\":[{\"type\":\"scatterpolar\",\"marker\":{\"colorbar\":{\"outlinewidth\":0,\"ticks\":\"\"}}}],\"histogram\":[{\"marker\":{\"pattern\":{\"fillmode\":\"overlay\",\"size\":10,\"solidity\":0.2}},\"type\":\"histogram\"}],\"scattergl\":[{\"type\":\"scattergl\",\"marker\":{\"colorbar\":{\"outlinewidth\":0,\"ticks\":\"\"}}}],\"scatter3d\":[{\"type\":\"scatter3d\",\"line\":{\"colorbar\":{\"outlinewidth\":0,\"ticks\":\"\"}},\"marker\":{\"colorbar\":{\"outlinewidth\":0,\"ticks\":\"\"}}}],\"scattermapbox\":[{\"type\":\"scattermapbox\",\"marker\":{\"colorbar\":{\"outlinewidth\":0,\"ticks\":\"\"}}}],\"scatterternary\":[{\"type\":\"scatterternary\",\"marker\":{\"colorbar\":{\"outlinewidth\":0,\"ticks\":\"\"}}}],\"scattercarpet\":[{\"type\":\"scattercarpet\",\"marker\":{\"colorbar\":{\"outlinewidth\":0,\"ticks\":\"\"}}}],\"carpet\":[{\"aaxis\":{\"endlinecolor\":\"#2a3f5f\",\"gridcolor\":\"white\",\"linecolor\":\"white\",\"minorgridcolor\":\"white\",\"startlinecolor\":\"#2a3f5f\"},\"baxis\":{\"endlinecolor\":\"#2a3f5f\",\"gridcolor\":\"white\",\"linecolor\":\"white\",\"minorgridcolor\":\"white\",\"startlinecolor\":\"#2a3f5f\"},\"type\":\"carpet\"}],\"table\":[{\"cells\":{\"fill\":{\"color\":\"#EBF0F8\"},\"line\":{\"color\":\"white\"}},\"header\":{\"fill\":{\"color\":\"#C8D4E3\"},\"line\":{\"color\":\"white\"}},\"type\":\"table\"}],\"barpolar\":[{\"marker\":{\"line\":{\"color\":\"#E5ECF6\",\"width\":0.5},\"pattern\":{\"fillmode\":\"overlay\",\"size\":10,\"solidity\":0.2}},\"type\":\"barpolar\"}],\"pie\":[{\"automargin\":true,\"type\":\"pie\"}]},\"layout\":{\"autotypenumbers\":\"strict\",\"colorway\":[\"#636efa\",\"#EF553B\",\"#00cc96\",\"#ab63fa\",\"#FFA15A\",\"#19d3f3\",\"#FF6692\",\"#B6E880\",\"#FF97FF\",\"#FECB52\"],\"font\":{\"color\":\"#2a3f5f\"},\"hovermode\":\"closest\",\"hoverlabel\":{\"align\":\"left\"},\"paper_bgcolor\":\"white\",\"plot_bgcolor\":\"#E5ECF6\",\"polar\":{\"bgcolor\":\"#E5ECF6\",\"angularaxis\":{\"gridcolor\":\"white\",\"linecolor\":\"white\",\"ticks\":\"\"},\"radialaxis\":{\"gridcolor\":\"white\",\"linecolor\":\"white\",\"ticks\":\"\"}},\"ternary\":{\"bgcolor\":\"#E5ECF6\",\"aaxis\":{\"gridcolor\":\"white\",\"linecolor\":\"white\",\"ticks\":\"\"},\"baxis\":{\"gridcolor\":\"white\",\"linecolor\":\"white\",\"ticks\":\"\"},\"caxis\":{\"gridcolor\":\"white\",\"linecolor\":\"white\",\"ticks\":\"\"}},\"coloraxis\":{\"colorbar\":{\"outlinewidth\":0,\"ticks\":\"\"}},\"colorscale\":{\"sequential\":[[0.0,\"#0d0887\"],[0.1111111111111111,\"#46039f\"],[0.2222222222222222,\"#7201a8\"],[0.3333333333333333,\"#9c179e\"],[0.4444444444444444,\"#bd3786\"],[0.5555555555555556,\"#d8576b\"],[0.6666666666666666,\"#ed7953\"],[0.7777777777777778,\"#fb9f3a\"],[0.8888888888888888,\"#fdca26\"],[1.0,\"#f0f921\"]],\"sequentialminus\":[[0.0,\"#0d0887\"],[0.1111111111111111,\"#46039f\"],[0.2222222222222222,\"#7201a8\"],[0.3333333333333333,\"#9c179e\"],[0.4444444444444444,\"#bd3786\"],[0.5555555555555556,\"#d8576b\"],[0.6666666666666666,\"#ed7953\"],[0.7777777777777778,\"#fb9f3a\"],[0.8888888888888888,\"#fdca26\"],[1.0,\"#f0f921\"]],\"diverging\":[[0,\"#8e0152\"],[0.1,\"#c51b7d\"],[0.2,\"#de77ae\"],[0.3,\"#f1b6da\"],[0.4,\"#fde0ef\"],[0.5,\"#f7f7f7\"],[0.6,\"#e6f5d0\"],[0.7,\"#b8e186\"],[0.8,\"#7fbc41\"],[0.9,\"#4d9221\"],[1,\"#276419\"]]},\"xaxis\":{\"gridcolor\":\"white\",\"linecolor\":\"white\",\"ticks\":\"\",\"title\":{\"standoff\":15},\"zerolinecolor\":\"white\",\"automargin\":true,\"zerolinewidth\":2},\"yaxis\":{\"gridcolor\":\"white\",\"linecolor\":\"white\",\"ticks\":\"\",\"title\":{\"standoff\":15},\"zerolinecolor\":\"white\",\"automargin\":true,\"zerolinewidth\":2},\"scene\":{\"xaxis\":{\"backgroundcolor\":\"#E5ECF6\",\"gridcolor\":\"white\",\"linecolor\":\"white\",\"showbackground\":true,\"ticks\":\"\",\"zerolinecolor\":\"white\",\"gridwidth\":2},\"yaxis\":{\"backgroundcolor\":\"#E5ECF6\",\"gridcolor\":\"white\",\"linecolor\":\"white\",\"showbackground\":true,\"ticks\":\"\",\"zerolinecolor\":\"white\",\"gridwidth\":2},\"zaxis\":{\"backgroundcolor\":\"#E5ECF6\",\"gridcolor\":\"white\",\"linecolor\":\"white\",\"showbackground\":true,\"ticks\":\"\",\"zerolinecolor\":\"white\",\"gridwidth\":2}},\"shapedefaults\":{\"line\":{\"color\":\"#2a3f5f\"}},\"annotationdefaults\":{\"arrowcolor\":\"#2a3f5f\",\"arrowhead\":0,\"arrowwidth\":1},\"geo\":{\"bgcolor\":\"white\",\"landcolor\":\"#E5ECF6\",\"subunitcolor\":\"white\",\"showland\":true,\"showlakes\":true,\"lakecolor\":\"white\"},\"title\":{\"x\":0.05},\"mapbox\":{\"style\":\"light\"}}},\"xaxis\":{\"anchor\":\"y\",\"domain\":[0.0,1.0],\"title\":{\"text\":\"x\"}},\"yaxis\":{\"anchor\":\"x\",\"domain\":[0.0,1.0],\"title\":{\"text\":\"y\"}},\"legend\":{\"tracegroupgap\":0},\"title\":{\"text\":\"2D visualization of word embeddings\"},\"showlegend\":false},                        {\"responsive\": true}                    ).then(function(){\n",
              "                            \n",
              "var gd = document.getElementById('29a38836-19f1-4b78-b976-39e31efe52fb');\n",
              "var x = new MutationObserver(function (mutations, observer) {{\n",
              "        var display = window.getComputedStyle(gd).display;\n",
              "        if (!display || display === 'none') {{\n",
              "            console.log([gd, 'removed!']);\n",
              "            Plotly.purge(gd);\n",
              "            observer.disconnect();\n",
              "        }}\n",
              "}});\n",
              "\n",
              "// Listen for the removal of the full notebook cells\n",
              "var notebookContainer = gd.closest('#notebook-container');\n",
              "if (notebookContainer) {{\n",
              "    x.observe(notebookContainer, {childList: true});\n",
              "}}\n",
              "\n",
              "// Listen for the clearing of the current output cell\n",
              "var outputEl = gd.closest('.output');\n",
              "if (outputEl) {{\n",
              "    x.observe(outputEl, {childList: true});\n",
              "}}\n",
              "\n",
              "                        })                };                            </script>        </div>\n",
              "</body>\n",
              "</html>"
            ]
          },
          "metadata": {}
        }
      ]
    },
    {
      "cell_type": "code",
      "source": [],
      "metadata": {
        "id": "nQhLcyPJlOdY"
      },
      "execution_count": null,
      "outputs": []
    },
    {
      "cell_type": "markdown",
      "source": [
        "#  Final Visualization"
      ],
      "metadata": {
        "id": "nflhv9cusCvf"
      }
    },
    {
      "cell_type": "code",
      "source": [
        "medication_names = ['chlorpromazine', 'fluphenazine', 'lurasidone', 'carmbamazepine', 'lamotrigine', 'sertraline', 'escitalopram', 'trazodone', 'clonazepam', 'diazepam', 'lorazepam']\n",
        "rehabilitation_strategies = ['psychoeducation', 'adherence therapy', 'cognitive behavioral therapy', 'cbt', 'cognitive remediation therapy', 'crt']\n",
        "clinical_symptoms = ['delusions', 'hallucinations', 'paranoia', 'Restlessness', 'Irritability', 'sadness', 'anxious']\n",
        "clinical_small = ['restlessness', 'irritability']\n",
        "medication_spell = ['carbamazepine']"
      ],
      "metadata": {
        "id": "E2wEsF7Y2-5R"
      },
      "execution_count": null,
      "outputs": []
    },
    {
      "cell_type": "code",
      "source": [
        "failed_terms = []"
      ],
      "metadata": {
        "id": "QoNkj0di6odZ"
      },
      "execution_count": null,
      "outputs": []
    },
    {
      "cell_type": "code",
      "source": [
        "import matplotlib.pyplot as plt\n",
        "from sklearn.manifold import TSNE\n",
        "from gensim.models import Word2Vec\n",
        "import numpy as np\n",
        "from matplotlib.patches import FancyArrowPatch"
      ],
      "metadata": {
        "id": "T93aCo0C4st0"
      },
      "execution_count": null,
      "outputs": []
    },
    {
      "cell_type": "code",
      "source": [
        "def create_and_save_plot(check_word, words):\n",
        "  word_vectors = np.array([model[word] for word in words])\n",
        "\n",
        "  # Convert list to NumPy array\n",
        "\n",
        "  perplexity_value = min(5, len(word_vectors) - 1)\n",
        "\n",
        "  # Use t-SNE for dimensionality reduction\n",
        "  tsne = TSNE(n_components=2, perplexity=perplexity_value, random_state=42)\n",
        "  word_vectors_tsne = tsne.fit_transform(word_vectors)\n",
        "\n",
        "  # Visualization\n",
        "  fig, ax = plt.subplots(figsize=(10, 6))\n",
        "  # Get x, y for first word\n",
        "  x1, y1 = word_vectors_tsne[0]\n",
        "\n",
        "  shifted_xs = word_vectors_tsne[:,0] - x1\n",
        "  shifted_ys = word_vectors_tsne[:,1] - y1\n",
        "\n",
        "  # Scatter plot\n",
        "  ax.scatter(shifted_xs, shifted_ys, c=\"orange\")\n",
        "\n",
        "  # Annotations\n",
        "  for i, word in enumerate(words):\n",
        "      ax.annotate(word, (shifted_xs[i], shifted_ys[i]))\n",
        "\n",
        "  # Lines from origin\n",
        "  for x2, y2 in zip(shifted_xs[1:], shifted_ys[1:]):\n",
        "      ax.plot([0, x2], [0, y2], '-', c=\"#87ceeb\")\n",
        "      # Draw arrow\n",
        "      arrow = FancyArrowPatch((0, 0), (x2, y2), mutation_scale=20, arrowstyle='-|>', color='#87ceeb')\n",
        "      ax.add_patch(arrow)\n",
        "\n",
        "  # Add plot title\n",
        "  ax.set_title(f\"GLOVE- {check_word}\")\n",
        "\n",
        "  # # Add axis labels\n",
        "  # ax.set_xlabel(\"First Dimension\")\n",
        "  # ax.set_ylabel(\"Second Dimension\")\n",
        "\n",
        "  # Show plot\n",
        "  plt.grid(True)\n",
        "  plt.savefig(f'/content/drive/MyDrive/MajorProject/results/generated_images/{check_word}.png')\n",
        "  plt.show()"
      ],
      "metadata": {
        "id": "lDPViYgu323f"
      },
      "execution_count": null,
      "outputs": []
    },
    {
      "cell_type": "code",
      "source": [
        "crt_onlu = ['crt']"
      ],
      "metadata": {
        "id": "QJ-U7DkVhHMT"
      },
      "execution_count": null,
      "outputs": []
    },
    {
      "cell_type": "code",
      "source": [
        "for check_word in crt_onlu:\n",
        "  print(\"*************************************\")\n",
        "  print(f\"Starting loop for {check_word}\")\n",
        "  print(\"*************************************\")\n",
        "\n",
        "  try:\n",
        "    similar_words = model.most_similar(check_word, topn=11)\n",
        "    # Save the similar words to a text file\n",
        "    output_file_path = f\"/content/drive/MyDrive/MajorProject/results/txt_files/{check_word}.txt\"\n",
        "    with open(output_file_path, 'w') as file:\n",
        "        for word, similarity in similar_words:\n",
        "            file.write(f\"{word}: {similarity}\\n\")\n",
        "\n",
        "    # Display the similar words\n",
        "    print(f\"Words similar to {check_word}: {similar_words}\")\n",
        "\n",
        "\n",
        "    # remove a single term/word\n",
        "    similar_words.remove(('研究', 0.6002673506736755))\n",
        "\n",
        "    words_of_interest = [item[0] for item in similar_words]\n",
        "    words = [check_word] + words_of_interest\n",
        "    print(words)\n",
        "\n",
        "\n",
        "    print(\"*************************************\")\n",
        "    print(f\"Generating image for {check_word}\")\n",
        "    create_and_save_plot(check_word, words)\n",
        "    print(\"*************************************\")\n",
        "\n",
        "  except:\n",
        "    failed_terms.append(check_word)\n",
        "\n",
        "  print(\"______________________________________________________________________\")\n"
      ],
      "metadata": {
        "colab": {
          "base_uri": "https://localhost:8080/",
          "height": 721
        },
        "id": "ksM_tYbA325l",
        "outputId": "746905e0-cf69-4790-be24-a0aaeb168a61"
      },
      "execution_count": null,
      "outputs": [
        {
          "output_type": "stream",
          "name": "stdout",
          "text": [
            "*************************************\n",
            "Starting loop for crt\n",
            "*************************************\n",
            "Words similar to crt: [('quadripolar', 0.6768030524253845), ('resynchronization', 0.6649227142333984), ('bt', 0.6445680260658264), ('cct', 0.6136082410812378), ('rt', 0.6131916046142578), ('cst', 0.6031826734542847), ('研究', 0.6002673506736755), ('durability', 0.598570704460144), ('remediation', 0.5853699445724487), ('dbt', 0.574787974357605), ('manualized', 0.5710818767547607)]\n",
            "['crt', 'quadripolar', 'resynchronization', 'bt', 'cct', 'rt', 'cst', 'durability', 'remediation', 'dbt', 'manualized']\n",
            "*************************************\n",
            "Generating image for crt\n"
          ]
        },
        {
          "output_type": "display_data",
          "data": {
            "text/plain": [
              "<Figure size 1000x600 with 1 Axes>"
            ],
            "image/png": "[encoded data removed]"
          },
          "metadata": {}
        },
        {
          "output_type": "stream",
          "name": "stdout",
          "text": [
            "*************************************\n",
            "______________________________________________________________________\n"
          ]
        }
      ]
    },
    {
      "cell_type": "code",
      "source": [
        "failed_terms"
      ],
      "metadata": {
        "colab": {
          "base_uri": "https://localhost:8080/"
        },
        "id": "ibzlsjBA3273",
        "outputId": "d4a65b0d-46b6-4dea-a9cd-b37f09a88649"
      },
      "execution_count": null,
      "outputs": [
        {
          "output_type": "execute_result",
          "data": {
            "text/plain": [
              "['crt']"
            ]
          },
          "metadata": {},
          "execution_count": 7
        }
      ]
    },
    {
      "cell_type": "code",
      "source": [],
      "metadata": {
        "id": "wMjFhpMd33Hr"
      },
      "execution_count": null,
      "outputs": []
    },
    {
      "cell_type": "markdown",
      "source": [
        "# ARCHIVE (code for single word input)"
      ],
      "metadata": {
        "id": "E7ywwkXw8tsj"
      }
    },
    {
      "cell_type": "code",
      "source": [
        "\n",
        "# Find words similar to specified word\n",
        "check_word = \"fluphenazine\"\n",
        "similar_words = model.most_similar(check_word, topn=10)\n",
        "\n",
        "# Save the similar words to a text file\n",
        "output_file_path = f\"/content/drive/MyDrive/MajorProject/results_glove/{check_word}.txt\"\n",
        "with open(output_file_path, 'w') as file:\n",
        "    for word, similarity in similar_words:\n",
        "        file.write(f\"{word}: {similarity}\\n\")\n",
        "\n",
        "# Display the similar words\n",
        "print(f\"Words similar to {check_word}: {similar_words}\")"
      ],
      "metadata": {
        "colab": {
          "base_uri": "https://localhost:8080/"
        },
        "id": "h8i99bEUsQOg",
        "outputId": "7a3c6abd-fd2b-4b3b-cc2c-93ecd7a6a6e2"
      },
      "execution_count": null,
      "outputs": [
        {
          "output_type": "stream",
          "name": "stdout",
          "text": [
            "Words similar to fluphenazine: [('decanoate', 0.8018448948860168), ('perphenazine', 0.7904055714607239), ('thioridazine', 0.7422157526016235), ('chlorpromazine', 0.7247413992881775), ('zotepine', 0.7183387279510498), ('zuclopenthixol', 0.7106744050979614), ('prochlorperazine', 0.7085883021354675), ('paliperidone', 0.6576728820800781), ('flupentixol', 0.6563165783882141), ('amisulpride', 0.6537062525749207)]\n"
          ]
        }
      ]
    },
    {
      "cell_type": "code",
      "source": [
        "words_of_interest = [item[0] for item in similar_words]\n",
        "print(words_of_interest)\n",
        "words = [check_word] + words_of_interest\n",
        "print(words)"
      ],
      "metadata": {
        "colab": {
          "base_uri": "https://localhost:8080/"
        },
        "id": "GXydWab2sywh",
        "outputId": "e6440e0a-1a36-4abb-fda4-1abfa466dc5e"
      },
      "execution_count": null,
      "outputs": [
        {
          "output_type": "stream",
          "name": "stdout",
          "text": [
            "['decanoate', 'perphenazine', 'thioridazine', 'chlorpromazine', 'zotepine', 'zuclopenthixol', 'prochlorperazine', 'paliperidone', 'flupentixol', 'amisulpride']\n",
            "['fluphenazine', 'decanoate', 'perphenazine', 'thioridazine', 'chlorpromazine', 'zotepine', 'zuclopenthixol', 'prochlorperazine', 'paliperidone', 'flupentixol', 'amisulpride']\n"
          ]
        }
      ]
    },
    {
      "cell_type": "code",
      "source": [
        "import matplotlib.pyplot as plt\n",
        "from sklearn.manifold import TSNE\n",
        "from gensim.models import Word2Vec\n",
        "import numpy as np\n",
        "from matplotlib.patches import FancyArrowPatch\n",
        "\n",
        "# Load the trained Word2Vec model\n",
        "# model_path = \"/content/drive/MyDrive/Word2Vec/2_word2vec_model.model\"\n",
        "# word2vec_model = Word2Vec.load(model_path)\n",
        "# Retrieve word vectors for a subset of words\n",
        "# words_of_interest_chlor = ['Chlorpromazine', 'fluphenazine', 'haloperidol', 'perphenazine', 'blonanserin', 'amisulpride', 'flupenthixol', 'zotepine', 'CPZ', 'levomepromazine']\n",
        "# words_of_interest_fluph = ['perphenazine','flupenthixol','decanoate','flupentixol','bromperidol','zuclopenthixol','melperone','levomepromazine','tiapride','zotepine']\n",
        "word_vectors = np.array([model[word] for word in words])\n",
        "\n",
        "# Convert list to NumPy array\n",
        "\n",
        "perplexity_value = min(5, len(word_vectors) - 1)\n",
        "\n",
        "# Use t-SNE for dimensionality reduction\n",
        "tsne = TSNE(n_components=2, perplexity=perplexity_value, random_state=42)\n",
        "word_vectors_tsne = tsne.fit_transform(word_vectors)\n",
        "\n",
        "# Visualization\n",
        "fig, ax = plt.subplots(figsize=(10, 6))\n",
        "# Get x, y for first word\n",
        "x1, y1 = word_vectors_tsne[0]\n",
        "\n",
        "shifted_xs = word_vectors_tsne[:,0] - x1\n",
        "shifted_ys = word_vectors_tsne[:,1] - y1\n",
        "\n",
        "# Scatter plot\n",
        "ax.scatter(shifted_xs, shifted_ys, c=\"orange\")\n",
        "\n",
        "# Annotations\n",
        "for i, word in enumerate(words):\n",
        "    ax.annotate(word, (shifted_xs[i], shifted_ys[i]))\n",
        "\n",
        "# Lines from origin\n",
        "for x2, y2 in zip(shifted_xs[1:], shifted_ys[1:]):\n",
        "    ax.plot([0, x2], [0, y2], '-', c=\"#87ceeb\")\n",
        "    # Draw arrow\n",
        "    arrow = FancyArrowPatch((0, 0), (x2, y2), mutation_scale=20, arrowstyle='-|>', color='#87ceeb')\n",
        "    ax.add_patch(arrow)\n",
        "\n",
        "# Add plot title\n",
        "ax.set_title(\"GLOVE-fluphenazine\")\n",
        "\n",
        "# # Add axis labels\n",
        "# ax.set_xlabel(\"First Dimension\")\n",
        "# ax.set_ylabel(\"Second Dimension\")\n",
        "\n",
        "# Show plot\n",
        "plt.grid(True)\n",
        "plt.show()"
      ],
      "metadata": {
        "id": "IeLTJf-AlOg4"
      },
      "execution_count": null,
      "outputs": []
    },
    {
      "cell_type": "code",
      "source": [],
      "metadata": {
        "id": "VxnSyID3sB8S"
      },
      "execution_count": null,
      "outputs": []
    },
    {
      "cell_type": "code",
      "source": [],
      "metadata": {
        "id": "57EPADVGsB-4"
      },
      "execution_count": null,
      "outputs": []
    },
    {
      "cell_type": "code",
      "source": [],
      "metadata": {
        "id": "ivfkE-slsCCP"
      },
      "execution_count": null,
      "outputs": []
    }
  ]
}